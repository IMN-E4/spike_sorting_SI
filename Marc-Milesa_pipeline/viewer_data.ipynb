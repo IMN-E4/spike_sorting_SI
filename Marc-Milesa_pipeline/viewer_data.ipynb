{
 "cells": [
  {
   "cell_type": "code",
   "execution_count": 2,
   "metadata": {},
   "outputs": [],
   "source": [
    "%matplotlib widget\n",
    "%load_ext autoreload\n",
    "\n",
    "%autoreload 2"
   ]
  },
  {
   "cell_type": "code",
   "execution_count": 3,
   "metadata": {},
   "outputs": [],
   "source": [
    "\n",
    "import spikeinterface.full as si\n",
    "from pathlib import Path\n",
    "import numpy as np\n",
    "from pipeline_adapted import prepare_recs"
   ]
  },
  {
   "cell_type": "code",
   "execution_count": 4,
   "metadata": {},
   "outputs": [
    {
     "name": "stdout",
     "output_type": "stream",
     "text": [
      "[PosixPath('/data2/MilesasData/dataset/221114_Hav_0000.raw'), PosixPath('/data2/MilesasData/dataset/221114_Hav_0001.raw'), PosixPath('/data2/MilesasData/dataset/221114_Hav_0002.raw'), PosixPath('/data2/MilesasData/dataset/221114_Hav_0003.raw'), PosixPath('/data2/MilesasData/dataset/221114_Hav_0004.raw'), PosixPath('/data2/MilesasData/dataset/221114_Hav_0005.raw'), PosixPath('/data2/MilesasData/dataset/221114_Hav_0006.raw'), PosixPath('/data2/MilesasData/dataset/221114_Hav_0007.raw'), PosixPath('/data2/MilesasData/dataset/221114_Hav_0008.raw'), PosixPath('/data2/MilesasData/dataset/221114_Hav_0009.raw'), PosixPath('/data2/MilesasData/dataset/221114_Hav_0010.raw'), PosixPath('/data2/MilesasData/dataset/221114_Hav_0011.raw'), PosixPath('/data2/MilesasData/dataset/221114_Hav_0012.raw')]\n"
     ]
    }
   ],
   "source": [
    "base_input_folder = Path(\n",
    "    \"/data2/MilesasData/dataset/\"\n",
    ")\n",
    "\n",
    "files = list(base_input_folder.glob('*.raw'))\n",
    "file_num = [int(f.stem.split('_')[-1]) for f in files]\n",
    "order = np.argsort(file_num)\n",
    "files = [files[i] for i in order]\n",
    "print(files)\n",
    "files = files[1:]"
   ]
  },
  {
   "cell_type": "code",
   "execution_count": 8,
   "metadata": {},
   "outputs": [
    {
     "name": "stdout",
     "output_type": "stream",
     "text": [
      "BinaryRecordingExtractor: 32 channels - 12 segments - 20.0kHz - 2158.804s\n",
      "  file_paths: ['/data2/MilesasData/dataset/221114_Hav_0001.raw', '/data2/MilesasData/dataset/221114_Hav_0002.raw', '/data2/MilesasData/dataset/221114_Hav_0003.raw', '/data2/MilesasData/dataset/221114_Hav_0004.raw', '/data2/MilesasData/dataset/221114_Hav_0005.raw', '/data2/MilesasData/dataset/221114_Hav_0006.raw', '/data2/MilesasData/dataset/221114_Hav_0007.raw', '/data2/MilesasData/dataset/221114_Hav_0008.raw', '/data2/MilesasData/dataset/221114_Hav_0009.raw', '/data2/MilesasData/dataset/221114_Hav_0010.raw', '/data2/MilesasData/dataset/221114_Hav_0011.raw', '/data2/MilesasData/dataset/221114_Hav_0012.raw']\n",
      "{0: ChannelSliceRecording: 1 channels - 12 segments - 20.0kHz - 2158.804s, 1: ChannelSliceRecording: 1 channels - 12 segments - 20.0kHz - 2158.804s, 2: ChannelSliceRecording: 1 channels - 12 segments - 20.0kHz - 2158.804s, 3: ChannelSliceRecording: 1 channels - 12 segments - 20.0kHz - 2158.804s, 4: ChannelSliceRecording: 1 channels - 12 segments - 20.0kHz - 2158.804s, 5: ChannelSliceRecording: 1 channels - 12 segments - 20.0kHz - 2158.804s, 6: ChannelSliceRecording: 1 channels - 12 segments - 20.0kHz - 2158.804s, 7: ChannelSliceRecording: 1 channels - 12 segments - 20.0kHz - 2158.804s, 8: ChannelSliceRecording: 1 channels - 12 segments - 20.0kHz - 2158.804s, 9: ChannelSliceRecording: 1 channels - 12 segments - 20.0kHz - 2158.804s, 10: ChannelSliceRecording: 1 channels - 12 segments - 20.0kHz - 2158.804s, 11: ChannelSliceRecording: 1 channels - 12 segments - 20.0kHz - 2158.804s, 12: ChannelSliceRecording: 1 channels - 12 segments - 20.0kHz - 2158.804s, 13: ChannelSliceRecording: 1 channels - 12 segments - 20.0kHz - 2158.804s, 14: ChannelSliceRecording: 1 channels - 12 segments - 20.0kHz - 2158.804s, 15: ChannelSliceRecording: 1 channels - 12 segments - 20.0kHz - 2158.804s, 16: ChannelSliceRecording: 1 channels - 12 segments - 20.0kHz - 2158.804s, 17: ChannelSliceRecording: 1 channels - 12 segments - 20.0kHz - 2158.804s, 18: ChannelSliceRecording: 1 channels - 12 segments - 20.0kHz - 2158.804s, 19: ChannelSliceRecording: 1 channels - 12 segments - 20.0kHz - 2158.804s, 20: ChannelSliceRecording: 1 channels - 12 segments - 20.0kHz - 2158.804s, 21: ChannelSliceRecording: 1 channels - 12 segments - 20.0kHz - 2158.804s, 22: ChannelSliceRecording: 1 channels - 12 segments - 20.0kHz - 2158.804s, 23: ChannelSliceRecording: 1 channels - 12 segments - 20.0kHz - 2158.804s, 24: ChannelSliceRecording: 1 channels - 12 segments - 20.0kHz - 2158.804s, 25: ChannelSliceRecording: 1 channels - 12 segments - 20.0kHz - 2158.804s, 26: ChannelSliceRecording: 1 channels - 12 segments - 20.0kHz - 2158.804s, 27: ChannelSliceRecording: 1 channels - 12 segments - 20.0kHz - 2158.804s, 28: ChannelSliceRecording: 1 channels - 12 segments - 20.0kHz - 2158.804s, 29: ChannelSliceRecording: 1 channels - 12 segments - 20.0kHz - 2158.804s, 30: ChannelSliceRecording: 1 channels - 12 segments - 20.0kHz - 2158.804s, 31: ChannelSliceRecording: 1 channels - 12 segments - 20.0kHz - 2158.804s}\n"
     ]
    }
   ],
   "source": [
    "splitted_rec = prepare_recs(files)\n",
    "print(splitted_rec)"
   ]
  },
  {
   "cell_type": "code",
   "execution_count": 9,
   "metadata": {},
   "outputs": [
    {
     "data": {
      "application/vnd.jupyter.widget-view+json": {
       "model_id": "ecd31de0fe1744b3b5870db231eb4172",
       "version_major": 2,
       "version_minor": 0
      },
      "text/plain": [
       "AppLayout(children=(VBox(children=(FloatSlider(value=0.0, continuous_update=False, description='time:', layout…"
      ]
     },
     "metadata": {},
     "output_type": "display_data"
    },
    {
     "data": {
      "text/plain": [
       "<spikeinterface.widgets.ipywidgets.timeseries.TimeseriesPlotter at 0x7f45cd5df340>"
      ]
     },
     "execution_count": 9,
     "metadata": {},
     "output_type": "execute_result"
    }
   ],
   "source": [
    "si.plot_timeseries(splitted_rec[8], backend='ipywidgets', segment_index=0)"
   ]
  },
  {
   "cell_type": "code",
   "execution_count": null,
   "metadata": {},
   "outputs": [],
   "source": [
    "si.plot_timeseries?"
   ]
  },
  {
   "cell_type": "code",
   "execution_count": 5,
   "metadata": {},
   "outputs": [],
   "source": [
    "# view sorting\n",
    "sorting_path = Path('/data2/MilesasData/dataset/run_18012023_16072/contact_8/sorting_tridesclous_clean/')"
   ]
  },
  {
   "cell_type": "code",
   "execution_count": 8,
   "metadata": {},
   "outputs": [],
   "source": [
    "sorting = si.load_extractor(sorting_path)"
   ]
  },
  {
   "cell_type": "code",
   "execution_count": 25,
   "metadata": {},
   "outputs": [
    {
     "name": "stdout",
     "output_type": "stream",
     "text": [
      "0\n",
      "1\n",
      "2\n",
      "3\n",
      "4\n",
      "5\n",
      "6\n",
      "7\n",
      "8\n",
      "9\n",
      "10\n",
      "11\n"
     ]
    }
   ],
   "source": [
    "for segment in range(12):\n",
    "    print(segment)\n",
    "    spks = sorting.get_unit_spike_train(unit_id=1, segment_index=segment, return_times=True)\n",
    "    np.savetxt(sorting_path/f'spiketrain_seg_{segment}', spks)"
   ]
  }
 ],
 "metadata": {
  "kernelspec": {
   "display_name": "Python 3 (ipykernel)",
   "language": "python",
   "name": "python3"
  },
  "language_info": {
   "codemirror_mode": {
    "name": "ipython",
    "version": 3
   },
   "file_extension": ".py",
   "mimetype": "text/x-python",
   "name": "python",
   "nbconvert_exporter": "python",
   "pygments_lexer": "ipython3",
   "version": "3.10.6"
  },
  "vscode": {
   "interpreter": {
    "hash": "1ae66d4f553a2cfdf49ffdb148f0a010225e81b9c5cd813313cd759aaca7fe83"
   }
  }
 },
 "nbformat": 4,
 "nbformat_minor": 4
}
