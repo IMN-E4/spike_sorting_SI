{
 "cells": [
  {
   "cell_type": "code",
   "execution_count": 1,
   "metadata": {},
   "outputs": [],
   "source": [
    "import spikeinterface.full as si\n",
    "import glob\n",
    "from pathlib import Path\n",
    "import numpy as np\n",
    "import matplotlib.pyplot as plt\n",
    "from probeinterface.plotting import plot_probe\n",
    "%matplotlib qt \n",
    "\n",
    "# Paths\n",
    "base_folder = Path('/home/admin/smb4k/NAS5802A5.LOCAL/Public/Neuropixel_Recordings/Imp_10_11_2021/') \n",
    "folders = sorted(glob.glob((base_folder / 'Rec_*_g0').as_posix()))"
   ]
  },
  {
   "cell_type": "code",
   "execution_count": 2,
   "metadata": {},
   "outputs": [
    {
     "data": {
      "text/plain": [
       "['/home/admin/smb4k/NAS5802A5.LOCAL/Public/Neuropixel_Recordings/Imp_10_11_2021/Rec_10_22_11_2021_g0',\n",
       " '/home/admin/smb4k/NAS5802A5.LOCAL/Public/Neuropixel_Recordings/Imp_10_11_2021/Rec_11_24_11_2021_g0',\n",
       " '/home/admin/smb4k/NAS5802A5.LOCAL/Public/Neuropixel_Recordings/Imp_10_11_2021/Rec_12_22_11_2021_g0',\n",
       " '/home/admin/smb4k/NAS5802A5.LOCAL/Public/Neuropixel_Recordings/Imp_10_11_2021/Rec_13_22_11_2021_g0',\n",
       " '/home/admin/smb4k/NAS5802A5.LOCAL/Public/Neuropixel_Recordings/Imp_10_11_2021/Rec_14_22_11_2021_g0',\n",
       " '/home/admin/smb4k/NAS5802A5.LOCAL/Public/Neuropixel_Recordings/Imp_10_11_2021/Rec_1_18_11_2021_g0',\n",
       " '/home/admin/smb4k/NAS5802A5.LOCAL/Public/Neuropixel_Recordings/Imp_10_11_2021/Rec_2_19_11_2021_g0',\n",
       " '/home/admin/smb4k/NAS5802A5.LOCAL/Public/Neuropixel_Recordings/Imp_10_11_2021/Rec_3_19_11_2021_g0',\n",
       " '/home/admin/smb4k/NAS5802A5.LOCAL/Public/Neuropixel_Recordings/Imp_10_11_2021/Rec_4_19_11_2021_g0',\n",
       " '/home/admin/smb4k/NAS5802A5.LOCAL/Public/Neuropixel_Recordings/Imp_10_11_2021/Rec_5_19_11_2021_g0',\n",
       " '/home/admin/smb4k/NAS5802A5.LOCAL/Public/Neuropixel_Recordings/Imp_10_11_2021/Rec_6_22_11_2021_g0',\n",
       " '/home/admin/smb4k/NAS5802A5.LOCAL/Public/Neuropixel_Recordings/Imp_10_11_2021/Rec_7_22_11_2021_g0',\n",
       " '/home/admin/smb4k/NAS5802A5.LOCAL/Public/Neuropixel_Recordings/Imp_10_11_2021/Rec_8_22_11_2021_g0']"
      ]
     },
     "execution_count": 2,
     "metadata": {},
     "output_type": "execute_result"
    }
   ],
   "source": [
    "folders"
   ]
  },
  {
   "cell_type": "code",
   "execution_count": 3,
   "metadata": {},
   "outputs": [
    {
     "name": "stdout",
     "output_type": "stream",
     "text": [
      "/home/admin/smb4k/NAS5802A5.LOCAL/Public/Neuropixel_Recordings/Imp_10_11_2021/Rec_6_22_11_2021_g0\n"
     ]
    }
   ],
   "source": [
    "folder= folders[-3]\n",
    "print(folder)\n",
    "output_folder = Path('/home/e4/Documents/temporary_rec6/')\n",
    "#output_folder.mkdir(exist_ok=True, parents=True)"
   ]
  },
  {
   "cell_type": "code",
   "execution_count": 4,
   "metadata": {},
   "outputs": [
    {
     "name": "stdout",
     "output_type": "stream",
     "text": [
      "SpikeGLXRecordingExtractor: 384 channels - 1 segments - 2.5kHz - 37446.090s\n"
     ]
    }
   ],
   "source": [
    "rec_lf = si.SpikeGLXRecordingExtractor(folder, stream_id='imec0.lf') # LF\n",
    "print(rec_lf)"
   ]
  },
  {
   "cell_type": "code",
   "execution_count": 5,
   "metadata": {},
   "outputs": [
    {
     "data": {
      "text/plain": [
       "array(['imec0.lf#LF0', 'imec0.lf#LF1', 'imec0.lf#LF2', 'imec0.lf#LF3',\n",
       "       'imec0.lf#LF4', 'imec0.lf#LF5', 'imec0.lf#LF6', 'imec0.lf#LF7',\n",
       "       'imec0.lf#LF8', 'imec0.lf#LF9', 'imec0.lf#LF10', 'imec0.lf#LF11',\n",
       "       'imec0.lf#LF12', 'imec0.lf#LF13', 'imec0.lf#LF14', 'imec0.lf#LF15',\n",
       "       'imec0.lf#LF16', 'imec0.lf#LF17', 'imec0.lf#LF18', 'imec0.lf#LF19',\n",
       "       'imec0.lf#LF20', 'imec0.lf#LF21', 'imec0.lf#LF22', 'imec0.lf#LF23',\n",
       "       'imec0.lf#LF24', 'imec0.lf#LF25', 'imec0.lf#LF26', 'imec0.lf#LF27',\n",
       "       'imec0.lf#LF28', 'imec0.lf#LF29', 'imec0.lf#LF30', 'imec0.lf#LF31',\n",
       "       'imec0.lf#LF32', 'imec0.lf#LF33', 'imec0.lf#LF34', 'imec0.lf#LF35',\n",
       "       'imec0.lf#LF36', 'imec0.lf#LF37', 'imec0.lf#LF38', 'imec0.lf#LF39',\n",
       "       'imec0.lf#LF40', 'imec0.lf#LF41', 'imec0.lf#LF42', 'imec0.lf#LF43',\n",
       "       'imec0.lf#LF44', 'imec0.lf#LF45', 'imec0.lf#LF46', 'imec0.lf#LF47',\n",
       "       'imec0.lf#LF48', 'imec0.lf#LF49', 'imec0.lf#LF50', 'imec0.lf#LF51',\n",
       "       'imec0.lf#LF52', 'imec0.lf#LF53', 'imec0.lf#LF54', 'imec0.lf#LF55',\n",
       "       'imec0.lf#LF56', 'imec0.lf#LF57', 'imec0.lf#LF58', 'imec0.lf#LF59',\n",
       "       'imec0.lf#LF60', 'imec0.lf#LF61', 'imec0.lf#LF62', 'imec0.lf#LF63',\n",
       "       'imec0.lf#LF64', 'imec0.lf#LF65', 'imec0.lf#LF66', 'imec0.lf#LF67',\n",
       "       'imec0.lf#LF68', 'imec0.lf#LF69', 'imec0.lf#LF70', 'imec0.lf#LF71',\n",
       "       'imec0.lf#LF72', 'imec0.lf#LF73', 'imec0.lf#LF74', 'imec0.lf#LF75',\n",
       "       'imec0.lf#LF76', 'imec0.lf#LF77', 'imec0.lf#LF78', 'imec0.lf#LF79',\n",
       "       'imec0.lf#LF80', 'imec0.lf#LF81', 'imec0.lf#LF82', 'imec0.lf#LF83',\n",
       "       'imec0.lf#LF84', 'imec0.lf#LF85', 'imec0.lf#LF86', 'imec0.lf#LF87',\n",
       "       'imec0.lf#LF88', 'imec0.lf#LF89', 'imec0.lf#LF90', 'imec0.lf#LF91',\n",
       "       'imec0.lf#LF92', 'imec0.lf#LF93', 'imec0.lf#LF94', 'imec0.lf#LF95',\n",
       "       'imec0.lf#LF96', 'imec0.lf#LF97', 'imec0.lf#LF98', 'imec0.lf#LF99',\n",
       "       'imec0.lf#LF100', 'imec0.lf#LF101', 'imec0.lf#LF102',\n",
       "       'imec0.lf#LF103', 'imec0.lf#LF104', 'imec0.lf#LF105',\n",
       "       'imec0.lf#LF106', 'imec0.lf#LF107', 'imec0.lf#LF108',\n",
       "       'imec0.lf#LF109', 'imec0.lf#LF110', 'imec0.lf#LF111',\n",
       "       'imec0.lf#LF112', 'imec0.lf#LF113', 'imec0.lf#LF114',\n",
       "       'imec0.lf#LF115', 'imec0.lf#LF116', 'imec0.lf#LF117',\n",
       "       'imec0.lf#LF118', 'imec0.lf#LF119', 'imec0.lf#LF120',\n",
       "       'imec0.lf#LF121', 'imec0.lf#LF122', 'imec0.lf#LF123',\n",
       "       'imec0.lf#LF124', 'imec0.lf#LF125', 'imec0.lf#LF126',\n",
       "       'imec0.lf#LF127', 'imec0.lf#LF128', 'imec0.lf#LF129',\n",
       "       'imec0.lf#LF130', 'imec0.lf#LF131', 'imec0.lf#LF132',\n",
       "       'imec0.lf#LF133', 'imec0.lf#LF134', 'imec0.lf#LF135',\n",
       "       'imec0.lf#LF136', 'imec0.lf#LF137', 'imec0.lf#LF138',\n",
       "       'imec0.lf#LF139', 'imec0.lf#LF140', 'imec0.lf#LF141',\n",
       "       'imec0.lf#LF142', 'imec0.lf#LF143', 'imec0.lf#LF144',\n",
       "       'imec0.lf#LF145', 'imec0.lf#LF146', 'imec0.lf#LF147',\n",
       "       'imec0.lf#LF148', 'imec0.lf#LF149', 'imec0.lf#LF150',\n",
       "       'imec0.lf#LF151', 'imec0.lf#LF152', 'imec0.lf#LF153',\n",
       "       'imec0.lf#LF154', 'imec0.lf#LF155', 'imec0.lf#LF156',\n",
       "       'imec0.lf#LF157', 'imec0.lf#LF158', 'imec0.lf#LF159',\n",
       "       'imec0.lf#LF160', 'imec0.lf#LF161', 'imec0.lf#LF162',\n",
       "       'imec0.lf#LF163', 'imec0.lf#LF164', 'imec0.lf#LF165',\n",
       "       'imec0.lf#LF166', 'imec0.lf#LF167', 'imec0.lf#LF168',\n",
       "       'imec0.lf#LF169', 'imec0.lf#LF170', 'imec0.lf#LF171',\n",
       "       'imec0.lf#LF172', 'imec0.lf#LF173', 'imec0.lf#LF174',\n",
       "       'imec0.lf#LF175', 'imec0.lf#LF176', 'imec0.lf#LF177',\n",
       "       'imec0.lf#LF178', 'imec0.lf#LF179', 'imec0.lf#LF180',\n",
       "       'imec0.lf#LF181', 'imec0.lf#LF182', 'imec0.lf#LF183',\n",
       "       'imec0.lf#LF184', 'imec0.lf#LF185', 'imec0.lf#LF186',\n",
       "       'imec0.lf#LF187', 'imec0.lf#LF188', 'imec0.lf#LF189',\n",
       "       'imec0.lf#LF190', 'imec0.lf#LF191', 'imec0.lf#LF192',\n",
       "       'imec0.lf#LF193', 'imec0.lf#LF194', 'imec0.lf#LF195',\n",
       "       'imec0.lf#LF196', 'imec0.lf#LF197', 'imec0.lf#LF198',\n",
       "       'imec0.lf#LF199', 'imec0.lf#LF200', 'imec0.lf#LF201',\n",
       "       'imec0.lf#LF202', 'imec0.lf#LF203', 'imec0.lf#LF204',\n",
       "       'imec0.lf#LF205', 'imec0.lf#LF206', 'imec0.lf#LF207',\n",
       "       'imec0.lf#LF208', 'imec0.lf#LF209', 'imec0.lf#LF210',\n",
       "       'imec0.lf#LF211', 'imec0.lf#LF212', 'imec0.lf#LF213',\n",
       "       'imec0.lf#LF214', 'imec0.lf#LF215', 'imec0.lf#LF216',\n",
       "       'imec0.lf#LF217', 'imec0.lf#LF218', 'imec0.lf#LF219',\n",
       "       'imec0.lf#LF220', 'imec0.lf#LF221', 'imec0.lf#LF222',\n",
       "       'imec0.lf#LF223', 'imec0.lf#LF224', 'imec0.lf#LF225',\n",
       "       'imec0.lf#LF226', 'imec0.lf#LF227', 'imec0.lf#LF228',\n",
       "       'imec0.lf#LF229', 'imec0.lf#LF230', 'imec0.lf#LF231',\n",
       "       'imec0.lf#LF232', 'imec0.lf#LF233', 'imec0.lf#LF234',\n",
       "       'imec0.lf#LF235', 'imec0.lf#LF236', 'imec0.lf#LF237',\n",
       "       'imec0.lf#LF238', 'imec0.lf#LF239', 'imec0.lf#LF240',\n",
       "       'imec0.lf#LF241', 'imec0.lf#LF242', 'imec0.lf#LF243',\n",
       "       'imec0.lf#LF244', 'imec0.lf#LF245', 'imec0.lf#LF246',\n",
       "       'imec0.lf#LF247', 'imec0.lf#LF248', 'imec0.lf#LF249',\n",
       "       'imec0.lf#LF250', 'imec0.lf#LF251', 'imec0.lf#LF252',\n",
       "       'imec0.lf#LF253', 'imec0.lf#LF254', 'imec0.lf#LF255',\n",
       "       'imec0.lf#LF256', 'imec0.lf#LF257', 'imec0.lf#LF258',\n",
       "       'imec0.lf#LF259', 'imec0.lf#LF260', 'imec0.lf#LF261',\n",
       "       'imec0.lf#LF262', 'imec0.lf#LF263', 'imec0.lf#LF264',\n",
       "       'imec0.lf#LF265', 'imec0.lf#LF266', 'imec0.lf#LF267',\n",
       "       'imec0.lf#LF268', 'imec0.lf#LF269', 'imec0.lf#LF270',\n",
       "       'imec0.lf#LF271', 'imec0.lf#LF272', 'imec0.lf#LF273',\n",
       "       'imec0.lf#LF274', 'imec0.lf#LF275', 'imec0.lf#LF276',\n",
       "       'imec0.lf#LF277', 'imec0.lf#LF278', 'imec0.lf#LF279',\n",
       "       'imec0.lf#LF280', 'imec0.lf#LF281', 'imec0.lf#LF282',\n",
       "       'imec0.lf#LF283', 'imec0.lf#LF284', 'imec0.lf#LF285',\n",
       "       'imec0.lf#LF286', 'imec0.lf#LF287', 'imec0.lf#LF288',\n",
       "       'imec0.lf#LF289', 'imec0.lf#LF290', 'imec0.lf#LF291',\n",
       "       'imec0.lf#LF292', 'imec0.lf#LF293', 'imec0.lf#LF294',\n",
       "       'imec0.lf#LF295', 'imec0.lf#LF296', 'imec0.lf#LF297',\n",
       "       'imec0.lf#LF298', 'imec0.lf#LF299', 'imec0.lf#LF300',\n",
       "       'imec0.lf#LF301', 'imec0.lf#LF302', 'imec0.lf#LF303',\n",
       "       'imec0.lf#LF304', 'imec0.lf#LF305', 'imec0.lf#LF306',\n",
       "       'imec0.lf#LF307', 'imec0.lf#LF308', 'imec0.lf#LF309',\n",
       "       'imec0.lf#LF310', 'imec0.lf#LF311', 'imec0.lf#LF312',\n",
       "       'imec0.lf#LF313', 'imec0.lf#LF314', 'imec0.lf#LF315',\n",
       "       'imec0.lf#LF316', 'imec0.lf#LF317', 'imec0.lf#LF318',\n",
       "       'imec0.lf#LF319', 'imec0.lf#LF320', 'imec0.lf#LF321',\n",
       "       'imec0.lf#LF322', 'imec0.lf#LF323', 'imec0.lf#LF324',\n",
       "       'imec0.lf#LF325', 'imec0.lf#LF326', 'imec0.lf#LF327',\n",
       "       'imec0.lf#LF328', 'imec0.lf#LF329', 'imec0.lf#LF330',\n",
       "       'imec0.lf#LF331', 'imec0.lf#LF332', 'imec0.lf#LF333',\n",
       "       'imec0.lf#LF334', 'imec0.lf#LF335', 'imec0.lf#LF336',\n",
       "       'imec0.lf#LF337', 'imec0.lf#LF338', 'imec0.lf#LF339',\n",
       "       'imec0.lf#LF340', 'imec0.lf#LF341', 'imec0.lf#LF342',\n",
       "       'imec0.lf#LF343', 'imec0.lf#LF344', 'imec0.lf#LF345',\n",
       "       'imec0.lf#LF346', 'imec0.lf#LF347', 'imec0.lf#LF348',\n",
       "       'imec0.lf#LF349', 'imec0.lf#LF350', 'imec0.lf#LF351',\n",
       "       'imec0.lf#LF352', 'imec0.lf#LF353', 'imec0.lf#LF354',\n",
       "       'imec0.lf#LF355', 'imec0.lf#LF356', 'imec0.lf#LF357',\n",
       "       'imec0.lf#LF358', 'imec0.lf#LF359', 'imec0.lf#LF360',\n",
       "       'imec0.lf#LF361', 'imec0.lf#LF362', 'imec0.lf#LF363',\n",
       "       'imec0.lf#LF364', 'imec0.lf#LF365', 'imec0.lf#LF366',\n",
       "       'imec0.lf#LF367', 'imec0.lf#LF368', 'imec0.lf#LF369',\n",
       "       'imec0.lf#LF370', 'imec0.lf#LF371', 'imec0.lf#LF372',\n",
       "       'imec0.lf#LF373', 'imec0.lf#LF374', 'imec0.lf#LF375',\n",
       "       'imec0.lf#LF376', 'imec0.lf#LF377', 'imec0.lf#LF378',\n",
       "       'imec0.lf#LF379', 'imec0.lf#LF380', 'imec0.lf#LF381',\n",
       "       'imec0.lf#LF382', 'imec0.lf#LF383'], dtype='<U64')"
      ]
     },
     "execution_count": 5,
     "metadata": {},
     "output_type": "execute_result"
    }
   ],
   "source": [
    "rec_lf.channel_ids"
   ]
  },
  {
   "cell_type": "code",
   "execution_count": 6,
   "metadata": {},
   "outputs": [],
   "source": [
    "# Bird1 : LMAN 'safe' channels: 202-236; AreaX: 50-176 (Nchan slightly overestimating)\n",
    "areaX_channels = rec_lf.channel_ids[50:190][::10] # to make multiples of 10\n",
    "lman_channels = rec_lf.channel_ids[202:252][::10]  # to make multiples of 10\n",
    "unit_related_channels = [\n",
    "'imec0.lf#LF224'\n",
    "] # got this from filter+cmr_radius/tridesclous/\n",
    "\n",
    "selection_list = np.concatenate([areaX_channels, lman_channels, unit_related_channels])"
   ]
  },
  {
   "cell_type": "code",
   "execution_count": 7,
   "metadata": {},
   "outputs": [
    {
     "name": "stdout",
     "output_type": "stream",
     "text": [
      "['imec0.lf#LF100', 'imec0.lf#LF110', 'imec0.lf#LF120', 'imec0.lf#LF130', 'imec0.lf#LF140', 'imec0.lf#LF150', 'imec0.lf#LF160', 'imec0.lf#LF170', 'imec0.lf#LF180', 'imec0.lf#LF202', 'imec0.lf#LF212', 'imec0.lf#LF222', 'imec0.lf#LF224', 'imec0.lf#LF232', 'imec0.lf#LF242', 'imec0.lf#LF50', 'imec0.lf#LF60', 'imec0.lf#LF70', 'imec0.lf#LF80', 'imec0.lf#LF90']\n"
     ]
    }
   ],
   "source": [
    "selection_list = sorted(np.unique(selection_list))\n",
    "print(selection_list)"
   ]
  },
  {
   "cell_type": "code",
   "execution_count": 8,
   "metadata": {},
   "outputs": [
    {
     "data": {
      "text/plain": [
       "FrameSliceRecording: 20 channels - 1 segments - 2.5kHz - 3600.000s"
      ]
     },
     "execution_count": 8,
     "metadata": {},
     "output_type": "execute_result"
    }
   ],
   "source": [
    "sliced_channels = rec_lf.channel_slice(channel_ids=selection_list)\n",
    "chunked_data = sliced_channels.frame_slice(18000*rec_lf.get_sampling_frequency(), 21600*rec_lf.get_sampling_frequency())\n",
    "chunked_data"
   ]
  },
  {
   "cell_type": "code",
   "execution_count": 9,
   "metadata": {},
   "outputs": [],
   "source": [
    "traces_channels = sliced_channels.get_traces(return_scaled=True)\n",
    "transposed_traces = traces_channels.T"
   ]
  },
  {
   "cell_type": "code",
   "execution_count": 10,
   "metadata": {},
   "outputs": [
    {
     "data": {
      "text/plain": [
       "True"
      ]
     },
     "execution_count": 10,
     "metadata": {},
     "output_type": "execute_result"
    }
   ],
   "source": [
    "# this should be true\n",
    "len(traces_channels[:,0])/rec_lf.get_sampling_frequency() == rec_lf.get_total_duration()"
   ]
  },
  {
   "cell_type": "code",
   "execution_count": 11,
   "metadata": {},
   "outputs": [
    {
     "data": {
      "text/plain": [
       "array([[103.125 ,  98.4375, 126.5625, ...,  65.625 ,  60.9375,  37.5   ],\n",
       "       [154.6875, 173.4375, 201.5625, ...,   4.6875,  18.75  , -18.75  ],\n",
       "       [ 89.0625,  93.75  , 121.875 , ..., -84.375 , -84.375 , -89.0625],\n",
       "       ...,\n",
       "       [ 51.5625,  65.625 ,  65.625 , ..., 103.125 ,  98.4375,  98.4375],\n",
       "       [-56.25  , -37.5   , -18.75  , ...,  46.875 ,  42.1875,  23.4375],\n",
       "       [ 18.75  ,  32.8125,  37.5   , ...,  42.1875,  23.4375,   4.6875]],\n",
       "      dtype=float32)"
      ]
     },
     "execution_count": 11,
     "metadata": {},
     "output_type": "execute_result"
    }
   ],
   "source": [
    "transposed_traces"
   ]
  },
  {
   "cell_type": "code",
   "execution_count": 12,
   "metadata": {},
   "outputs": [
    {
     "data": {
      "text/plain": [
       "array([ True,  True,  True,  True,  True,  True,  True,  True,  True,\n",
       "        True,  True,  True,  True,  True,  True,  True,  True,  True,\n",
       "        True,  True])"
      ]
     },
     "execution_count": 12,
     "metadata": {},
     "output_type": "execute_result"
    }
   ],
   "source": [
    "# this should be True\n",
    "sliced_channels.get_channel_ids() == selection_list"
   ]
  },
  {
   "cell_type": "code",
   "execution_count": 13,
   "metadata": {},
   "outputs": [
    {
     "name": "stdout",
     "output_type": "stream",
     "text": [
      "imec0.lf#LF100\n",
      "[103.125   98.4375 126.5625 ...  65.625   60.9375  37.5   ]\n",
      "imec0.lf#LF110\n",
      "[154.6875 173.4375 201.5625 ...   4.6875  18.75   -18.75  ]\n",
      "imec0.lf#LF120\n",
      "[ 89.0625  93.75   121.875  ... -84.375  -84.375  -89.0625]\n",
      "imec0.lf#LF130\n",
      "[ -28.125    18.75     51.5625 ... -103.125   -84.375  -121.875 ]\n",
      "imec0.lf#LF140\n",
      "[ 14.0625  23.4375  42.1875 ... 112.5     89.0625  98.4375]\n",
      "imec0.lf#LF150\n",
      "[ 93.75   107.8125 140.625  ... 107.8125  98.4375  84.375 ]\n",
      "imec0.lf#LF160\n",
      "[182.8125 192.1875 215.625  ... 182.8125 178.125  145.3125]\n",
      "imec0.lf#LF170\n",
      "[168.75   164.0625 201.5625 ... 276.5625 267.1875 257.8125]\n",
      "imec0.lf#LF180\n",
      "[-37.5    -18.75    23.4375 ... 295.3125 295.3125 290.625 ]\n",
      "imec0.lf#LF202\n",
      "[-46.875  -51.5625 -32.8125 ... 356.25   332.8125 314.0625]\n",
      "imec0.lf#LF212\n",
      "[-243.75   -243.75   -225.     ...   23.4375    9.375     9.375 ]\n",
      "imec0.lf#LF222\n",
      "[ -84.375  -121.875  -107.8125 ...  262.5     243.75    262.5   ]\n",
      "imec0.lf#LF224\n",
      "[-23.4375 -28.125  -14.0625 ... 295.3125 276.5625 276.5625]\n",
      "imec0.lf#LF232\n",
      "[103.125   93.75   112.5    ... 342.1875 351.5625 351.5625]\n",
      "imec0.lf#LF242\n",
      "[-46.875  -32.8125 -28.125  ... 267.1875 253.125  262.5   ]\n",
      "imec0.lf#LF50\n",
      "[-159.375  -140.625  -112.5    ... -192.1875 -187.5    -210.9375]\n",
      "imec0.lf#LF60\n",
      "[-103.125  -103.125   -89.0625 ...  -89.0625  -98.4375  -98.4375]\n",
      "imec0.lf#LF70\n",
      "[ 51.5625  65.625   65.625  ... 103.125   98.4375  98.4375]\n",
      "imec0.lf#LF80\n",
      "[-56.25   -37.5    -18.75   ...  46.875   42.1875  23.4375]\n",
      "imec0.lf#LF90\n",
      "[18.75   32.8125 37.5    ... 42.1875 23.4375  4.6875]\n"
     ]
    }
   ],
   "source": [
    "for trace_indx in range(len(selection_list)):\n",
    "    name_channel = selection_list[trace_indx]\n",
    "    print(name_channel)\n",
    "    trace = transposed_traces[trace_indx]\n",
    "    print(trace)\n",
    "    name_channel = selection_list[trace_indx]\n",
    "    np.save(output_folder / (name_channel + '.npy'), trace)"
   ]
  },
  {
   "cell_type": "markdown",
   "metadata": {},
   "source": [
    "## In case you need to check probe"
   ]
  },
  {
   "cell_type": "code",
   "execution_count": null,
   "metadata": {},
   "outputs": [],
   "source": [
    "rec_ap = si.SpikeGLXRecordingExtractor(folder, stream_id='imec0.ap') # microphone"
   ]
  },
  {
   "cell_type": "code",
   "execution_count": null,
   "metadata": {},
   "outputs": [],
   "source": [
    "rec_lf.set_probe(rec_ap.get_probe(), in_place=True)"
   ]
  },
  {
   "cell_type": "code",
   "execution_count": null,
   "metadata": {},
   "outputs": [],
   "source": [
    "def check_probe_channels(rec):\n",
    "    probe = rec.get_probe()\n",
    "    plot_probe(probe, show_channel_on_click=True)\n",
    "    plt.show()\n",
    "\n",
    "check_probe_channels(rec_lf)"
   ]
  },
  {
   "cell_type": "code",
   "execution_count": null,
   "metadata": {},
   "outputs": [],
   "source": [
    "location = rec_lf.get_channel_locations()\n",
    "plt.scatter(location[:,0], location[:,1])\n",
    "plt.show()"
   ]
  },
  {
   "cell_type": "markdown",
   "metadata": {},
   "source": [
    "## Get spiketrains"
   ]
  },
  {
   "cell_type": "code",
   "execution_count": 5,
   "metadata": {},
   "outputs": [],
   "source": [
    "sorting_path = Path('/home/admin/smb4k/NAS5802A5.LOCAL/Public/Neuropixel_Recordings/Imp_10_11_2021/Rec_6_22_11_2021_g0/sorting_20220419/full/filter+cmr_radius/tridesclous/custom_tdc_1/')"
   ]
  },
  {
   "cell_type": "code",
   "execution_count": 6,
   "metadata": {},
   "outputs": [
    {
     "ename": "PermissionError",
     "evalue": "[Errno 13] Permission denied: '/home/admin/smb4k/NAS5802A5.LOCAL/Public/Neuropixel_Recordings/Imp_10_11_2021/Rec_6_22_11_2021_g0/sorting_20220419/full/filter+cmr_radius/tridesclous/custom_tdc_1/channel_group_0/segment_0/processed_signals.raw'",
     "output_type": "error",
     "traceback": [
      "\u001b[0;31m---------------------------------------------------------------------------\u001b[0m",
      "\u001b[0;31mPermissionError\u001b[0m                           Traceback (most recent call last)",
      "\u001b[0;32m/tmp/ipykernel_338132/3928571145.py\u001b[0m in \u001b[0;36m<module>\u001b[0;34m\u001b[0m\n\u001b[0;32m----> 1\u001b[0;31m \u001b[0msorting_tdc\u001b[0m \u001b[0;34m=\u001b[0m \u001b[0msi\u001b[0m\u001b[0;34m.\u001b[0m\u001b[0mTridesclousSortingExtractor\u001b[0m\u001b[0;34m(\u001b[0m\u001b[0msorting_path\u001b[0m\u001b[0;34m)\u001b[0m\u001b[0;34m\u001b[0m\u001b[0;34m\u001b[0m\u001b[0m\n\u001b[0m\u001b[1;32m      2\u001b[0m \u001b[0mprint\u001b[0m\u001b[0;34m(\u001b[0m\u001b[0msorting_tdc\u001b[0m\u001b[0;34m)\u001b[0m\u001b[0;34m\u001b[0m\u001b[0;34m\u001b[0m\u001b[0m\n",
      "\u001b[0;32m~/Python-related/GitHub/spikeinterface/spikeinterface/extractors/tridesclousextractors.py\u001b[0m in \u001b[0;36m__init__\u001b[0;34m(self, folder_path, chan_grp)\u001b[0m\n\u001b[1;32m     20\u001b[0m         \u001b[0mtdc_folder\u001b[0m \u001b[0;34m=\u001b[0m \u001b[0mPath\u001b[0m\u001b[0;34m(\u001b[0m\u001b[0mfolder_path\u001b[0m\u001b[0;34m)\u001b[0m\u001b[0;34m\u001b[0m\u001b[0;34m\u001b[0m\u001b[0m\n\u001b[1;32m     21\u001b[0m \u001b[0;34m\u001b[0m\u001b[0m\n\u001b[0;32m---> 22\u001b[0;31m         \u001b[0mdataio\u001b[0m \u001b[0;34m=\u001b[0m \u001b[0mtdc\u001b[0m\u001b[0;34m.\u001b[0m\u001b[0mDataIO\u001b[0m\u001b[0;34m(\u001b[0m\u001b[0mstr\u001b[0m\u001b[0;34m(\u001b[0m\u001b[0mtdc_folder\u001b[0m\u001b[0;34m)\u001b[0m\u001b[0;34m)\u001b[0m\u001b[0;34m\u001b[0m\u001b[0;34m\u001b[0m\u001b[0m\n\u001b[0m\u001b[1;32m     23\u001b[0m         \u001b[0;32mif\u001b[0m \u001b[0mchan_grp\u001b[0m \u001b[0;32mis\u001b[0m \u001b[0;32mNone\u001b[0m\u001b[0;34m:\u001b[0m\u001b[0;34m\u001b[0m\u001b[0;34m\u001b[0m\u001b[0m\n\u001b[1;32m     24\u001b[0m             \u001b[0;31m# if chan_grp is not provided, take the first one if unique\u001b[0m\u001b[0;34m\u001b[0m\u001b[0;34m\u001b[0m\u001b[0;34m\u001b[0m\u001b[0m\n",
      "\u001b[0;32m~/.virtualenvs/py38_si/lib/python3.8/site-packages/tridesclous/dataio.py\u001b[0m in \u001b[0;36m__init__\u001b[0;34m(self, dirname)\u001b[0m\n\u001b[1;32m    125\u001b[0m                 \u001b[0mself\u001b[0m\u001b[0;34m.\u001b[0m\u001b[0m_reload_data_source\u001b[0m\u001b[0;34m(\u001b[0m\u001b[0;34m)\u001b[0m\u001b[0;34m\u001b[0m\u001b[0;34m\u001b[0m\u001b[0m\n\u001b[1;32m    126\u001b[0m                 \u001b[0mself\u001b[0m\u001b[0;34m.\u001b[0m\u001b[0m_reload_data_source_info\u001b[0m\u001b[0;34m(\u001b[0m\u001b[0;34m)\u001b[0m\u001b[0;34m\u001b[0m\u001b[0;34m\u001b[0m\u001b[0m\n\u001b[0;32m--> 127\u001b[0;31m                 \u001b[0mself\u001b[0m\u001b[0;34m.\u001b[0m\u001b[0m_open_processed_data\u001b[0m\u001b[0;34m(\u001b[0m\u001b[0;34m)\u001b[0m\u001b[0;34m\u001b[0m\u001b[0;34m\u001b[0m\u001b[0m\n\u001b[0m\u001b[1;32m    128\u001b[0m             \u001b[0;32melse\u001b[0m\u001b[0;34m:\u001b[0m\u001b[0;34m\u001b[0m\u001b[0;34m\u001b[0m\u001b[0m\n\u001b[1;32m    129\u001b[0m                 \u001b[0mself\u001b[0m\u001b[0;34m.\u001b[0m\u001b[0mdatasource\u001b[0m \u001b[0;34m=\u001b[0m \u001b[0;32mNone\u001b[0m\u001b[0;34m\u001b[0m\u001b[0;34m\u001b[0m\u001b[0m\n",
      "\u001b[0;32m~/.virtualenvs/py38_si/lib/python3.8/site-packages/tridesclous/dataio.py\u001b[0m in \u001b[0;36m_open_processed_data\u001b[0;34m(self)\u001b[0m\n\u001b[1;32m    493\u001b[0m \u001b[0;34m\u001b[0m\u001b[0m\n\u001b[1;32m    494\u001b[0m                 \u001b[0;32mfor\u001b[0m \u001b[0mname\u001b[0m \u001b[0;32min\u001b[0m \u001b[0;34m[\u001b[0m\u001b[0;34m'processed_signals'\u001b[0m\u001b[0;34m,\u001b[0m \u001b[0;34m'spikes'\u001b[0m\u001b[0;34m]\u001b[0m\u001b[0;34m:\u001b[0m\u001b[0;34m\u001b[0m\u001b[0;34m\u001b[0m\u001b[0m\n\u001b[0;32m--> 495\u001b[0;31m                     \u001b[0mself\u001b[0m\u001b[0;34m.\u001b[0m\u001b[0marrays\u001b[0m\u001b[0;34m[\u001b[0m\u001b[0mchan_grp\u001b[0m\u001b[0;34m]\u001b[0m\u001b[0;34m[\u001b[0m\u001b[0mi\u001b[0m\u001b[0;34m]\u001b[0m\u001b[0;34m.\u001b[0m\u001b[0mload_if_exists\u001b[0m\u001b[0;34m(\u001b[0m\u001b[0mname\u001b[0m\u001b[0;34m)\u001b[0m\u001b[0;34m\u001b[0m\u001b[0;34m\u001b[0m\u001b[0m\n\u001b[0m\u001b[1;32m    496\u001b[0m \u001b[0;34m\u001b[0m\u001b[0m\n\u001b[1;32m    497\u001b[0m     \u001b[0;32mdef\u001b[0m \u001b[0mget_segment_length\u001b[0m\u001b[0;34m(\u001b[0m\u001b[0mself\u001b[0m\u001b[0;34m,\u001b[0m \u001b[0mseg_num\u001b[0m\u001b[0;34m)\u001b[0m\u001b[0;34m:\u001b[0m\u001b[0;34m\u001b[0m\u001b[0;34m\u001b[0m\u001b[0m\n",
      "\u001b[0;32m~/.virtualenvs/py38_si/lib/python3.8/site-packages/tridesclous/iotools.py\u001b[0m in \u001b[0;36mload_if_exists\u001b[0;34m(self, name)\u001b[0m\n\u001b[1;32m    292\u001b[0m                 \u001b[0mshape\u001b[0m \u001b[0;34m=\u001b[0m \u001b[0md\u001b[0m\u001b[0;34m[\u001b[0m\u001b[0mname\u001b[0m\u001b[0;34m]\u001b[0m\u001b[0;34m[\u001b[0m\u001b[0;34m'shape'\u001b[0m\u001b[0;34m]\u001b[0m\u001b[0;34m\u001b[0m\u001b[0;34m\u001b[0m\u001b[0m\n\u001b[1;32m    293\u001b[0m                 \u001b[0;32mif\u001b[0m \u001b[0mnp\u001b[0m\u001b[0;34m.\u001b[0m\u001b[0mprod\u001b[0m\u001b[0;34m(\u001b[0m\u001b[0md\u001b[0m\u001b[0;34m[\u001b[0m\u001b[0mname\u001b[0m\u001b[0;34m]\u001b[0m\u001b[0;34m[\u001b[0m\u001b[0;34m'shape'\u001b[0m\u001b[0;34m]\u001b[0m\u001b[0;34m)\u001b[0m\u001b[0;34m>\u001b[0m\u001b[0;36m0\u001b[0m\u001b[0;34m:\u001b[0m\u001b[0;34m\u001b[0m\u001b[0;34m\u001b[0m\u001b[0m\n\u001b[0;32m--> 294\u001b[0;31m                     \u001b[0marr\u001b[0m \u001b[0;34m=\u001b[0m \u001b[0mnp\u001b[0m\u001b[0;34m.\u001b[0m\u001b[0mmemmap\u001b[0m\u001b[0;34m(\u001b[0m\u001b[0mself\u001b[0m\u001b[0;34m.\u001b[0m\u001b[0m_fname\u001b[0m\u001b[0;34m(\u001b[0m\u001b[0mname\u001b[0m\u001b[0;34m)\u001b[0m\u001b[0;34m,\u001b[0m \u001b[0mdtype\u001b[0m\u001b[0;34m=\u001b[0m\u001b[0mdtype\u001b[0m\u001b[0;34m,\u001b[0m \u001b[0mmode\u001b[0m\u001b[0;34m=\u001b[0m\u001b[0;34m'r+'\u001b[0m\u001b[0;34m)\u001b[0m\u001b[0;34m\u001b[0m\u001b[0;34m\u001b[0m\u001b[0m\n\u001b[0m\u001b[1;32m    295\u001b[0m                     \u001b[0marr\u001b[0m \u001b[0;34m=\u001b[0m \u001b[0marr\u001b[0m\u001b[0;34m[\u001b[0m\u001b[0;34m:\u001b[0m\u001b[0mnp\u001b[0m\u001b[0;34m.\u001b[0m\u001b[0mprod\u001b[0m\u001b[0;34m(\u001b[0m\u001b[0mshape\u001b[0m\u001b[0;34m)\u001b[0m\u001b[0;34m]\u001b[0m\u001b[0;34m\u001b[0m\u001b[0;34m\u001b[0m\u001b[0m\n\u001b[1;32m    296\u001b[0m                     \u001b[0marr\u001b[0m \u001b[0;34m=\u001b[0m \u001b[0marr\u001b[0m\u001b[0;34m.\u001b[0m\u001b[0mreshape\u001b[0m\u001b[0;34m(\u001b[0m\u001b[0mshape\u001b[0m\u001b[0;34m)\u001b[0m\u001b[0;34m\u001b[0m\u001b[0;34m\u001b[0m\u001b[0m\n",
      "\u001b[0;32m~/.virtualenvs/py38_si/lib/python3.8/site-packages/numpy/core/memmap.py\u001b[0m in \u001b[0;36m__new__\u001b[0;34m(subtype, filename, dtype, mode, offset, shape, order)\u001b[0m\n\u001b[1;32m    226\u001b[0m             \u001b[0mf_ctx\u001b[0m \u001b[0;34m=\u001b[0m \u001b[0mcontextlib_nullcontext\u001b[0m\u001b[0;34m(\u001b[0m\u001b[0mfilename\u001b[0m\u001b[0;34m)\u001b[0m\u001b[0;34m\u001b[0m\u001b[0;34m\u001b[0m\u001b[0m\n\u001b[1;32m    227\u001b[0m         \u001b[0;32melse\u001b[0m\u001b[0;34m:\u001b[0m\u001b[0;34m\u001b[0m\u001b[0;34m\u001b[0m\u001b[0m\n\u001b[0;32m--> 228\u001b[0;31m             \u001b[0mf_ctx\u001b[0m \u001b[0;34m=\u001b[0m \u001b[0mopen\u001b[0m\u001b[0;34m(\u001b[0m\u001b[0mos_fspath\u001b[0m\u001b[0;34m(\u001b[0m\u001b[0mfilename\u001b[0m\u001b[0;34m)\u001b[0m\u001b[0;34m,\u001b[0m \u001b[0;34m(\u001b[0m\u001b[0;34m'r'\u001b[0m \u001b[0;32mif\u001b[0m \u001b[0mmode\u001b[0m \u001b[0;34m==\u001b[0m \u001b[0;34m'c'\u001b[0m \u001b[0;32melse\u001b[0m \u001b[0mmode\u001b[0m\u001b[0;34m)\u001b[0m\u001b[0;34m+\u001b[0m\u001b[0;34m'b'\u001b[0m\u001b[0;34m)\u001b[0m\u001b[0;34m\u001b[0m\u001b[0;34m\u001b[0m\u001b[0m\n\u001b[0m\u001b[1;32m    229\u001b[0m \u001b[0;34m\u001b[0m\u001b[0m\n\u001b[1;32m    230\u001b[0m         \u001b[0;32mwith\u001b[0m \u001b[0mf_ctx\u001b[0m \u001b[0;32mas\u001b[0m \u001b[0mfid\u001b[0m\u001b[0;34m:\u001b[0m\u001b[0;34m\u001b[0m\u001b[0;34m\u001b[0m\u001b[0m\n",
      "\u001b[0;31mPermissionError\u001b[0m: [Errno 13] Permission denied: '/home/admin/smb4k/NAS5802A5.LOCAL/Public/Neuropixel_Recordings/Imp_10_11_2021/Rec_6_22_11_2021_g0/sorting_20220419/full/filter+cmr_radius/tridesclous/custom_tdc_1/channel_group_0/segment_0/processed_signals.raw'"
     ]
    }
   ],
   "source": [
    "sorting_tdc = si.TridesclousSortingExtractor(sorting_path)\n",
    "print(sorting_tdc)"
   ]
  },
  {
   "cell_type": "code",
   "execution_count": null,
   "metadata": {},
   "outputs": [],
   "source": [
    "unit_list = sorting_tdc.unit_ids"
   ]
  },
  {
   "cell_type": "code",
   "execution_count": null,
   "metadata": {},
   "outputs": [],
   "source": [
    "for unit in unit_list:\n",
    "    unit_spks = sorting_tdc.get_unit_spike_train(unit_id=unit, return_times=True)\n",
    "    unit_name = 'unit_'+ str(unit)\n",
    "    np.savetxt(output_folder/(unit_name+'.txt'), unit_spks)"
   ]
  }
 ],
 "metadata": {
  "interpreter": {
   "hash": "a714722c6f032a5e7672991c2904f9478b6a2148f73bc768b84cb0355a7682ae"
  },
  "kernelspec": {
   "display_name": "Python 3.8.10 ('py38_si')",
   "language": "python",
   "name": "python3"
  },
  "language_info": {
   "codemirror_mode": {
    "name": "ipython",
    "version": 3
   },
   "file_extension": ".py",
   "mimetype": "text/x-python",
   "name": "python",
   "nbconvert_exporter": "python",
   "pygments_lexer": "ipython3",
   "version": "3.8.10"
  },
  "orig_nbformat": 4
 },
 "nbformat": 4,
 "nbformat_minor": 2
}
