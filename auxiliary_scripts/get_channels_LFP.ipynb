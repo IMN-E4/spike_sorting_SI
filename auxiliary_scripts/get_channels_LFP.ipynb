{
 "cells": [
  {
   "cell_type": "code",
   "execution_count": null,
   "metadata": {},
   "outputs": [],
   "source": [
    "import spikeinterface.full as si\n",
    "import glob\n",
    "from pathlib import Path\n",
    "import numpy as np\n",
    "import matplotlib.pyplot as plt\n",
    "from probeinterface.plotting import plot_probe\n",
    "%matplotlib qt \n",
    "\n",
    "# Paths\n",
    "base_folder = Path('/media/e4/data1/RomansData/bird1/') \n",
    "folders = sorted(glob.glob((base_folder / 'Rec_*_g0').as_posix()))"
   ]
  },
  {
   "cell_type": "code",
   "execution_count": null,
   "metadata": {},
   "outputs": [],
   "source": [
    "folders"
   ]
  },
  {
   "cell_type": "code",
   "execution_count": null,
   "metadata": {},
   "outputs": [],
   "source": [
    "folder= folders[6]\n",
    "print(folder)\n",
    "output_folder = Path(folder) / 'by_channel_data'\n",
    "output_folder.mkdir(exist_ok=True, parents=True)"
   ]
  },
  {
   "cell_type": "code",
   "execution_count": null,
   "metadata": {},
   "outputs": [],
   "source": [
    "rec_lf = si.SpikeGLXRecordingExtractor(folder, stream_id='imec0.lf') # LF\n",
    "print(rec_lf)"
   ]
  },
  {
   "cell_type": "code",
   "execution_count": null,
   "metadata": {},
   "outputs": [],
   "source": [
    "rec_lf.channel_ids"
   ]
  },
  {
   "cell_type": "code",
   "execution_count": null,
   "metadata": {},
   "outputs": [],
   "source": [
    "# Bird1 : LMAN 'safe' channels: 202-236; AreaX: 50-176 (Nchan slightly overestimating)\n",
    "areaX_channels = rec_lf.channel_ids[50:190][::10] # to make multiples of 10\n",
    "lman_channels = rec_lf.channel_ids[202:252][::10]  # to make multiples of 10\n",
    "unit_related_channels = [\n",
    "'imec0.lf#LF191',\n",
    "'imec0.lf#LF230',\n",
    "'imec0.lf#LF222',\n",
    "] # got this from filter+cmr_radius/tridesclous/\n",
    "\n",
    "selection_list = np.concatenate([areaX_channels, lman_channels, unit_related_channels])"
   ]
  },
  {
   "cell_type": "code",
   "execution_count": null,
   "metadata": {},
   "outputs": [],
   "source": [
    "selection_list = sorted(np.unique(selection_list))\n",
    "print(selection_list)"
   ]
  },
  {
   "cell_type": "code",
   "execution_count": null,
   "metadata": {},
   "outputs": [],
   "source": [
    "sliced_channels = rec_lf.channel_slice(channel_ids=selection_list)\n",
    "traces_channels = sliced_channels.get_traces(return_scaled=True)\n",
    "transposed_traces = traces_channels.T"
   ]
  },
  {
   "cell_type": "code",
   "execution_count": null,
   "metadata": {},
   "outputs": [],
   "source": [
    "# this should be true\n",
    "len(traces_channels[:,0])/rec_lf.get_sampling_frequency() == rec_lf.get_total_duration()"
   ]
  },
  {
   "cell_type": "code",
   "execution_count": null,
   "metadata": {},
   "outputs": [],
   "source": [
    "transposed_traces"
   ]
  },
  {
   "cell_type": "code",
   "execution_count": null,
   "metadata": {},
   "outputs": [],
   "source": [
    "# this should be True\n",
    "sliced_channels.get_channel_ids() == selection_list"
   ]
  },
  {
   "cell_type": "code",
   "execution_count": null,
   "metadata": {},
   "outputs": [],
   "source": [
    "for trace_indx in range(len(selection_list)):\n",
    "    name_channel = selection_list[trace_indx]\n",
    "    print(name_channel)\n",
    "    trace = transposed_traces[trace_indx]\n",
    "    print(trace)\n",
    "    name_channel = selection_list[trace_indx]\n",
    "    np.save(output_folder / (name_channel + '.npy'), trace)"
   ]
  },
  {
   "cell_type": "markdown",
   "metadata": {},
   "source": [
    "## In case you need to check probe"
   ]
  },
  {
   "cell_type": "code",
   "execution_count": null,
   "metadata": {},
   "outputs": [],
   "source": [
    "rec_ap = si.SpikeGLXRecordingExtractor(folder, stream_id='imec0.ap') # microphone"
   ]
  },
  {
   "cell_type": "code",
   "execution_count": null,
   "metadata": {},
   "outputs": [],
   "source": [
    "rec_lf.set_probe(rec_ap.get_probe(), in_place=True)"
   ]
  },
  {
   "cell_type": "code",
   "execution_count": null,
   "metadata": {},
   "outputs": [],
   "source": [
    "def check_probe_channels(rec):\n",
    "    probe = rec.get_probe()\n",
    "    plot_probe(probe, show_channel_on_click=True)\n",
    "    plt.show()\n",
    "\n",
    "check_probe_channels(rec_lf)"
   ]
  },
  {
   "cell_type": "code",
   "execution_count": null,
   "metadata": {},
   "outputs": [],
   "source": [
    "location = rec_lf.get_channel_locations()\n",
    "plt.scatter(location[:,0], location[:,1])\n",
    "plt.show()"
   ]
  },
  {
   "cell_type": "markdown",
   "metadata": {},
   "source": [
    "## Get spiketrains"
   ]
  },
  {
   "cell_type": "code",
   "execution_count": null,
   "metadata": {},
   "outputs": [],
   "source": [
    "sorting_path = Path('/media/e4/data1/RomansData/bird1/Rec_3_19_11_2021_g0/sorting_20220116/full/filter+cmr_radius/tridesclous/custom_tdc_1/')"
   ]
  },
  {
   "cell_type": "code",
   "execution_count": null,
   "metadata": {},
   "outputs": [],
   "source": [
    "sorting_tdc = si.TridesclousSortingExtractor(sorting_path)\n",
    "print(sorting_tdc)"
   ]
  },
  {
   "cell_type": "code",
   "execution_count": null,
   "metadata": {},
   "outputs": [],
   "source": [
    "unit_list = sorting_tdc.unit_ids"
   ]
  },
  {
   "cell_type": "code",
   "execution_count": null,
   "metadata": {},
   "outputs": [],
   "source": [
    "for unit in unit_list:\n",
    "    unit_spks = sorting_tdc.get_unit_spike_train(unit_id=unit, return_times=True)\n",
    "    unit_name = 'unit_'+ str(unit)\n",
    "    np.savetxt(output_folder/(unit_name+'.txt'), unit_spks)"
   ]
  }
 ],
 "metadata": {
  "interpreter": {
   "hash": "a714722c6f032a5e7672991c2904f9478b6a2148f73bc768b84cb0355a7682ae"
  },
  "kernelspec": {
   "display_name": "Python 3.8.10 ('py38_si')",
   "language": "python",
   "name": "python3"
  },
  "language_info": {
   "codemirror_mode": {
    "name": "ipython",
    "version": 3
   },
   "file_extension": ".py",
   "mimetype": "text/x-python",
   "name": "python",
   "nbconvert_exporter": "python",
   "pygments_lexer": "ipython3",
   "version": "3.8.10"
  },
  "orig_nbformat": 4
 },
 "nbformat": 4,
 "nbformat_minor": 2
}
