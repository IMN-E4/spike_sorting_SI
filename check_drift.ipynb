{
 "metadata": {
  "language_info": {
   "codemirror_mode": {
    "name": "ipython",
    "version": 3
   },
   "file_extension": ".py",
   "mimetype": "text/x-python",
   "name": "python",
   "nbconvert_exporter": "python",
   "pygments_lexer": "ipython3",
   "version": "3.8.10"
  },
  "orig_nbformat": 4,
  "kernelspec": {
   "name": "python3",
   "display_name": "Python 3.8.10 64-bit ('spikeinterface': venv)"
  },
  "interpreter": {
   "hash": "e4b18cd8b4a6ca855832df2e41d6c57aee87f5f8506d05439d9f14871154a945"
  }
 },
 "nbformat": 4,
 "nbformat_minor": 2,
 "cells": [
  {
   "source": [
    "# check drift example"
   ],
   "cell_type": "markdown",
   "metadata": {}
  },
  {
   "cell_type": "code",
   "execution_count": 51,
   "metadata": {},
   "outputs": [],
   "source": [
    "%matplotlib widget"
   ]
  },
  {
   "cell_type": "code",
   "execution_count": 62,
   "metadata": {},
   "outputs": [],
   "source": [
    "import numpy as np\n",
    "import matplotlib.pyplot as plt\n",
    "\n",
    "import spikeinterface.full as si\n",
    "\n",
    "from pathlib import Path\n",
    "\n",
    "import probeinterface as pi"
   ]
  },
  {
   "source": [
    "## path"
   ],
   "cell_type": "markdown",
   "metadata": {}
  },
  {
   "cell_type": "code",
   "execution_count": 53,
   "metadata": {},
   "outputs": [],
   "source": [
    "\n",
    "base_folder = Path('/home/arthur/Documents/SpikeSorting/Test_20210518/') \n",
    "\n",
    "data_folder = base_folder / 'raw_awake'\n",
    "\n",
    "\n"
   ]
  },
  {
   "cell_type": "code",
   "execution_count": 54,
   "metadata": {},
   "outputs": [
    {
     "output_type": "stream",
     "name": "stdout",
     "text": [
      "384\nChannelSliceRecording: 384 channels - 1 segments - 30.0kHz - 3881.358s\n"
     ]
    }
   ],
   "source": [
    "recording = si.read_spikeglx(data_folder, stream_id='imec0.ap')\n",
    "\n",
    "probe = pi.read_spikeglx(data_folder / 'raw_awake_01_g0_t0.imec0.ap.meta')\n",
    "\n",
    "#recording = recording.frame_slice(0, 3000000)\n",
    "#print(recording)\n",
    "\n",
    "\n",
    "recording = recording.set_probe(probe)\n",
    "print(recording)\n",
    "\n",
    "\n",
    "\n"
   ]
  },
  {
   "cell_type": "code",
   "execution_count": 55,
   "metadata": {},
   "outputs": [
    {
     "output_type": "stream",
     "name": "stdout",
     "text": [
      "BandpassFilterRecording: 384 channels - 1 segments - 30.0kHz - 3881.358s\n"
     ]
    }
   ],
   "source": [
    "recording_f = si.bandpass_filter(recording, freq_min=300, freq_max=6000)\n",
    "print(recording_f)\n"
   ]
  },
  {
   "cell_type": "code",
   "execution_count": 56,
   "metadata": {},
   "outputs": [
    {
     "output_type": "display_data",
     "data": {
      "text/plain": "Canvas(toolbar=Toolbar(toolitems=[('Home', 'Reset original view', 'home', 'home'), ('Back', 'Back to previous …",
      "application/vnd.jupyter.widget-view+json": {
       "version_major": 2,
       "version_minor": 0,
       "model_id": "e9c8db13968346318aa58b184fab7137"
      }
     },
     "metadata": {}
    },
    {
     "output_type": "execute_result",
     "data": {
      "text/plain": [
       "<spikeinterface.widgets.timeseries.TimeseriesWidget at 0x7f8979380490>"
      ]
     },
     "metadata": {},
     "execution_count": 56
    }
   ],
   "source": [
    "si.plot_timeseries(recording_f, time_range=(50, 55), order_channel_by_depth=True)"
   ]
  },
  {
   "source": [
    "## detect peaks"
   ],
   "cell_type": "markdown",
   "metadata": {}
  },
  {
   "cell_type": "code",
   "execution_count": 57,
   "metadata": {},
   "outputs": [
    {
     "output_type": "display_data",
     "data": {
      "text/plain": "Canvas(toolbar=Toolbar(toolitems=[('Home', 'Reset original view', 'home', 'home'), ('Back', 'Back to previous …",
      "application/vnd.jupyter.widget-view+json": {
       "version_major": 2,
       "version_minor": 0,
       "model_id": "18b4354ac2794d51bb63b740f7b0ee89"
      }
     },
     "metadata": {}
    },
    {
     "output_type": "execute_result",
     "data": {
      "text/plain": [
       "(array([  1.,   0.,   1.,  44., 180.,  87.,  29.,  18.,  17.,   7.]),\n",
       " array([ 4.2650918 ,  5.09582783,  5.92656387,  6.75729991,  7.58803595,\n",
       "         8.41877198,  9.24950802, 10.08024406, 10.91098009, 11.74171613,\n",
       "        12.57245217]),\n",
       " <BarContainer object of 10 artists>)"
      ]
     },
     "metadata": {},
     "execution_count": 57
    }
   ],
   "source": [
    "noise_levels = si.get_noise_levels(recording_f)\n",
    "#print(noise_levels)\n",
    "fig, ax = plt.subplots()\n",
    "ax.hist(noise_levels)\n",
    "\n",
    "\n",
    "\n"
   ]
  },
  {
   "cell_type": "code",
   "execution_count": 58,
   "metadata": {},
   "outputs": [
    {
     "output_type": "display_data",
     "data": {
      "text/plain": "Canvas(toolbar=Toolbar(toolitems=[('Home', 'Reset original view', 'home', 'home'), ('Back', 'Back to previous …",
      "application/vnd.jupyter.widget-view+json": {
       "version_major": 2,
       "version_minor": 0,
       "model_id": "f2d993645816456ba4684c90e47459e7"
      }
     },
     "metadata": {}
    },
    {
     "output_type": "execute_result",
     "data": {
      "text/plain": [
       "<matplotlib.colorbar.Colorbar at 0x7f89799d11f0>"
      ]
     },
     "metadata": {},
     "execution_count": 58
    }
   ],
   "source": [
    "from probeinterface.plotting import plot_probe\n",
    "fig, ax = plt.subplots()\n",
    "poly_contact, poly_probe = plot_probe(probe, contacts_values=noise_levels, \n",
    "    probe_shape_kwargs={'color':'w'},\n",
    "    show_channel_on_click=True,\n",
    "    ax=ax,\n",
    "    )\n",
    "poly_contact.set_clim(0, 10)\n",
    "fig.colorbar(poly_contact)\n",
    "\n"
   ]
  },
  {
   "cell_type": "code",
   "execution_count": null,
   "metadata": {},
   "outputs": [],
   "source": []
  },
  {
   "cell_type": "code",
   "execution_count": 63,
   "metadata": {},
   "outputs": [],
   "source": [
    "#from spikeinterface.sortingcomponents import detect_peaks\n",
    "\n",
    "#peaks = detect_peaks(recording_f, method='locally_exclusive', \n",
    "#        peak_sign='neg', detect_threshold=5, n_shifts=5, \n",
    "#        local_radius_um=100,\n",
    "#        noise_levels=noise_levels,\n",
    "#        random_chunk_kwargs={},\n",
    "#        outputs='numpy_compact',\n",
    "#        n_jobs=1, progress_bar=True, chunk_size=30000, )\n",
    "\n",
    "peaks = np.load('peaks.npy')\n",
    "\n"
   ]
  },
  {
   "cell_type": "code",
   "execution_count": 64,
   "metadata": {},
   "outputs": [
    {
     "output_type": "execute_result",
     "data": {
      "text/plain": [
       "array([(        5,  77, -41.53484646, 0),\n",
       "       (      124,  89, -76.14118224, 0),\n",
       "       (      335, 266, -70.90998763, 0), ...,\n",
       "       (116442587, 302, -70.87296255, 0),\n",
       "       (116442588, 117, -46.27979285, 0),\n",
       "       (116442591,  83, -58.17060557, 0)],\n",
       "      dtype=[('sample_ind', '<i8'), ('channel_ind', '<i8'), ('amplitude', '<f8'), ('segment_ind', '<i8')])"
      ]
     },
     "metadata": {},
     "execution_count": 64
    }
   ],
   "source": [
    "peaks"
   ]
  },
  {
   "cell_type": "code",
   "execution_count": 65,
   "metadata": {},
   "outputs": [
    {
     "output_type": "display_data",
     "data": {
      "text/plain": "Canvas(toolbar=Toolbar(toolitems=[('Home', 'Reset original view', 'home', 'home'), ('Back', 'Back to previous …",
      "application/vnd.jupyter.widget-view+json": {
       "version_major": 2,
       "version_minor": 0,
       "model_id": "490824a8a44746a3bdb267293655fac7"
      }
     },
     "metadata": {}
    },
    {
     "output_type": "execute_result",
     "data": {
      "text/plain": [
       "<spikeinterface.widgets.activity.PeakActivityMapWidget at 0x7f71f4384550>"
      ]
     },
     "metadata": {},
     "execution_count": 65
    }
   ],
   "source": [
    "si.plot_peak_activity_map(recording_f, peaks=peaks)"
   ]
  },
  {
   "cell_type": "code",
   "execution_count": 69,
   "metadata": {},
   "outputs": [
    {
     "output_type": "display_data",
     "data": {
      "text/plain": "Canvas(toolbar=Toolbar(toolitems=[('Home', 'Reset original view', 'home', 'home'), ('Back', 'Back to previous …",
      "application/vnd.jupyter.widget-view+json": {
       "version_major": 2,
       "version_minor": 0,
       "model_id": "786b3df6dd934681948663fda1c82510"
      }
     },
     "metadata": {}
    },
    {
     "output_type": "execute_result",
     "data": {
      "text/plain": [
       "<spikeinterface.widgets.drift.DriftOverTimeWidget at 0x7f71f3a559d0>"
      ]
     },
     "metadata": {},
     "execution_count": 69
    }
   ],
   "source": [
    "si.plot_drift_over_time(recording_f, peaks=peaks, bin_duration_s=30,\n",
    "    mode='heatmap', weight_with_amplitudes=False)\n"
   ]
  },
  {
   "cell_type": "code",
   "execution_count": 68,
   "metadata": {},
   "outputs": [
    {
     "output_type": "display_data",
     "data": {
      "text/plain": "Canvas(toolbar=Toolbar(toolitems=[('Home', 'Reset original view', 'home', 'home'), ('Back', 'Back to previous …",
      "application/vnd.jupyter.widget-view+json": {
       "version_major": 2,
       "version_minor": 0,
       "model_id": "2a81804a637749df8fbcd120f339b7d9"
      }
     },
     "metadata": {}
    },
    {
     "output_type": "execute_result",
     "data": {
      "text/plain": [
       "<spikeinterface.widgets.drift.DriftOverTimeWidget at 0x7f71f3aaf670>"
      ]
     },
     "metadata": {},
     "execution_count": 68
    }
   ],
   "source": [
    "si.plot_drift_over_time(recording_f, peaks=peaks, bin_duration_s=30,\n",
    "    mode='scatter', weight_with_amplitudes=False)\n"
   ]
  },
  {
   "cell_type": "code",
   "execution_count": null,
   "metadata": {},
   "outputs": [],
   "source": []
  }
 ]
}