{
 "cells": [
  {
   "cell_type": "code",
   "execution_count": null,
   "id": "8aae479b-2c85-4522-ae20-96f7ba5c2353",
   "metadata": {},
   "outputs": [],
   "source": [
    "%load_ext autoreload\n",
    "%autoreload 2"
   ]
  },
  {
   "cell_type": "code",
   "execution_count": 1,
   "id": "deb796b8-d00a-4e5a-af81-63c14e511a6c",
   "metadata": {},
   "outputs": [],
   "source": [
    "import numpy as np\n",
    "from pathlib import Path\n",
    "\n",
    "import spikeinterface.full as si\n",
    "from spikeinterface.sortingcomponents.peak_detection import detect_peaks\n",
    "from spikeinterface.sortingcomponents.peak_localization import localize_peaks\n",
    "\n",
    "from myfigures_interactive import *\n",
    "from params import *\n",
    "from export_files import export_files\n",
    "\n",
    "import ipywidgets as widgets\n",
    "\n",
    "%matplotlib widget"
   ]
  },
  {
   "cell_type": "code",
   "execution_count": 2,
   "id": "c8421004-4ddb-41e1-9795-d53a840ce186",
   "metadata": {},
   "outputs": [],
   "source": [
    "import warnings\n",
    "warnings.filterwarnings(\"ignore\")"
   ]
  },
  {
   "cell_type": "code",
   "execution_count": 3,
   "id": "73bc064f-3154-4f30-993d-f9b33421b565",
   "metadata": {},
   "outputs": [],
   "source": [
    "# Recording path\n",
    "core_path = Path('/nas/Neuropixel_Recordings/AreaX-LMAN/Imp_29_11_2022/Recordings/')\n",
    "rec_name = 'Rec_2_30_11_2022-morning_nap_g0' # Main thing to change between recordings\n",
    "rec_path = core_path / rec_name\n",
    "\n",
    "# Output path\n",
    "output_path = rec_path\n",
    "\n",
    "# if not output_path.exists():\n",
    "#     output_path.mkdir()"
   ]
  },
  {
   "cell_type": "code",
   "execution_count": null,
   "id": "de22a4dc-4d76-4a4a-80bd-4009f7c44eb6",
   "metadata": {},
   "outputs": [],
   "source": [
    "# Read recording\n",
    "rec_ap = si.read_spikeglx(rec_path, stream_id='imec0.ap')\n",
    "rec_preprocessed = si.bandpass_filter(si.common_reference(rec_ap, reference='local', local_radius=(50, 100)), freq_min=300, freq_max=6000)"
   ]
  },
  {
   "cell_type": "code",
   "execution_count": null,
   "id": "267db674-1430-4c27-8b4e-64d1ab28f276",
   "metadata": {},
   "outputs": [],
   "source": [
    "recordings = {\n",
    "    'raw':rec_ap,\n",
    "    'filtered+cmr': rec_preprocessed\n",
    "                }"
   ]
  },
  {
   "cell_type": "code",
   "execution_count": null,
   "id": "29e722c3-2cc2-4f9a-b2da-06d16bfc7d97",
   "metadata": {},
   "outputs": [],
   "source": [
    "# Visualize recording\n",
    "si.plot_timeseries(recordings, \n",
    "                   segment_index=0, \n",
    "                   mode='map', # can change to trace\n",
    "                   order_channel_by_depth=True,\n",
    "                   clim=(-40, 40),\n",
    "                   backend='ipywidgets')\n"
   ]
  },
  {
   "attachments": {},
   "cell_type": "markdown",
   "id": "46c5ea12-40ea-422b-aae3-d813190ba969",
   "metadata": {},
   "source": [
    "### Compute necessary files for peaks/noise visualization"
   ]
  },
  {
   "cell_type": "code",
   "execution_count": null,
   "id": "97e88c2a-98cb-4a0a-8851-5d0f744fa524",
   "metadata": {},
   "outputs": [],
   "source": [
    "# Noise unscaled\n",
    "noise_file = output_path / 'noise_levels_unscaled.npy'\n",
    "if noise_file.exists():\n",
    "    noise_levels = np.load(noise_file)\n",
    "else:\n",
    "    noise_levels = si.get_noise_levels(rec_preprocessed, return_scaled=False)\n",
    "    np.save(noise_file, noise_levels)\n",
    "    \n",
    "# Noise scaled\n",
    "noise_file = output_path / 'noise_levels_scaled.npy'\n",
    "if noise_file.exists():\n",
    "    noise_levels_scaled = np.load(noise_file)\n",
    "else:\n",
    "    noise_levels_scaled = si.get_noise_levels(rec_preprocessed, return_scaled=True)\n",
    "    np.save(noise_file, noise_levels)"
   ]
  },
  {
   "cell_type": "code",
   "execution_count": null,
   "id": "b620b899-44fa-4e37-8242-d344853e6493",
   "metadata": {},
   "outputs": [],
   "source": [
    "# Peaks\n",
    "peaks_file = output_path / 'peaks.npy'\n",
    "if peaks_file.exists():\n",
    "    peaks = np.load(peaks_file)\n",
    "else:\n",
    "    peaks = detect_peaks(rec_preprocessed, noise_levels=noise_levels, **peak_detection_params, **job_kwargs)\n",
    "    np.save(peaks_file, peaks)"
   ]
  },
  {
   "cell_type": "code",
   "execution_count": null,
   "id": "ef731331-6f4a-4139-874a-5eeae8b695b7",
   "metadata": {},
   "outputs": [],
   "source": [
    "# Peak location\n",
    "location_file = output_path / 'peak_locations.npy'\n",
    "if location_file.exists():\n",
    "    peak_locations = np.load(location_file)\n",
    "else:\n",
    "    peak_locations = localize_peaks(rec_preprocessed, peaks, **peak_location_params, **job_kwargs)\n",
    "    np.save(location_file, peak_locations)"
   ]
  },
  {
   "cell_type": "code",
   "execution_count": null,
   "id": "09bb2510-3078-44ff-9598-a415a59e4e21",
   "metadata": {},
   "outputs": [],
   "source": [
    "# Visualize potential drift\n",
    "widgets.interact(plot_drift,\n",
    "                 time_range=widgets.FloatRangeSlider(min=0, max=rec_preprocessed.get_total_duration(), step=1),\n",
    "                 peaks=widgets.fixed(peaks), \n",
    "                 rec_preprocess=widgets.fixed(rec_preprocessed), \n",
    "                 peak_locations=widgets.fixed(peak_locations), \n",
    "                 name=widgets.fixed(rec_name)                 \n",
    "                )"
   ]
  },
  {
   "cell_type": "code",
   "execution_count": null,
   "id": "58d917c7-e28f-4ec0-9fb5-00dee2d2933d",
   "metadata": {},
   "outputs": [],
   "source": [
    "# Visualize peaks on the probe\n",
    "widgets.interact(plot_peaks_axis,\n",
    "                 time_range=widgets.FloatRangeSlider(min=0, max=rec_preprocessed.get_total_duration(), step=1),\n",
    "                 peaks=widgets.fixed(peaks), \n",
    "                 rec_preprocess=widgets.fixed(rec_preprocessed), \n",
    "                 peak_locations=widgets.fixed(peak_locations), \n",
    "                 name=widgets.fixed(rec_name)                 \n",
    "                )"
   ]
  },
  {
   "cell_type": "code",
   "execution_count": null,
   "id": "25c16ae4-af1c-428b-9aa2-406d5c28ecf7",
   "metadata": {},
   "outputs": [],
   "source": [
    "# Visualize peak activity as a density map\n",
    "widgets.interact(plot_peaks_activity,\n",
    "                 time_range=widgets.FloatRangeSlider(min=0, max=rec_preprocessed.get_total_duration(), step=1),\n",
    "                 peaks=widgets.fixed(peaks), \n",
    "                 rec_preprocess=widgets.fixed(rec_preprocessed), \n",
    "                 peak_locations=widgets.fixed(peak_locations), \n",
    "                 name=widgets.fixed(rec_name)                 \n",
    "                )"
   ]
  },
  {
   "cell_type": "code",
   "execution_count": 4,
   "id": "b3469adf-8ca5-4f1d-91ee-464d1ae2832c",
   "metadata": {},
   "outputs": [
    {
     "ename": "NameError",
     "evalue": "name 'rec_preprocessed' is not defined",
     "output_type": "error",
     "traceback": [
      "\u001b[0;31m---------------------------------------------------------------------------\u001b[0m",
      "\u001b[0;31mNameError\u001b[0m                                 Traceback (most recent call last)",
      "\u001b[1;32m/home/eduarda/python-related/github-repos/spike_sorting_with_samuel/experimental_room/chunk_file.ipynb Cell 15\u001b[0m line \u001b[0;36m2\n\u001b[1;32m      <a href='vscode-notebook-cell:/home/eduarda/python-related/github-repos/spike_sorting_with_samuel/experimental_room/chunk_file.ipynb#X20sZmlsZQ%3D%3D?line=0'>1</a>\u001b[0m widgets\u001b[39m.\u001b[39minteract(plot_noise,\n\u001b[0;32m----> <a href='vscode-notebook-cell:/home/eduarda/python-related/github-repos/spike_sorting_with_samuel/experimental_room/chunk_file.ipynb#X20sZmlsZQ%3D%3D?line=1'>2</a>\u001b[0m                  time_range\u001b[39m=\u001b[39mwidgets\u001b[39m.\u001b[39mFloatRangeSlider(value\u001b[39m=\u001b[39m[\u001b[39m0\u001b[39m,rec_preprocessed\u001b[39m.\u001b[39mget_total_duration()], \u001b[39mmin\u001b[39m\u001b[39m=\u001b[39m\u001b[39m0\u001b[39m, \u001b[39mmax\u001b[39m\u001b[39m=\u001b[39mrec_preprocessed\u001b[39m.\u001b[39mget_total_duration(), step\u001b[39m=\u001b[39m\u001b[39m1\u001b[39m),\n\u001b[1;32m      <a href='vscode-notebook-cell:/home/eduarda/python-related/github-repos/spike_sorting_with_samuel/experimental_room/chunk_file.ipynb#X20sZmlsZQ%3D%3D?line=2'>3</a>\u001b[0m                  clim\u001b[39m=\u001b[39mwidgets\u001b[39m.\u001b[39mFloatRangeSlider(value\u001b[39m=\u001b[39m(\u001b[39m0\u001b[39m,\u001b[39m20\u001b[39m), \u001b[39mmin\u001b[39m\u001b[39m=\u001b[39m\u001b[39m-\u001b[39m\u001b[39m10\u001b[39m, \u001b[39mmax\u001b[39m\u001b[39m=\u001b[39m\u001b[39m40\u001b[39m, step\u001b[39m=\u001b[39m\u001b[39m1\u001b[39m),\n\u001b[1;32m      <a href='vscode-notebook-cell:/home/eduarda/python-related/github-repos/spike_sorting_with_samuel/experimental_room/chunk_file.ipynb#X20sZmlsZQ%3D%3D?line=3'>4</a>\u001b[0m                  noise_levels_scaled\u001b[39m=\u001b[39mwidgets\u001b[39m.\u001b[39mfixed(noise_levels_scaled),\n\u001b[1;32m      <a href='vscode-notebook-cell:/home/eduarda/python-related/github-repos/spike_sorting_with_samuel/experimental_room/chunk_file.ipynb#X20sZmlsZQ%3D%3D?line=4'>5</a>\u001b[0m                  peaks\u001b[39m=\u001b[39mwidgets\u001b[39m.\u001b[39mfixed(peaks), \n\u001b[1;32m      <a href='vscode-notebook-cell:/home/eduarda/python-related/github-repos/spike_sorting_with_samuel/experimental_room/chunk_file.ipynb#X20sZmlsZQ%3D%3D?line=5'>6</a>\u001b[0m                  rec_preprocess\u001b[39m=\u001b[39mwidgets\u001b[39m.\u001b[39mfixed(rec_preprocessed), \n\u001b[1;32m      <a href='vscode-notebook-cell:/home/eduarda/python-related/github-repos/spike_sorting_with_samuel/experimental_room/chunk_file.ipynb#X20sZmlsZQ%3D%3D?line=6'>7</a>\u001b[0m                  peak_locations\u001b[39m=\u001b[39mwidgets\u001b[39m.\u001b[39mfixed(peak_locations), \n\u001b[1;32m      <a href='vscode-notebook-cell:/home/eduarda/python-related/github-repos/spike_sorting_with_samuel/experimental_room/chunk_file.ipynb#X20sZmlsZQ%3D%3D?line=7'>8</a>\u001b[0m                  name\u001b[39m=\u001b[39mwidgets\u001b[39m.\u001b[39mfixed(rec_name)\n\u001b[1;32m      <a href='vscode-notebook-cell:/home/eduarda/python-related/github-repos/spike_sorting_with_samuel/experimental_room/chunk_file.ipynb#X20sZmlsZQ%3D%3D?line=8'>9</a>\u001b[0m                  \n\u001b[1;32m     <a href='vscode-notebook-cell:/home/eduarda/python-related/github-repos/spike_sorting_with_samuel/experimental_room/chunk_file.ipynb#X20sZmlsZQ%3D%3D?line=9'>10</a>\u001b[0m                 )\n",
      "\u001b[0;31mNameError\u001b[0m: name 'rec_preprocessed' is not defined"
     ]
    }
   ],
   "source": [
    "widgets.interact(plot_noise,\n",
    "                 time_range=widgets.FloatRangeSlider(value=[0,rec_preprocessed.get_total_duration()], min=0, max=rec_preprocessed.get_total_duration(), step=1),\n",
    "                 clim=widgets.FloatRangeSlider(value=(0,20), min=-10, max=40, step=1),\n",
    "                 noise_levels_scaled=widgets.fixed(noise_levels_scaled),\n",
    "                 peaks=widgets.fixed(peaks), \n",
    "                 rec_preprocess=widgets.fixed(rec_preprocessed), \n",
    "                 peak_locations=widgets.fixed(peak_locations), \n",
    "                 name=widgets.fixed(rec_name)\n",
    "                 \n",
    "                )"
   ]
  },
  {
   "cell_type": "code",
   "execution_count": 4,
   "id": "de41612f-5855-4fe6-b141-f1a155bdec36",
   "metadata": {},
   "outputs": [],
   "source": [
    "# Reading all streams in the necessary way\n",
    "rec_ap = si.read_spikeglx(rec_path, stream_id='imec0.ap', load_sync_channel=True)\n",
    "rec_mic = si.read_spikeglx(rec_path, stream_id='nidq', load_sync_channel=True)\n",
    "rec_lf = si.read_spikeglx(rec_path, stream_id='imec0.lf', load_sync_channel=True)"
   ]
  },
  {
   "cell_type": "code",
   "execution_count": null,
   "id": "d2713183",
   "metadata": {},
   "outputs": [],
   "source": [
    "rec_ap"
   ]
  },
  {
   "cell_type": "code",
   "execution_count": 5,
   "id": "fc568f7d",
   "metadata": {},
   "outputs": [
    {
     "name": "stdout",
     "output_type": "stream",
     "text": [
      "[FrameSliceRecording: 385 channels - 30.0kHz - 1 segments - 9,000,215 samples \n",
      "                     300.00s (5.00 minutes) - int16 dtype - 6.45 GiB, FrameSliceRecording: 9 channels - 32.7kHz - 1 segments - 9,816,957 samples \n",
      "                     300.00s (5.00 minutes) - int16 dtype - 168.52 MiB, FrameSliceRecording: 385 channels - 2.5kHz - 1 segments - 750,017 samples - 300.00s (5.00 minutes) \n",
      "                     int16 dtype - 550.76 MiB]\n"
     ]
    },
    {
     "ename": "FileNotFoundError",
     "evalue": "[Errno 2] No such file or directory: '/nas/Neuropixel_Recordings/AreaX-LMAN/Imp_29_11_2022/Recordings/Rec_2_30_11_2022-morning_nap_g0_from_0_to_300s/Rec_2_30_11_2022-morning_nap_g0_t0.imec0.ap.meta'",
     "output_type": "error",
     "traceback": [
      "\u001b[0;31m---------------------------------------------------------------------------\u001b[0m",
      "\u001b[0;31mFileNotFoundError\u001b[0m                         Traceback (most recent call last)",
      "\u001b[1;32m/home/eduarda/python-related/github-repos/spike_sorting_with_samuel/experimental_room/chunk_file.ipynb Cell 18\u001b[0m line \u001b[0;36m5\n\u001b[1;32m      <a href='vscode-notebook-cell:/home/eduarda/python-related/github-repos/spike_sorting_with_samuel/experimental_room/chunk_file.ipynb#X23sZmlsZQ%3D%3D?line=1'>2</a>\u001b[0m time_range \u001b[39m=\u001b[39m (\u001b[39m0\u001b[39m, \u001b[39m300\u001b[39m)\n\u001b[1;32m      <a href='vscode-notebook-cell:/home/eduarda/python-related/github-repos/spike_sorting_with_samuel/experimental_room/chunk_file.ipynb#X23sZmlsZQ%3D%3D?line=2'>3</a>\u001b[0m \u001b[39m# rec_lf = None\u001b[39;00m\n\u001b[1;32m      <a href='vscode-notebook-cell:/home/eduarda/python-related/github-repos/spike_sorting_with_samuel/experimental_room/chunk_file.ipynb#X23sZmlsZQ%3D%3D?line=3'>4</a>\u001b[0m \u001b[39m# rec_mic = None\u001b[39;00m\n\u001b[0;32m----> <a href='vscode-notebook-cell:/home/eduarda/python-related/github-repos/spike_sorting_with_samuel/experimental_room/chunk_file.ipynb#X23sZmlsZQ%3D%3D?line=4'>5</a>\u001b[0m export_files(rec_ap,\n\u001b[1;32m      <a href='vscode-notebook-cell:/home/eduarda/python-related/github-repos/spike_sorting_with_samuel/experimental_room/chunk_file.ipynb#X23sZmlsZQ%3D%3D?line=5'>6</a>\u001b[0m              rec_lf, \n\u001b[1;32m      <a href='vscode-notebook-cell:/home/eduarda/python-related/github-repos/spike_sorting_with_samuel/experimental_room/chunk_file.ipynb#X23sZmlsZQ%3D%3D?line=6'>7</a>\u001b[0m              rec_mic, \n\u001b[1;32m      <a href='vscode-notebook-cell:/home/eduarda/python-related/github-repos/spike_sorting_with_samuel/experimental_room/chunk_file.ipynb#X23sZmlsZQ%3D%3D?line=7'>8</a>\u001b[0m              rec_path, \n\u001b[1;32m      <a href='vscode-notebook-cell:/home/eduarda/python-related/github-repos/spike_sorting_with_samuel/experimental_room/chunk_file.ipynb#X23sZmlsZQ%3D%3D?line=8'>9</a>\u001b[0m              output_path, \n\u001b[1;32m     <a href='vscode-notebook-cell:/home/eduarda/python-related/github-repos/spike_sorting_with_samuel/experimental_room/chunk_file.ipynb#X23sZmlsZQ%3D%3D?line=9'>10</a>\u001b[0m              time_range)\n",
      "File \u001b[0;32m~/python-related/github-repos/spike_sorting_with_samuel/experimental_room/export_files.py:99\u001b[0m, in \u001b[0;36mexport_files\u001b[0;34m(rec_ap, rec_lf, rec_mic, original_path, output_path, time_range)\u001b[0m\n\u001b[1;32m     96\u001b[0m     file \u001b[39m=\u001b[39m Path(file)\n\u001b[1;32m     97\u001b[0m     shutil\u001b[39m.\u001b[39mcopy(file, output_path_file\u001b[39m/\u001b[39mfile\u001b[39m.\u001b[39mparts[\u001b[39m-\u001b[39m\u001b[39m1\u001b[39m])\n\u001b[0;32m---> 99\u001b[0m correct_metadata(output_path_file, \n\u001b[1;32m    100\u001b[0m                  rec_name, \n\u001b[1;32m    101\u001b[0m                  rec_ap_new,\n\u001b[1;32m    102\u001b[0m                  rec_lf_new, \n\u001b[1;32m    103\u001b[0m                  rec_mic_new)\n\u001b[1;32m    105\u001b[0m readme_path \u001b[39m=\u001b[39m output_path_file \u001b[39m/\u001b[39m \u001b[39m'\u001b[39m\u001b[39mreadme.txt\u001b[39m\u001b[39m'\u001b[39m\n\u001b[1;32m    106\u001b[0m \u001b[39mwith\u001b[39;00m \u001b[39mopen\u001b[39m(readme_path, \u001b[39m'\u001b[39m\u001b[39mw\u001b[39m\u001b[39m'\u001b[39m) \u001b[39mas\u001b[39;00m fp:\n",
      "File \u001b[0;32m~/python-related/github-repos/spike_sorting_with_samuel/experimental_room/export_files.py:38\u001b[0m, in \u001b[0;36mcorrect_metadata\u001b[0;34m(output_path_file, rec_name, rec_ap_new, rec_lf_new, rec_mic_new)\u001b[0m\n\u001b[1;32m     36\u001b[0m \u001b[39mfor\u001b[39;00m rec, suffix \u001b[39min\u001b[39;00m \u001b[39mzip\u001b[39m(recs,suffixes):\n\u001b[1;32m     37\u001b[0m     file_path \u001b[39m=\u001b[39m (output_path_file \u001b[39m/\u001b[39m (rec_name\u001b[39m+\u001b[39msuffix))\n\u001b[0;32m---> 38\u001b[0m     meta \u001b[39m=\u001b[39m file_path\u001b[39m.\u001b[39;49mread_text()\u001b[39m.\u001b[39msplitlines()\n\u001b[1;32m     39\u001b[0m     file_size_bytes \u001b[39m=\u001b[39m meta[\u001b[39m5\u001b[39m]\u001b[39m.\u001b[39msplit(\u001b[39m'\u001b[39m\u001b[39m=\u001b[39m\u001b[39m'\u001b[39m)\n\u001b[1;32m     40\u001b[0m     file_time_secs \u001b[39m=\u001b[39m meta[\u001b[39m6\u001b[39m]\u001b[39m.\u001b[39msplit(\u001b[39m'\u001b[39m\u001b[39m=\u001b[39m\u001b[39m'\u001b[39m)\n",
      "File \u001b[0;32m/usr/lib/python3.10/pathlib.py:1134\u001b[0m, in \u001b[0;36mPath.read_text\u001b[0;34m(self, encoding, errors)\u001b[0m\n\u001b[1;32m   1130\u001b[0m \u001b[39m\u001b[39m\u001b[39m\"\"\"\u001b[39;00m\n\u001b[1;32m   1131\u001b[0m \u001b[39mOpen the file in text mode, read it, and close the file.\u001b[39;00m\n\u001b[1;32m   1132\u001b[0m \u001b[39m\"\"\"\u001b[39;00m\n\u001b[1;32m   1133\u001b[0m encoding \u001b[39m=\u001b[39m io\u001b[39m.\u001b[39mtext_encoding(encoding)\n\u001b[0;32m-> 1134\u001b[0m \u001b[39mwith\u001b[39;00m \u001b[39mself\u001b[39;49m\u001b[39m.\u001b[39;49mopen(mode\u001b[39m=\u001b[39;49m\u001b[39m'\u001b[39;49m\u001b[39mr\u001b[39;49m\u001b[39m'\u001b[39;49m, encoding\u001b[39m=\u001b[39;49mencoding, errors\u001b[39m=\u001b[39;49merrors) \u001b[39mas\u001b[39;00m f:\n\u001b[1;32m   1135\u001b[0m     \u001b[39mreturn\u001b[39;00m f\u001b[39m.\u001b[39mread()\n",
      "File \u001b[0;32m/usr/lib/python3.10/pathlib.py:1119\u001b[0m, in \u001b[0;36mPath.open\u001b[0;34m(self, mode, buffering, encoding, errors, newline)\u001b[0m\n\u001b[1;32m   1117\u001b[0m \u001b[39mif\u001b[39;00m \u001b[39m\"\u001b[39m\u001b[39mb\u001b[39m\u001b[39m\"\u001b[39m \u001b[39mnot\u001b[39;00m \u001b[39min\u001b[39;00m mode:\n\u001b[1;32m   1118\u001b[0m     encoding \u001b[39m=\u001b[39m io\u001b[39m.\u001b[39mtext_encoding(encoding)\n\u001b[0;32m-> 1119\u001b[0m \u001b[39mreturn\u001b[39;00m \u001b[39mself\u001b[39;49m\u001b[39m.\u001b[39;49m_accessor\u001b[39m.\u001b[39;49mopen(\u001b[39mself\u001b[39;49m, mode, buffering, encoding, errors,\n\u001b[1;32m   1120\u001b[0m                            newline)\n",
      "\u001b[0;31mFileNotFoundError\u001b[0m: [Errno 2] No such file or directory: '/nas/Neuropixel_Recordings/AreaX-LMAN/Imp_29_11_2022/Recordings/Rec_2_30_11_2022-morning_nap_g0_from_0_to_300s/Rec_2_30_11_2022-morning_nap_g0_t0.imec0.ap.meta'"
     ]
    }
   ],
   "source": [
    "# # Save new files\n",
    "time_range = (0, 300)\n",
    "# rec_lf = None\n",
    "# rec_mic = None\n",
    "export_files(rec_ap,\n",
    "             rec_lf, \n",
    "             rec_mic, \n",
    "             rec_path, \n",
    "             output_path, \n",
    "             time_range)"
   ]
  },
  {
   "cell_type": "code",
   "execution_count": null,
   "id": "4dff2d4e",
   "metadata": {},
   "outputs": [],
   "source": []
  }
 ],
 "metadata": {
  "kernelspec": {
   "display_name": "Python 3 (ipykernel)",
   "language": "python",
   "name": "python3"
  },
  "language_info": {
   "codemirror_mode": {
    "name": "ipython",
    "version": 3
   },
   "file_extension": ".py",
   "mimetype": "text/x-python",
   "name": "python",
   "nbconvert_exporter": "python",
   "pygments_lexer": "ipython3",
   "version": "3.10.12"
  },
  "vscode": {
   "interpreter": {
    "hash": "1ae66d4f553a2cfdf49ffdb148f0a010225e81b9c5cd813313cd759aaca7fe83"
   }
  }
 },
 "nbformat": 4,
 "nbformat_minor": 5
}
