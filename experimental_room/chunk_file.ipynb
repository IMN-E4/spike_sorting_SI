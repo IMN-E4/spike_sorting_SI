{
 "cells": [
  {
   "cell_type": "code",
   "execution_count": null,
   "id": "8aae479b-2c85-4522-ae20-96f7ba5c2353",
   "metadata": {},
   "outputs": [],
   "source": [
    "%load_ext autoreload\n",
    "%autoreload 2"
   ]
  },
  {
   "cell_type": "code",
   "execution_count": 1,
   "id": "deb796b8-d00a-4e5a-af81-63c14e511a6c",
   "metadata": {},
   "outputs": [],
   "source": [
    "import numpy as np\n",
    "from pathlib import Path\n",
    "\n",
    "import spikeinterface.full as si\n",
    "from spikeinterface.sortingcomponents.peak_detection import detect_peaks\n",
    "from spikeinterface.sortingcomponents.peak_localization import localize_peaks\n",
    "\n",
    "from myfigures_interactive import *\n",
    "from params import *\n",
    "from export_files import export_files\n",
    "\n",
    "import ipywidgets as widgets\n",
    "\n",
    "%matplotlib widget"
   ]
  },
  {
   "cell_type": "code",
   "execution_count": 2,
   "id": "c8421004-4ddb-41e1-9795-d53a840ce186",
   "metadata": {},
   "outputs": [],
   "source": [
    "import warnings\n",
    "warnings.filterwarnings(\"ignore\")"
   ]
  },
  {
   "cell_type": "code",
   "execution_count": 3,
   "id": "73bc064f-3154-4f30-993d-f9b33421b565",
   "metadata": {},
   "outputs": [],
   "source": [
    "# Recording path\n",
    "core_path = Path('/nas/Neuropixel_Recordings/AreaX-LMAN/Imp_30_03_2022/Recordings/')\n",
    "rec_name = 'Rec_31_03_2022_sleep_g0' # Main thing to change between recordings\n",
    "rec_path = core_path / rec_name\n",
    "\n",
    "# Output path\n",
    "output_path = rec_path\n",
    "\n",
    "# if not output_path.exists():\n",
    "#     output_path.mkdir()"
   ]
  },
  {
   "cell_type": "code",
   "execution_count": null,
   "id": "de22a4dc-4d76-4a4a-80bd-4009f7c44eb6",
   "metadata": {},
   "outputs": [],
   "source": [
    "# Read recording\n",
    "rec_ap = si.read_spikeglx(rec_path, stream_id='imec0.ap')\n",
    "rec_preprocessed = si.bandpass_filter(si.common_reference(rec_ap, reference='local', local_radius=(50, 100)), freq_min=300, freq_max=6000)"
   ]
  },
  {
   "cell_type": "code",
   "execution_count": null,
   "id": "267db674-1430-4c27-8b4e-64d1ab28f276",
   "metadata": {},
   "outputs": [],
   "source": [
    "recordings = {\n",
    "    'raw':rec_ap,\n",
    "    'filtered+cmr': rec_preprocessed\n",
    "                }"
   ]
  },
  {
   "cell_type": "code",
   "execution_count": null,
   "id": "29e722c3-2cc2-4f9a-b2da-06d16bfc7d97",
   "metadata": {},
   "outputs": [],
   "source": [
    "# Visualize recording\n",
    "si.plot_timeseries(recordings, \n",
    "                   segment_index=0, \n",
    "                   mode='map', # can change to trace\n",
    "                   order_channel_by_depth=True,\n",
    "                   clim=(-40, 40),\n",
    "                   backend='ipywidgets')\n"
   ]
  },
  {
   "attachments": {},
   "cell_type": "markdown",
   "id": "46c5ea12-40ea-422b-aae3-d813190ba969",
   "metadata": {},
   "source": [
    "### Compute necessary files for peaks/noise visualization"
   ]
  },
  {
   "cell_type": "code",
   "execution_count": null,
   "id": "97e88c2a-98cb-4a0a-8851-5d0f744fa524",
   "metadata": {},
   "outputs": [],
   "source": [
    "# Noise unscaled\n",
    "noise_file = output_path / 'noise_levels_unscaled.npy'\n",
    "if noise_file.exists():\n",
    "    noise_levels = np.load(noise_file)\n",
    "else:\n",
    "    noise_levels = si.get_noise_levels(rec_preprocessed, return_scaled=False)\n",
    "    np.save(noise_file, noise_levels)\n",
    "    \n",
    "# Noise scaled\n",
    "noise_file = output_path / 'noise_levels_scaled.npy'\n",
    "if noise_file.exists():\n",
    "    noise_levels_scaled = np.load(noise_file)\n",
    "else:\n",
    "    noise_levels_scaled = si.get_noise_levels(rec_preprocessed, return_scaled=True)\n",
    "    np.save(noise_file, noise_levels)"
   ]
  },
  {
   "cell_type": "code",
   "execution_count": null,
   "id": "b620b899-44fa-4e37-8242-d344853e6493",
   "metadata": {},
   "outputs": [],
   "source": [
    "# Peaks\n",
    "peaks_file = output_path / 'peaks.npy'\n",
    "if peaks_file.exists():\n",
    "    peaks = np.load(peaks_file)\n",
    "else:\n",
    "    peaks = detect_peaks(rec_preprocessed, noise_levels=noise_levels, **peak_detection_params, **job_kwargs)\n",
    "    np.save(peaks_file, peaks)"
   ]
  },
  {
   "cell_type": "code",
   "execution_count": null,
   "id": "ef731331-6f4a-4139-874a-5eeae8b695b7",
   "metadata": {},
   "outputs": [],
   "source": [
    "# Peak location\n",
    "location_file = output_path / 'peak_locations.npy'\n",
    "if location_file.exists():\n",
    "    peak_locations = np.load(location_file)\n",
    "else:\n",
    "    peak_locations = localize_peaks(rec_preprocessed, peaks, **peak_location_params, **job_kwargs)\n",
    "    np.save(location_file, peak_locations)"
   ]
  },
  {
   "cell_type": "code",
   "execution_count": null,
   "id": "09bb2510-3078-44ff-9598-a415a59e4e21",
   "metadata": {},
   "outputs": [],
   "source": [
    "# Visualize potential drift\n",
    "widgets.interact(plot_drift,\n",
    "                 time_range=widgets.FloatRangeSlider(min=0, max=rec_preprocessed.get_total_duration(), step=1),\n",
    "                 peaks=widgets.fixed(peaks), \n",
    "                 rec_preprocess=widgets.fixed(rec_preprocessed), \n",
    "                 peak_locations=widgets.fixed(peak_locations), \n",
    "                 name=widgets.fixed(rec_name)                 \n",
    "                )"
   ]
  },
  {
   "cell_type": "code",
   "execution_count": null,
   "id": "58d917c7-e28f-4ec0-9fb5-00dee2d2933d",
   "metadata": {},
   "outputs": [],
   "source": [
    "# Visualize peaks on the probe\n",
    "widgets.interact(plot_peaks_axis,\n",
    "                 time_range=widgets.FloatRangeSlider(min=0, max=rec_preprocessed.get_total_duration(), step=1),\n",
    "                 peaks=widgets.fixed(peaks), \n",
    "                 rec_preprocess=widgets.fixed(rec_preprocessed), \n",
    "                 peak_locations=widgets.fixed(peak_locations), \n",
    "                 name=widgets.fixed(rec_name)                 \n",
    "                )"
   ]
  },
  {
   "cell_type": "code",
   "execution_count": null,
   "id": "25c16ae4-af1c-428b-9aa2-406d5c28ecf7",
   "metadata": {},
   "outputs": [],
   "source": [
    "# Visualize peak activity as a density map\n",
    "widgets.interact(plot_peaks_activity,\n",
    "                 time_range=widgets.FloatRangeSlider(min=0, max=rec_preprocessed.get_total_duration(), step=1),\n",
    "                 peaks=widgets.fixed(peaks), \n",
    "                 rec_preprocess=widgets.fixed(rec_preprocessed), \n",
    "                 peak_locations=widgets.fixed(peak_locations), \n",
    "                 name=widgets.fixed(rec_name)                 \n",
    "                )"
   ]
  },
  {
   "cell_type": "code",
   "execution_count": null,
   "id": "b3469adf-8ca5-4f1d-91ee-464d1ae2832c",
   "metadata": {},
   "outputs": [],
   "source": [
    "widgets.interact(plot_noise,\n",
    "                 time_range=widgets.FloatRangeSlider(value=[0,rec_preprocessed.get_total_duration()], min=0, max=rec_preprocessed.get_total_duration(), step=1),\n",
    "                 clim=widgets.FloatRangeSlider(value=(0,20), min=-10, max=40, step=1),\n",
    "                 noise_levels_scaled=widgets.fixed(noise_levels_scaled),\n",
    "                 peaks=widgets.fixed(peaks), \n",
    "                 rec_preprocess=widgets.fixed(rec_preprocessed), \n",
    "                 peak_locations=widgets.fixed(peak_locations), \n",
    "                 name=widgets.fixed(rec_name)\n",
    "                 \n",
    "                )"
   ]
  },
  {
   "cell_type": "code",
   "execution_count": null,
   "id": "de41612f-5855-4fe6-b141-f1a155bdec36",
   "metadata": {},
   "outputs": [],
   "source": [
    "# Reading all streams in the necessary way\n",
    "rec_ap = si.read_spikeglx(rec_path, stream_id='imec0.ap', load_sync_channel=True)\n",
    "rec_mic = si.read_spikeglx(rec_path, stream_id='nidq', load_sync_channel=True)\n",
    "rec_lf = si.read_spikeglx(rec_path, stream_id='imec0.lf', load_sync_channel=True)"
   ]
  },
  {
   "cell_type": "code",
   "execution_count": null,
   "id": "d2713183",
   "metadata": {},
   "outputs": [],
   "source": [
    "rec_ap"
   ]
  },
  {
   "cell_type": "code",
   "execution_count": null,
   "id": "fc568f7d",
   "metadata": {},
   "outputs": [],
   "source": [
    "# # Save new files\n",
    "time_range = (3600, 10800)\n",
    "# rec_lf = None\n",
    "# rec_mic = None\n",
    "export_files(rec_ap,\n",
    "             rec_lf, \n",
    "             rec_mic, \n",
    "             rec_path, \n",
    "             output_path, \n",
    "             time_range)"
   ]
  },
  {
   "cell_type": "code",
   "execution_count": null,
   "id": "4dff2d4e",
   "metadata": {},
   "outputs": [],
   "source": []
  }
 ],
 "metadata": {
  "kernelspec": {
   "display_name": "Python 3 (ipykernel)",
   "language": "python",
   "name": "python3"
  },
  "language_info": {
   "codemirror_mode": {
    "name": "ipython",
    "version": 3
   },
   "file_extension": ".py",
   "mimetype": "text/x-python",
   "name": "python",
   "nbconvert_exporter": "python",
   "pygments_lexer": "ipython3",
   "version": "3.10.6"
  },
  "vscode": {
   "interpreter": {
    "hash": "1ae66d4f553a2cfdf49ffdb148f0a010225e81b9c5cd813313cd759aaca7fe83"
   }
  }
 },
 "nbformat": 4,
 "nbformat_minor": 5
}
