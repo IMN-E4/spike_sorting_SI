{
 "cells": [
  {
   "cell_type": "markdown",
   "metadata": {},
   "source": [
    "# Example with spikeinterface NEW API\n",
    "\n",
    "This is not based on actual spikeinterfacre but the futur one!!!\n",
    "\n",
    "For installing, you need to do this in a fresh environement:\n",
    "```\n",
    "git clone https://github.com/samuelgarcia/spikeinterface.git\n",
    "cd spikeinterface\n",
    "python setup.py develop\n",
    "```\n",
    "\n",
    "\n",
    "\n"
   ]
  },
  {
   "cell_type": "code",
   "execution_count": 1,
   "metadata": {},
   "outputs": [],
   "source": [
    "# Import packages    \n",
    "%matplotlib widget\n",
    "import matplotlib.pyplot as plt\n",
    "from pathlib import Path\n",
    "import spikeinterface.full as si\n",
    "from probeinterface import read_spikeglx\n",
    "from probeinterface.plotting import plot_probe\n",
    "import numpy as np"
   ]
  },
  {
   "cell_type": "code",
   "execution_count": 2,
   "metadata": {},
   "outputs": [
    {
     "name": "stdout",
     "output_type": "stream",
     "text": [
      "['herdingspikes', 'spykingcircus', 'tridesclous']\n"
     ]
    }
   ],
   "source": [
    "print(si.installed_sorters())"
   ]
  },
  {
   "cell_type": "markdown",
   "metadata": {},
   "source": [
    "## read dataset"
   ]
  },
  {
   "cell_type": "code",
   "execution_count": 3,
   "metadata": {},
   "outputs": [
    {
     "name": "stdout",
     "output_type": "stream",
     "text": [
      "SpikeGLXRecordingExtractor: 385 channels - 1 segments - 30.0kHz - 3881.358s\n",
      "384\n",
      "Probe - 384ch\n",
      "ChannelSliceRecording: 384 channels - 1 segments - 30.0kHz - 3881.358s\n"
     ]
    }
   ],
   "source": [
    "base_folder = Path('/home/arthur/Documents/SpikeSorting/Test_20210518/') \n",
    "\n",
    "data_folder = base_folder / 'raw_awake'\n",
    "\n",
    "out_path = Path('/media/storage/spikesorting_output/REST/')\n",
    "\n",
    "recording = si.SpikeGLXRecordingExtractor(data_folder)\n",
    "print(recording)\n",
    "\n",
    "probe = read_spikeglx(data_folder / 'raw_awake_01_g0_t0.imec0.ap.meta')\n",
    "print(probe)\n",
    "recording = recording.set_probe(probe)\n",
    "print(recording)"
   ]
  },
  {
   "cell_type": "code",
   "execution_count": 5,
   "metadata": {},
   "outputs": [
    {
     "name": "stdout",
     "output_type": "stream",
     "text": [
      "FrameSliceRecording: 384 channels - 1 segments - 30.0kHz - 500.000s\n"
     ]
    }
   ],
   "source": [
    "fs = recording.get_sampling_frequency()\n",
    "\n",
    "rest_window = (2000, 2500) # Time in seconds\n",
    "\n",
    "rest_rec = recording.frame_slice(rest_window[0]*fs, rest_window[1]*fs)\n",
    "rest_rec = rest_rec.set_probe(probe)\n",
    "print(rest_rec)"
   ]
  },
  {
   "cell_type": "code",
   "execution_count": null,
   "metadata": {},
   "outputs": [],
   "source": [
    "w_ts = si.plot_timeseries(rest_rec, time_range=(0,50), channel_ids=rest_rec.channel_ids[0:2]) # plotting just the first 10 channels\n",
    "w_ts.figure.suptitle('Recording First 10 Channels')\n",
    "w_ts.ax.set_y_label('Channels IDs')"
   ]
  },
  {
   "cell_type": "markdown",
   "metadata": {},
   "source": [
    "## check probe"
   ]
  },
  {
   "cell_type": "code",
   "execution_count": 36,
   "metadata": {},
   "outputs": [
    {
     "data": {
      "application/vnd.jupyter.widget-view+json": {
       "model_id": "416bbd09e335426a9fd2d31aa67b452a",
       "version_major": 2,
       "version_minor": 0
      },
      "text/plain": [
       "Canvas(toolbar=Toolbar(toolitems=[('Home', 'Reset original view', 'home', 'home'), ('Back', 'Back to previous …"
      ]
     },
     "metadata": {},
     "output_type": "display_data"
    },
    {
     "data": {
      "text/plain": [
       "<spikeinterface.widgets.probemap.ProbeMapWidget at 0x7f1b254e9760>"
      ]
     },
     "execution_count": 36,
     "metadata": {},
     "output_type": "execute_result"
    }
   ],
   "source": [
    "si.plot_probe_map(rest_rec, channel_ids=rest_rec.channel_ids[0:100]) # You can change which channels are plotted"
   ]
  },
  {
   "cell_type": "markdown",
   "metadata": {},
   "source": [
    "## run tridesclous\n",
    "\n",
    "This is slow, run this once."
   ]
  },
  {
   "cell_type": "code",
   "execution_count": 6,
   "metadata": {},
   "outputs": [
    {
     "name": "stdout",
     "output_type": "stream",
     "text": [
      "Local copy of recording\n"
     ]
    },
    {
     "name": "stderr",
     "output_type": "stream",
     "text": [
      "write_binary_recording: 100%|██████████| 185/185 [00:57<00:00,  3.20it/s]\n"
     ]
    },
    {
     "name": "stdout",
     "output_type": "stream",
     "text": [
      "DataIO <id: 140508784883312> \n",
      "  workdir: /media/storage/spikesorting_output/REST/output_TDC_new\n",
      "  sample_rate: 30000.482083\n",
      "  total_channel: 384\n",
      "  channel_groups: 0 [ch0 ch1 ch2 ch3 ... ch380 ch381 ch382 ch383]\n",
      "  nb_segment: 1\n",
      "  length: 15000241\n",
      "  durations: 500.0 s.\n",
      "catalogue_nested_params\n",
      "{'chunksize': 30000,\n",
      " 'clean_cluster': {'apply_auto_merge_cluster': True,\n",
      "                   'apply_auto_split': True,\n",
      "                   'apply_trash_low_extremum': True,\n",
      "                   'apply_trash_not_aligned': True,\n",
      "                   'apply_trash_small_cluster': True},\n",
      " 'clean_peaks': {'alien_value_threshold': 100.0, 'mode': 'extremum_amplitude'},\n",
      " 'cluster_kargs': {'adjacency_radius_um': 50.0,\n",
      "                   'high_adjacency_radius_um': 30.0,\n",
      "                   'max_loop': 7680,\n",
      "                   'min_cluster_size': 20},\n",
      " 'cluster_method': 'pruningshears',\n",
      " 'duration': 499.9999986166889,\n",
      " 'extract_waveforms': {'wf_left_long_ms': -2.5,\n",
      "                       'wf_left_ms': -1.0,\n",
      "                       'wf_right_long_ms': 3.5,\n",
      "                       'wf_right_ms': 1.5},\n",
      " 'feature_kargs': {'adjacency_radius_um': 50.0, 'n_components_by_channel': 3},\n",
      " 'feature_method': 'pca_by_channel',\n",
      " 'make_catalogue': {'inter_sample_oversampling': False,\n",
      "                    'sparse_thresh_level2': 3,\n",
      "                    'subsample_ratio': 'auto'},\n",
      " 'memory_mode': 'memmap',\n",
      " 'mode': 'sparse',\n",
      " 'n_jobs': -1,\n",
      " 'n_spike_for_centroid': 350,\n",
      " 'noise_snippet': {'nb_snippet': 300},\n",
      " 'peak_detector': {'adjacency_radius_um': 100,\n",
      "                   'engine': 'numba',\n",
      "                   'method': 'geometrical',\n",
      "                   'peak_sign': '-',\n",
      "                   'peak_span_ms': 0.7,\n",
      "                   'relative_threshold': 6,\n",
      "                   'smooth_radius_um': None},\n",
      " 'peak_sampler': {'mode': 'rand_by_channel',\n",
      "                  'nb_max': 20000,\n",
      "                  'nb_max_by_channel': 1000},\n",
      " 'preprocessor': {'common_ref_removal': True,\n",
      "                  'engine': 'numpy',\n",
      "                  'highpass_freq': 300.0,\n",
      "                  'lowpass_freq': 6000.0,\n",
      "                  'pad_width': -1,\n",
      "                  'smooth_size': 0},\n",
      " 'sparse_threshold': 1.5}\n",
      "peeler_params\n",
      "{'chunksize': 30000, 'engine': 'geometrical'}\n",
      "estimate_signals_noise 27.102655838942155\n",
      "run_signalprocessor 667.4965158810373\n",
      "clean_peaks 0.07771304692141712\n",
      "sample_some_peaks 0.183720180997625\n",
      "extract_some_noise 2.4060332039371133\n",
      "extract_some_features 308.6619039499201\n",
      "find_clusters 24.539189395029098\n",
      "cache_some_waveforms 325.5633229620289\n",
      "compute_all_centroid 151.5261023088824\n",
      "auto_split_cluster 31.298957788851112\n",
      "trash_not_aligned 0.9329991010017693\n",
      "auto_merge_cluster 24.46889708098024\n",
      "trash_low_extremum 0.3192492229864001\n",
      "trash_small_cluster 0.25522141391411424\n",
      "make_catalogue_for_peeler 7.497902153991163\n",
      "CatalogueConstructor\n",
      "  chan_grp 0 - ch0 ch1 ch2 ... ch382 ch383\n",
      "  nb_peak_by_segment: 71818\n",
      "  some_features.shape: (46038, 1152)\n",
      "  cluster_labels 15 [-11 -1 0 ... 13 14]\n",
      "\n",
      "peeler.tun 320.19128330796957\n",
      "tridesclous run time 1892.78s\n"
     ]
    }
   ],
   "source": [
    "tdc_params = {'freq_min': 300.,\n",
    "              'freq_max': 6000.,\n",
    "              'detect_threshold' : 6, \n",
    "              'common_ref_removal': True, \n",
    "              'nested_params' : {'peak_detector': {'adjacency_radius_um': 100},\n",
    "                                 'clean_peaks': {'alien_value_threshold': 100.}}\n",
    "                            }\n",
    "sorting_TCD = si.run_tridesclous(rest_rec, output_folder=out_path / 'output_TDC_new',\n",
    "         verbose=True, **tdc_params)"
   ]
  },
  {
   "cell_type": "markdown",
   "metadata": {},
   "source": [
    "## run herdingspikes -- not working\n",
    "\n",
    "This is slow, run this once."
   ]
  },
  {
   "cell_type": "code",
   "execution_count": 19,
   "metadata": {},
   "outputs": [
    {
     "name": "stdout",
     "output_type": "stream",
     "text": [
      "Herdingspikes use the OLD spikeextractors with RecordingExtractorOldAPI\n",
      "# Generating new position and neighbor files from data file\n",
      "# Not Masking any Channels\n",
      "# Sampling rate: 30000\n",
      "# Localization On\n",
      "# Number of recorded channels: 384\n",
      "# Analysing frames: 15000241; Seconds: 500.00803333333334\n",
      "# Frames before spike in cutout: 9\n",
      "# Frames after spike in cutout: 54\n",
      "# tcuts: 39 84\n",
      "# tInc: 100000\n",
      "# Analysing frames from -39 to 100084  (0.0%)\n",
      "# Analysing frames from 99961 to 200084  (0.7%)\n",
      "# Analysing frames from 199961 to 300084  (1.3%)\n",
      "# Analysing frames from 299961 to 400084  (2.0%)\n",
      "# Analysing frames from 399961 to 500084  (2.7%)\n",
      "# Analysing frames from 499961 to 600084  (3.3%)\n",
      "# Analysing frames from 599961 to 700084  (4.0%)\n",
      "# Analysing frames from 699961 to 800084  (4.7%)\n",
      "# Analysing frames from 799961 to 900084  (5.3%)\n",
      "# Analysing frames from 899961 to 1000084  (6.0%)\n",
      "# Analysing frames from 999961 to 1100084  (6.7%)\n",
      "# Analysing frames from 1099961 to 1200084  (7.3%)\n",
      "# Analysing frames from 1199961 to 1300084  (8.0%)\n",
      "# Analysing frames from 1299961 to 1400084  (8.7%)\n",
      "# Analysing frames from 1399961 to 1500084  (9.3%)\n",
      "# Analysing frames from 1499961 to 1600084  (10.0%)\n",
      "# Analysing frames from 1599961 to 1700084  (10.7%)\n",
      "# Analysing frames from 1699961 to 1800084  (11.3%)\n",
      "# Analysing frames from 1799961 to 1900084  (12.0%)\n",
      "# Analysing frames from 1899961 to 2000084  (12.7%)\n",
      "# Analysing frames from 1999961 to 2100084  (13.3%)\n",
      "# Analysing frames from 2099961 to 2200084  (14.0%)\n",
      "# Analysing frames from 2199961 to 2300084  (14.7%)\n",
      "# Analysing frames from 2299961 to 2400084  (15.3%)\n",
      "# Analysing frames from 2399961 to 2500084  (16.0%)\n",
      "# Analysing frames from 2499961 to 2600084  (16.7%)\n",
      "# Analysing frames from 2599961 to 2700084  (17.3%)\n",
      "# Analysing frames from 2699961 to 2800084  (18.0%)\n",
      "# Analysing frames from 2799961 to 2900084  (18.7%)\n",
      "# Analysing frames from 2899961 to 3000084  (19.3%)\n",
      "# Analysing frames from 2999961 to 3100084  (20.0%)\n",
      "# Analysing frames from 3099961 to 3200084  (20.7%)\n",
      "# Analysing frames from 3199961 to 3300084  (21.3%)\n",
      "# Analysing frames from 3299961 to 3400084  (22.0%)\n",
      "# Analysing frames from 3399961 to 3500084  (22.7%)\n",
      "# Analysing frames from 3499961 to 3600084  (23.3%)\n",
      "# Analysing frames from 3599961 to 3700084  (24.0%)\n",
      "# Analysing frames from 3699961 to 3800084  (24.7%)\n",
      "# Analysing frames from 3799961 to 3900084  (25.3%)\n",
      "# Analysing frames from 3899961 to 4000084  (26.0%)\n",
      "# Analysing frames from 3999961 to 4100084  (26.7%)\n",
      "# Analysing frames from 4099961 to 4200084  (27.3%)\n",
      "# Analysing frames from 4199961 to 4300084  (28.0%)\n",
      "# Analysing frames from 4299961 to 4400084  (28.7%)\n",
      "# Analysing frames from 4399961 to 4500084  (29.3%)\n",
      "# Analysing frames from 4499961 to 4600084  (30.0%)\n",
      "# Analysing frames from 4599961 to 4700084  (30.7%)\n",
      "# Analysing frames from 4699961 to 4800084  (31.3%)\n",
      "# Analysing frames from 4799961 to 4900084  (32.0%)\n",
      "# Analysing frames from 4899961 to 5000084  (32.7%)\n",
      "# Analysing frames from 4999961 to 5100084  (33.3%)\n",
      "# Analysing frames from 5099961 to 5200084  (34.0%)\n",
      "# Analysing frames from 5199961 to 5300084  (34.7%)\n",
      "# Analysing frames from 5299961 to 5400084  (35.3%)\n",
      "# Analysing frames from 5399961 to 5500084  (36.0%)\n",
      "# Analysing frames from 5499961 to 5600084  (36.7%)\n",
      "# Analysing frames from 5599961 to 5700084  (37.3%)\n",
      "# Analysing frames from 5699961 to 5800084  (38.0%)\n",
      "# Analysing frames from 5799961 to 5900084  (38.7%)\n",
      "# Analysing frames from 5899961 to 6000084  (39.3%)\n",
      "# Analysing frames from 5999961 to 6100084  (40.0%)\n",
      "# Analysing frames from 6099961 to 6200084  (40.7%)\n",
      "# Analysing frames from 6199961 to 6300084  (41.3%)\n",
      "# Analysing frames from 6299961 to 6400084  (42.0%)\n",
      "# Analysing frames from 6399961 to 6500084  (42.7%)\n",
      "# Analysing frames from 6499961 to 6600084  (43.3%)\n",
      "# Analysing frames from 6599961 to 6700084  (44.0%)\n",
      "# Analysing frames from 6699961 to 6800084  (44.7%)\n",
      "# Analysing frames from 6799961 to 6900084  (45.3%)\n",
      "# Analysing frames from 6899961 to 7000084  (46.0%)\n",
      "# Analysing frames from 6999961 to 7100084  (46.7%)\n",
      "# Analysing frames from 7099961 to 7200084  (47.3%)\n",
      "# Analysing frames from 7199961 to 7300084  (48.0%)\n",
      "# Analysing frames from 7299961 to 7400084  (48.7%)\n",
      "# Analysing frames from 7399961 to 7500084  (49.3%)\n",
      "# Analysing frames from 7499961 to 7600084  (50.0%)\n",
      "# Analysing frames from 7599961 to 7700084  (50.7%)\n",
      "# Analysing frames from 7699961 to 7800084  (51.3%)\n",
      "# Analysing frames from 7799961 to 7900084  (52.0%)\n",
      "# Analysing frames from 7899961 to 8000084  (52.7%)\n",
      "# Analysing frames from 7999961 to 8100084  (53.3%)\n",
      "# Analysing frames from 8099961 to 8200084  (54.0%)\n",
      "# Analysing frames from 8199961 to 8300084  (54.7%)\n",
      "# Analysing frames from 8299961 to 8400084  (55.3%)\n",
      "# Analysing frames from 8399961 to 8500084  (56.0%)\n",
      "# Analysing frames from 8499961 to 8600084  (56.7%)\n",
      "# Analysing frames from 8599961 to 8700084  (57.3%)\n",
      "# Analysing frames from 8699961 to 8800084  (58.0%)\n",
      "# Analysing frames from 8799961 to 8900084  (58.7%)\n",
      "# Analysing frames from 8899961 to 9000084  (59.3%)\n",
      "# Analysing frames from 8999961 to 9100084  (60.0%)\n",
      "# Analysing frames from 9099961 to 9200084  (60.7%)\n",
      "# Analysing frames from 9199961 to 9300084  (61.3%)\n",
      "# Analysing frames from 9299961 to 9400084  (62.0%)\n",
      "# Analysing frames from 9399961 to 9500084  (62.7%)\n",
      "# Analysing frames from 9499961 to 9600084  (63.3%)\n",
      "# Analysing frames from 9599961 to 9700084  (64.0%)\n",
      "# Analysing frames from 9699961 to 9800084  (64.7%)\n",
      "# Analysing frames from 9799961 to 9900084  (65.3%)\n",
      "# Analysing frames from 9899961 to 10000084  (66.0%)\n",
      "# Analysing frames from 9999961 to 10100084  (66.7%)\n",
      "# Analysing frames from 10099961 to 10200084  (67.3%)\n",
      "# Analysing frames from 10199961 to 10300084  (68.0%)\n",
      "# Analysing frames from 10299961 to 10400084  (68.7%)\n",
      "# Analysing frames from 10399961 to 10500084  (69.3%)\n",
      "# Analysing frames from 10499961 to 10600084  (70.0%)\n",
      "# Analysing frames from 10599961 to 10700084  (70.7%)\n",
      "# Analysing frames from 10699961 to 10800084  (71.3%)\n",
      "# Analysing frames from 10799961 to 10900084  (72.0%)\n",
      "# Analysing frames from 10899961 to 11000084  (72.7%)\n",
      "# Analysing frames from 10999961 to 11100084  (73.3%)\n",
      "# Analysing frames from 11099961 to 11200084  (74.0%)\n",
      "# Analysing frames from 11199961 to 11300084  (74.7%)\n",
      "# Analysing frames from 11299961 to 11400084  (75.3%)\n",
      "# Analysing frames from 11399961 to 11500084  (76.0%)\n",
      "# Analysing frames from 11499961 to 11600084  (76.7%)\n",
      "# Analysing frames from 11599961 to 11700084  (77.3%)\n",
      "# Analysing frames from 11699961 to 11800084  (78.0%)\n",
      "# Analysing frames from 11799961 to 11900084  (78.7%)\n",
      "# Analysing frames from 11899961 to 12000084  (79.3%)\n",
      "# Analysing frames from 11999961 to 12100084  (80.0%)\n",
      "# Analysing frames from 12099961 to 12200084  (80.7%)\n",
      "# Analysing frames from 12199961 to 12300084  (81.3%)\n",
      "# Analysing frames from 12299961 to 12400084  (82.0%)\n",
      "# Analysing frames from 12399961 to 12500084  (82.7%)\n",
      "# Analysing frames from 12499961 to 12600084  (83.3%)\n",
      "# Analysing frames from 12599961 to 12700084  (84.0%)\n",
      "# Analysing frames from 12699961 to 12800084  (84.7%)\n",
      "# Analysing frames from 12799961 to 12900084  (85.3%)\n",
      "# Analysing frames from 12899961 to 13000084  (86.0%)\n",
      "# Analysing frames from 12999961 to 13100084  (86.7%)\n",
      "# Analysing frames from 13099961 to 13200084  (87.3%)\n",
      "# Analysing frames from 13199961 to 13300084  (88.0%)\n",
      "# Analysing frames from 13299961 to 13400084  (88.7%)\n",
      "# Analysing frames from 13399961 to 13500084  (89.3%)\n",
      "# Analysing frames from 13499961 to 13600084  (90.0%)\n",
      "# Analysing frames from 13599961 to 13700084  (90.7%)\n",
      "# Analysing frames from 13699961 to 13800084  (91.3%)\n",
      "# Analysing frames from 13799961 to 13900084  (92.0%)\n",
      "# Analysing frames from 13899961 to 14000084  (92.7%)\n",
      "# Analysing frames from 13999961 to 14100084  (93.3%)\n",
      "# Analysing frames from 14099961 to 14200084  (94.0%)\n",
      "# Analysing frames from 14199961 to 14300084  (94.7%)\n",
      "# Analysing frames from 14299961 to 14400084  (95.3%)\n",
      "# Analysing frames from 14399961 to 14500084  (96.0%)\n",
      "# Analysing frames from 14499961 to 14600084  (96.7%)\n",
      "# Analysing frames from 14599961 to 14700084  (97.3%)\n",
      "# Analysing frames from 14699961 to 14800084  (98.0%)\n",
      "# Analysing frames from 14799961 to 14900084  (98.7%)\n"
     ]
    },
    {
     "name": "stdout",
     "output_type": "stream",
     "text": [
      "# Analysing frames from 14899961 to 15000084  (99.3%)\n",
      "# Analysing frames from 14999961 to 15000241  (100.0%)\n",
      "# Detection completed, time taken: 0:03:40.369553\n",
      "# Time per frame: 0:00:00.014691\n",
      "# Time per sample: 0:00:00.000038\n",
      "Loaded 0 spikes.\n",
      "Traceback (most recent call last):\n",
      "  File \"/home/arthur/GitHub/spikeinterface/spikeinterface/sorters/basesorter.py\", line 203, in run_from_folder\n",
      "    SorterClass._run_from_folder(output_folder, sorter_params, verbose)\n",
      "  File \"/home/arthur/GitHub/spikeinterface/spikeinterface/sorters/herdingspikes/herdingspikes.py\", line 214, in _run_from_folder\n",
      "    uids = C.spikes.cl.unique()\n",
      "  File \"/home/arthur/Envs/spikeinterface/lib/python3.8/site-packages/pandas/core/generic.py\", line 5465, in __getattr__\n",
      "    return object.__getattribute__(self, name)\n",
      "AttributeError: 'DataFrame' object has no attribute 'cl'\n",
      "\n"
     ]
    },
    {
     "name": "stderr",
     "output_type": "stream",
     "text": [
      "/home/arthur/Envs/spikeinterface/lib/python3.8/site-packages/herdingspikes/hs2.py:161: UserWarning: Loading an empty file /media/storage/spikesorting_output/REST/output_herdingspikes/HS2_detected.bin . This usually happens when no spikes weredetected due to the detection parameters being set too strictly\n",
      "  warnings.warn(\n"
     ]
    },
    {
     "ename": "SpikeSortingError",
     "evalue": "Spike sorting failed. You can inspect the runtime trace in spikeinterface_log.json",
     "output_type": "error",
     "traceback": [
      "\u001b[0;31m---------------------------------------------------------------------------\u001b[0m",
      "\u001b[0;31mSpikeSortingError\u001b[0m                         Traceback (most recent call last)",
      "\u001b[0;32m<ipython-input-19-5cfa5900dba0>\u001b[0m in \u001b[0;36m<module>\u001b[0;34m\u001b[0m\n\u001b[1;32m     31\u001b[0m              'filter_duplicates': True}\n\u001b[1;32m     32\u001b[0m \u001b[0;34m\u001b[0m\u001b[0m\n\u001b[0;32m---> 33\u001b[0;31m \u001b[0msorting_HS\u001b[0m \u001b[0;34m=\u001b[0m \u001b[0msi\u001b[0m\u001b[0;34m.\u001b[0m\u001b[0mrun_herdingspikes\u001b[0m\u001b[0;34m(\u001b[0m\u001b[0mrest_rec\u001b[0m\u001b[0;34m,\u001b[0m \u001b[0moutput_folder\u001b[0m\u001b[0;34m=\u001b[0m\u001b[0mout_path\u001b[0m \u001b[0;34m/\u001b[0m \u001b[0;34m'output_herdingspikes'\u001b[0m\u001b[0;34m,\u001b[0m \u001b[0;34m**\u001b[0m\u001b[0mhs_params\u001b[0m\u001b[0;34m)\u001b[0m\u001b[0;34m\u001b[0m\u001b[0;34m\u001b[0m\u001b[0m\n\u001b[0m\u001b[1;32m     34\u001b[0m \u001b[0mprint\u001b[0m\u001b[0;34m(\u001b[0m\u001b[0msorting_HS\u001b[0m\u001b[0;34m)\u001b[0m\u001b[0;34m\u001b[0m\u001b[0;34m\u001b[0m\u001b[0m\n",
      "\u001b[0;32m~/GitHub/spikeinterface/spikeinterface/sorters/runsorter.py\u001b[0m in \u001b[0;36mrun_herdingspikes\u001b[0;34m(*args, **kwargs)\u001b[0m\n\u001b[1;32m    115\u001b[0m \u001b[0;32mdef\u001b[0m \u001b[0mrun_herdingspikes\u001b[0m\u001b[0;34m(\u001b[0m\u001b[0;34m*\u001b[0m\u001b[0margs\u001b[0m\u001b[0;34m,\u001b[0m \u001b[0;34m**\u001b[0m\u001b[0mkwargs\u001b[0m\u001b[0;34m)\u001b[0m\u001b[0;34m:\u001b[0m\u001b[0;34m\u001b[0m\u001b[0;34m\u001b[0m\u001b[0m\n\u001b[1;32m    116\u001b[0m     \u001b[0m__doc__\u001b[0m \u001b[0;34m=\u001b[0m \u001b[0m_common_run_doc\u001b[0m\u001b[0;34m.\u001b[0m\u001b[0mformat\u001b[0m\u001b[0;34m(\u001b[0m\u001b[0;34m'herdingspikes'\u001b[0m\u001b[0;34m)\u001b[0m\u001b[0;34m\u001b[0m\u001b[0;34m\u001b[0m\u001b[0m\n\u001b[0;32m--> 117\u001b[0;31m     \u001b[0;32mreturn\u001b[0m \u001b[0mrun_sorter\u001b[0m\u001b[0;34m(\u001b[0m\u001b[0;34m'herdingspikes'\u001b[0m\u001b[0;34m,\u001b[0m \u001b[0;34m*\u001b[0m\u001b[0margs\u001b[0m\u001b[0;34m,\u001b[0m \u001b[0;34m**\u001b[0m\u001b[0mkwargs\u001b[0m\u001b[0;34m)\u001b[0m\u001b[0;34m\u001b[0m\u001b[0;34m\u001b[0m\u001b[0m\n\u001b[0m\u001b[1;32m    118\u001b[0m \u001b[0;34m\u001b[0m\u001b[0m\n\u001b[1;32m    119\u001b[0m \u001b[0;34m\u001b[0m\u001b[0m\n",
      "\u001b[0;32m~/GitHub/spikeinterface/spikeinterface/sorters/runsorter.py\u001b[0m in \u001b[0;36mrun_sorter\u001b[0;34m(sorter_name, recording, output_folder, remove_existing_folder, delete_output_folder, verbose, raise_error, **sorter_params)\u001b[0m\n\u001b[1;32m     49\u001b[0m     \u001b[0mSorterClass\u001b[0m\u001b[0;34m.\u001b[0m\u001b[0mset_params_to_folder\u001b[0m\u001b[0;34m(\u001b[0m\u001b[0mrecording\u001b[0m\u001b[0;34m,\u001b[0m \u001b[0moutput_folder\u001b[0m\u001b[0;34m,\u001b[0m \u001b[0msorter_params\u001b[0m\u001b[0;34m,\u001b[0m \u001b[0mverbose\u001b[0m\u001b[0;34m)\u001b[0m\u001b[0;34m\u001b[0m\u001b[0;34m\u001b[0m\u001b[0m\n\u001b[1;32m     50\u001b[0m     \u001b[0mSorterClass\u001b[0m\u001b[0;34m.\u001b[0m\u001b[0msetup_recording\u001b[0m\u001b[0;34m(\u001b[0m\u001b[0mrecording\u001b[0m\u001b[0;34m,\u001b[0m \u001b[0moutput_folder\u001b[0m\u001b[0;34m,\u001b[0m \u001b[0mverbose\u001b[0m\u001b[0;34m=\u001b[0m\u001b[0mverbose\u001b[0m\u001b[0;34m)\u001b[0m\u001b[0;34m\u001b[0m\u001b[0;34m\u001b[0m\u001b[0m\n\u001b[0;32m---> 51\u001b[0;31m     \u001b[0mSorterClass\u001b[0m\u001b[0;34m.\u001b[0m\u001b[0mrun_from_folder\u001b[0m\u001b[0;34m(\u001b[0m\u001b[0moutput_folder\u001b[0m\u001b[0;34m,\u001b[0m \u001b[0mraise_error\u001b[0m\u001b[0;34m,\u001b[0m \u001b[0mverbose\u001b[0m\u001b[0;34m)\u001b[0m\u001b[0;34m\u001b[0m\u001b[0;34m\u001b[0m\u001b[0m\n\u001b[0m\u001b[1;32m     52\u001b[0m     \u001b[0msorting\u001b[0m \u001b[0;34m=\u001b[0m \u001b[0mSorterClass\u001b[0m\u001b[0;34m.\u001b[0m\u001b[0mget_result_from_folder\u001b[0m\u001b[0;34m(\u001b[0m\u001b[0moutput_folder\u001b[0m\u001b[0;34m)\u001b[0m\u001b[0;34m\u001b[0m\u001b[0;34m\u001b[0m\u001b[0m\n\u001b[1;32m     53\u001b[0m \u001b[0;34m\u001b[0m\u001b[0m\n",
      "\u001b[0;32m~/GitHub/spikeinterface/spikeinterface/sorters/basesorter.py\u001b[0m in \u001b[0;36mrun_from_folder\u001b[0;34m(cls, output_folder, raise_error, verbose)\u001b[0m\n\u001b[1;32m    237\u001b[0m         \u001b[0;32mif\u001b[0m \u001b[0mhas_error\u001b[0m \u001b[0;32mand\u001b[0m \u001b[0mraise_error\u001b[0m\u001b[0;34m:\u001b[0m\u001b[0;34m\u001b[0m\u001b[0;34m\u001b[0m\u001b[0m\n\u001b[1;32m    238\u001b[0m             \u001b[0mprint\u001b[0m\u001b[0;34m(\u001b[0m\u001b[0mlog\u001b[0m\u001b[0;34m[\u001b[0m\u001b[0;34m'error_trace'\u001b[0m\u001b[0;34m]\u001b[0m\u001b[0;34m)\u001b[0m\u001b[0;34m\u001b[0m\u001b[0;34m\u001b[0m\u001b[0m\n\u001b[0;32m--> 239\u001b[0;31m             \u001b[0;32mraise\u001b[0m \u001b[0mSpikeSortingError\u001b[0m\u001b[0;34m(\u001b[0m\u001b[0;34m\"Spike sorting failed. You can inspect the runtime trace in spikeinterface_log.json\"\u001b[0m\u001b[0;34m)\u001b[0m\u001b[0;34m\u001b[0m\u001b[0;34m\u001b[0m\u001b[0m\n\u001b[0m\u001b[1;32m    240\u001b[0m \u001b[0;34m\u001b[0m\u001b[0m\n\u001b[1;32m    241\u001b[0m         \u001b[0;32mreturn\u001b[0m \u001b[0mrun_time\u001b[0m\u001b[0;34m\u001b[0m\u001b[0;34m\u001b[0m\u001b[0m\n",
      "\u001b[0;31mSpikeSortingError\u001b[0m: Spike sorting failed. You can inspect the runtime trace in spikeinterface_log.json"
     ]
    }
   ],
   "source": [
    "hs_params = {'clustering_bandwidth': 5.5,\n",
    "             'clustering_alpha': 5.5, \n",
    "             'clustering_n_jobs': -1, \n",
    "             'clustering_bin_seeding': True, \n",
    "             'clustering_min_bin_freq': 16,\n",
    "             'clustering_subset': None, \n",
    "             'left_cutout_time': 0.3, \n",
    "             'right_cutout_time': 1.8,\n",
    "             'detect_threshold': 6, # default is 20\n",
    "             'probe_masked_channels': [],\n",
    "             'probe_inner_radius': 70, \n",
    "             'probe_neighbor_radius': 90, \n",
    "             'probe_event_length': 0.26,\n",
    "             'probe_peak_jitter': 0.2, \n",
    "             't_inc': 100000, \n",
    "             'num_com_centers': 1, \n",
    "             'maa': 12, \n",
    "             'ahpthr': 11, \n",
    "             'out_file_name': 'HS2_detected', \n",
    "             'decay_filtering': False, \n",
    "             'save_all': False, \n",
    "             'amp_evaluation_time': 0.4, \n",
    "             'spk_evaluation_time': 1.0, \n",
    "             'pca_ncomponents': 2, \n",
    "             'pca_whiten': True, \n",
    "             'freq_min': 300.0, \n",
    "             'freq_max': 6000.0, \n",
    "             'filter': True, \n",
    "             'pre_scale': True, \n",
    "             'pre_scale_value': 20.0, \n",
    "             'filter_duplicates': True}\n",
    "\n",
    "sorting_HS = si.run_herdingspikes(rest_rec, output_folder=out_path / 'output_herdingspikes', **hs_params)\n",
    "print(sorting_HS)"
   ]
  },
  {
   "cell_type": "markdown",
   "metadata": {},
   "source": [
    "## run spyking circus\n",
    "\n",
    "This is slow, run this once."
   ]
  },
  {
   "cell_type": "code",
   "execution_count": 7,
   "metadata": {},
   "outputs": [
    {
     "name": "stdout",
     "output_type": "stream",
     "text": [
      "RUNNING SHELL SCRIPT: /media/storage/spikesorting_output/REST/output_spykingcircus_new/run_spykingcircus.sh\n"
     ]
    }
   ],
   "source": [
    "sc_params = {'detect_sign': -1,\n",
    "             'adjacency_radius': 100,\n",
    "             'detect_threshold': 6,\n",
    "             'template_width_ms': 3,\n",
    "             'filter': True,\n",
    "             'merge_spikes': True,\n",
    "             'auto_merge': 0.75,\n",
    "             'num_workers': None,\n",
    "             'whitening_max_elts': 1000,\n",
    "             'clustering_max_elts': 10000}\n",
    "sorting_SC = si.run_spykingcircus(rest_rec, output_folder=out_path / 'output_spykingcircus_new', **sc_params)"
   ]
  },
  {
   "cell_type": "markdown",
   "metadata": {},
   "source": [
    "## again sorting results"
   ]
  },
  {
   "cell_type": "code",
   "execution_count": 8,
   "metadata": {},
   "outputs": [
    {
     "name": "stdout",
     "output_type": "stream",
     "text": [
      "SpykingCircusSortingExtractor: 325 units - 1 segments - 30.0kHz\n",
      "TridesclousSortingExtractor: 15 units - 1 segments - 30.0kHz\n"
     ]
    }
   ],
   "source": [
    "#sorting_HS = si.HerdingspikesSortingExtractor(out_path / 'output_herdingspikes')\n",
    "#print(sorting_HS)\n",
    "\n",
    "sorting_SC = si.SpykingCircusSortingExtractor(out_path / 'output_spykingcircus_new')\n",
    "print(sorting_SC)\n",
    "\n",
    "sorting_TDC = si.TridesclousSortingExtractor(out_path / 'output_TDC_new')\n",
    "print(sorting_TDC)"
   ]
  },
  {
   "cell_type": "markdown",
   "metadata": {},
   "source": [
    "## save sorting in an other formats"
   ]
  },
  {
   "cell_type": "code",
   "execution_count": 9,
   "metadata": {},
   "outputs": [],
   "source": [
    "save_folder = out_path / 'save_sorting'\n",
    "save_folder.mkdir(exist_ok=True)"
   ]
  },
  {
   "cell_type": "code",
   "execution_count": 10,
   "metadata": {},
   "outputs": [],
   "source": [
    "#si.NpzSortingExtractor.write_sorting(sorting_HS, save_folder / 'HS.npz')\n",
    "si.NpzSortingExtractor.write_sorting(sorting_SC, save_folder / 'SC_new.npz')\n",
    "si.NpzSortingExtractor.write_sorting(sorting_TDC, save_folder / 'TDCS3_new.npz')"
   ]
  },
  {
   "cell_type": "markdown",
   "metadata": {},
   "source": [
    "## Reimporting "
   ]
  },
  {
   "cell_type": "code",
   "execution_count": 15,
   "metadata": {},
   "outputs": [],
   "source": [
    "TDC = si.NpzSortingExtractor(save_folder / 'TDCS3_new.npz')\n",
    "SC = si.NpzSortingExtractor(save_folder / 'SC_new.npz')"
   ]
  },
  {
   "cell_type": "code",
   "execution_count": 16,
   "metadata": {},
   "outputs": [
    {
     "name": "stdout",
     "output_type": "stream",
     "text": [
      "NpzSortingExtractor: 15 units - 1 segments - 30.0kHz\n",
      "  file_path: /media/storage/spikesorting_output/REST/save_sorting/TDCS3_new.npz\n",
      "NpzSortingExtractor: 325 units - 1 segments - 30.0kHz\n",
      "  file_path: /media/storage/spikesorting_output/REST/save_sorting/SC_new.npz\n"
     ]
    }
   ],
   "source": [
    "print(TDC)\n",
    "print(SC)"
   ]
  },
  {
   "cell_type": "markdown",
   "metadata": {},
   "source": [
    "## Extracting waveforms to work with Phy Exporter"
   ]
  },
  {
   "cell_type": "code",
   "execution_count": 18,
   "metadata": {},
   "outputs": [
    {
     "name": "stderr",
     "output_type": "stream",
     "text": [
      "extract waveforms: 100%|██████████| 501/501 [00:33<00:00, 14.84it/s]"
     ]
    },
    {
     "name": "stdout",
     "output_type": "stream",
     "text": [
      "WaveformExtractor: 384 channels - 15 units - 1 segments\n",
      "  before:30 after60 n_per_units: 500\n"
     ]
    },
    {
     "name": "stderr",
     "output_type": "stream",
     "text": [
      "\n"
     ]
    }
   ],
   "source": [
    "rest_rec_bp = si.bandpass_filter(rest_rec, freq_min=300, freq_max=6000) # apply filter\n",
    "folder_TDC = out_path / 'Phy/TDC-REST'\n",
    "folder_TDC_wv = folder_TDC / 'waveforms_filtered_new'\n",
    "we_TDC = si.extract_waveforms(rest_rec_bp, TDC, folder_TDC_wv,\n",
    "    load_if_exists=True, ms_before=1, ms_after=2., max_spikes_per_unit=500,\n",
    "    chunk_size=30000, n_jobs=6, progress_bar=True)\n",
    "print(we_TDC)"
   ]
  },
  {
   "cell_type": "code",
   "execution_count": 19,
   "metadata": {},
   "outputs": [
    {
     "name": "stdout",
     "output_type": "stream",
     "text": [
      "Warning: recording is not filtered! It's recommended to filter the recording before exporting to phy.\n",
      "You can run spikeinterface.toolkit.preprocessing.bandpass_filter(recording)\n",
      "write_binary_recording with n_jobs 6  chunk_size 30000\n"
     ]
    },
    {
     "name": "stderr",
     "output_type": "stream",
     "text": [
      "write_binary_recording: 100%|██████████| 501/501 [00:52<00:00,  9.62it/s]\n",
      "extract amplitudes: 100%|██████████| 501/501 [00:32<00:00, 15.28it/s]"
     ]
    },
    {
     "name": "stdout",
     "output_type": "stream",
     "text": [
      "Run:\n",
      "phy template-gui  /media/storage/spikesorting_output/REST/Phy/TDC-REST/phy-params_new/params.py\n"
     ]
    },
    {
     "name": "stderr",
     "output_type": "stream",
     "text": [
      "\n"
     ]
    }
   ],
   "source": [
    "folder_TDC_params = out_path / 'Phy/TDC-REST/phy-params_new'\n",
    "si.export_to_phy(rest_rec_bp, TDC, folder_TDC_params, waveform_extractor=we_TDC,\n",
    "            compute_pc_features=False, compute_amplitudes=True,\n",
    "            remove_if_exists=True, chunk_size=30000, n_jobs=6, progress_bar=True)"
   ]
  },
  {
   "cell_type": "code",
   "execution_count": 20,
   "metadata": {},
   "outputs": [
    {
     "name": "stderr",
     "output_type": "stream",
     "text": [
      "extract waveforms: 100%|██████████| 501/501 [04:25<00:00,  1.88it/s]"
     ]
    },
    {
     "name": "stdout",
     "output_type": "stream",
     "text": [
      "WaveformExtractor: 384 channels - 325 units - 1 segments\n",
      "  before:30 after60 n_per_units: 500\n"
     ]
    },
    {
     "name": "stderr",
     "output_type": "stream",
     "text": [
      "\n"
     ]
    }
   ],
   "source": [
    "rest_rec_bp = si.bandpass_filter(rest_rec, freq_min=300, freq_max=6000) # apply filter\n",
    "folder_SC = out_path / 'Phy/SC-REST'\n",
    "folder_SC_wv = folder_SC / 'waveforms_filtered_new'\n",
    "we_SC = si.extract_waveforms(rest_rec_bp, SC, folder_SC_wv,\n",
    "    load_if_exists=True, ms_before=1, ms_after=2., max_spikes_per_unit=500,\n",
    "    chunk_size=30000, n_jobs=6, progress_bar=True)\n",
    "print(we_SC)"
   ]
  },
  {
   "cell_type": "code",
   "execution_count": 21,
   "metadata": {},
   "outputs": [
    {
     "name": "stdout",
     "output_type": "stream",
     "text": [
      "Warning: recording is not filtered! It's recommended to filter the recording before exporting to phy.\n",
      "You can run spikeinterface.toolkit.preprocessing.bandpass_filter(recording)\n",
      "write_binary_recording with n_jobs 6  chunk_size 30000\n"
     ]
    },
    {
     "name": "stderr",
     "output_type": "stream",
     "text": [
      "write_binary_recording: 100%|██████████| 501/501 [00:55<00:00,  9.02it/s]\n",
      "extract amplitudes: 100%|██████████| 501/501 [00:40<00:00, 12.50it/s]"
     ]
    },
    {
     "name": "stdout",
     "output_type": "stream",
     "text": [
      "Run:\n",
      "phy template-gui  /media/storage/spikesorting_output/REST/Phy/SC-REST/phy-params_new/params.py\n"
     ]
    },
    {
     "name": "stderr",
     "output_type": "stream",
     "text": [
      "\n"
     ]
    }
   ],
   "source": [
    "folder_SC_params = out_path / 'Phy/SC-REST/phy-params_new'\n",
    "si.export_to_phy(rest_rec_bp, SC, folder_SC_params, waveform_extractor=we_SC,\n",
    "            compute_pc_features=False, compute_amplitudes=True,\n",
    "            remove_if_exists=True, chunk_size=30000, n_jobs=6, progress_bar=True)"
   ]
  },
  {
   "cell_type": "markdown",
   "metadata": {},
   "source": [
    "## compare all output"
   ]
  },
  {
   "cell_type": "code",
   "execution_count": 22,
   "metadata": {},
   "outputs": [
    {
     "data": {
      "application/vnd.jupyter.widget-view+json": {
       "model_id": "c848ffa3877942c5b1124d2ab1023ff3",
       "version_major": 2,
       "version_minor": 0
      },
      "text/plain": [
       "Canvas(toolbar=Toolbar(toolitems=[('Home', 'Reset original view', 'home', 'home'), ('Back', 'Back to previous …"
      ]
     },
     "metadata": {},
     "output_type": "display_data"
    },
    {
     "data": {
      "text/plain": [
       "<spikeinterface.widgets.agreementmatrix.AgreementMatrixWidget at 0x7fca8809cb80>"
      ]
     },
     "execution_count": 22,
     "metadata": {},
     "output_type": "execute_result"
    }
   ],
   "source": [
    "comp = si.compare_two_sorters(sorting_SC, sorting_TDC, sorting1_name='SC', sorting2_name='TDC')\n",
    "si.plot_agreement_matrix(comp)"
   ]
  },
  {
   "cell_type": "code",
   "execution_count": 23,
   "metadata": {},
   "outputs": [
    {
     "data": {
      "text/html": [
       "<div>\n",
       "<style scoped>\n",
       "    .dataframe tbody tr th:only-of-type {\n",
       "        vertical-align: middle;\n",
       "    }\n",
       "\n",
       "    .dataframe tbody tr th {\n",
       "        vertical-align: top;\n",
       "    }\n",
       "\n",
       "    .dataframe thead th {\n",
       "        text-align: right;\n",
       "    }\n",
       "</style>\n",
       "<table border=\"1\" class=\"dataframe\">\n",
       "  <thead>\n",
       "    <tr style=\"text-align: right;\">\n",
       "      <th></th>\n",
       "      <th>0</th>\n",
       "      <th>1</th>\n",
       "      <th>2</th>\n",
       "      <th>3</th>\n",
       "      <th>4</th>\n",
       "      <th>5</th>\n",
       "      <th>6</th>\n",
       "      <th>7</th>\n",
       "      <th>8</th>\n",
       "      <th>9</th>\n",
       "      <th>10</th>\n",
       "      <th>11</th>\n",
       "      <th>12</th>\n",
       "      <th>13</th>\n",
       "      <th>14</th>\n",
       "    </tr>\n",
       "  </thead>\n",
       "  <tbody>\n",
       "    <tr>\n",
       "      <th>0</th>\n",
       "      <td>12</td>\n",
       "      <td>19</td>\n",
       "      <td>8</td>\n",
       "      <td>9</td>\n",
       "      <td>19</td>\n",
       "      <td>6</td>\n",
       "      <td>1</td>\n",
       "      <td>8</td>\n",
       "      <td>9</td>\n",
       "      <td>11</td>\n",
       "      <td>5</td>\n",
       "      <td>0</td>\n",
       "      <td>11</td>\n",
       "      <td>3</td>\n",
       "      <td>1</td>\n",
       "    </tr>\n",
       "    <tr>\n",
       "      <th>1</th>\n",
       "      <td>28</td>\n",
       "      <td>65</td>\n",
       "      <td>20</td>\n",
       "      <td>26</td>\n",
       "      <td>26</td>\n",
       "      <td>18</td>\n",
       "      <td>1</td>\n",
       "      <td>30</td>\n",
       "      <td>13</td>\n",
       "      <td>22</td>\n",
       "      <td>4</td>\n",
       "      <td>1</td>\n",
       "      <td>19</td>\n",
       "      <td>4</td>\n",
       "      <td>6</td>\n",
       "    </tr>\n",
       "    <tr>\n",
       "      <th>10</th>\n",
       "      <td>19</td>\n",
       "      <td>69</td>\n",
       "      <td>10</td>\n",
       "      <td>27</td>\n",
       "      <td>40</td>\n",
       "      <td>24</td>\n",
       "      <td>0</td>\n",
       "      <td>21</td>\n",
       "      <td>15</td>\n",
       "      <td>24</td>\n",
       "      <td>3</td>\n",
       "      <td>4</td>\n",
       "      <td>13</td>\n",
       "      <td>3</td>\n",
       "      <td>3</td>\n",
       "    </tr>\n",
       "    <tr>\n",
       "      <th>100</th>\n",
       "      <td>6</td>\n",
       "      <td>11</td>\n",
       "      <td>2</td>\n",
       "      <td>5</td>\n",
       "      <td>5</td>\n",
       "      <td>3</td>\n",
       "      <td>0</td>\n",
       "      <td>7</td>\n",
       "      <td>2</td>\n",
       "      <td>2</td>\n",
       "      <td>0</td>\n",
       "      <td>0</td>\n",
       "      <td>1</td>\n",
       "      <td>1</td>\n",
       "      <td>0</td>\n",
       "    </tr>\n",
       "    <tr>\n",
       "      <th>101</th>\n",
       "      <td>20</td>\n",
       "      <td>50</td>\n",
       "      <td>11</td>\n",
       "      <td>12</td>\n",
       "      <td>19</td>\n",
       "      <td>10</td>\n",
       "      <td>0</td>\n",
       "      <td>21</td>\n",
       "      <td>8</td>\n",
       "      <td>17</td>\n",
       "      <td>4</td>\n",
       "      <td>1</td>\n",
       "      <td>19</td>\n",
       "      <td>5</td>\n",
       "      <td>5</td>\n",
       "    </tr>\n",
       "    <tr>\n",
       "      <th>...</th>\n",
       "      <td>...</td>\n",
       "      <td>...</td>\n",
       "      <td>...</td>\n",
       "      <td>...</td>\n",
       "      <td>...</td>\n",
       "      <td>...</td>\n",
       "      <td>...</td>\n",
       "      <td>...</td>\n",
       "      <td>...</td>\n",
       "      <td>...</td>\n",
       "      <td>...</td>\n",
       "      <td>...</td>\n",
       "      <td>...</td>\n",
       "      <td>...</td>\n",
       "      <td>...</td>\n",
       "    </tr>\n",
       "    <tr>\n",
       "      <th>95</th>\n",
       "      <td>17</td>\n",
       "      <td>31</td>\n",
       "      <td>12</td>\n",
       "      <td>14</td>\n",
       "      <td>28</td>\n",
       "      <td>15</td>\n",
       "      <td>0</td>\n",
       "      <td>11</td>\n",
       "      <td>13</td>\n",
       "      <td>13</td>\n",
       "      <td>0</td>\n",
       "      <td>2</td>\n",
       "      <td>10</td>\n",
       "      <td>6</td>\n",
       "      <td>4</td>\n",
       "    </tr>\n",
       "    <tr>\n",
       "      <th>96</th>\n",
       "      <td>29</td>\n",
       "      <td>105</td>\n",
       "      <td>18</td>\n",
       "      <td>28</td>\n",
       "      <td>53</td>\n",
       "      <td>21</td>\n",
       "      <td>1</td>\n",
       "      <td>29</td>\n",
       "      <td>21</td>\n",
       "      <td>27</td>\n",
       "      <td>0</td>\n",
       "      <td>3</td>\n",
       "      <td>13</td>\n",
       "      <td>5</td>\n",
       "      <td>5</td>\n",
       "    </tr>\n",
       "    <tr>\n",
       "      <th>97</th>\n",
       "      <td>6</td>\n",
       "      <td>19</td>\n",
       "      <td>1</td>\n",
       "      <td>6</td>\n",
       "      <td>8</td>\n",
       "      <td>8</td>\n",
       "      <td>0</td>\n",
       "      <td>8</td>\n",
       "      <td>4</td>\n",
       "      <td>7</td>\n",
       "      <td>1</td>\n",
       "      <td>0</td>\n",
       "      <td>1</td>\n",
       "      <td>1</td>\n",
       "      <td>1</td>\n",
       "    </tr>\n",
       "    <tr>\n",
       "      <th>98</th>\n",
       "      <td>29</td>\n",
       "      <td>66</td>\n",
       "      <td>13</td>\n",
       "      <td>22</td>\n",
       "      <td>37</td>\n",
       "      <td>20</td>\n",
       "      <td>1</td>\n",
       "      <td>24</td>\n",
       "      <td>15</td>\n",
       "      <td>22</td>\n",
       "      <td>2</td>\n",
       "      <td>0</td>\n",
       "      <td>15</td>\n",
       "      <td>5</td>\n",
       "      <td>4</td>\n",
       "    </tr>\n",
       "    <tr>\n",
       "      <th>99</th>\n",
       "      <td>9</td>\n",
       "      <td>17</td>\n",
       "      <td>2</td>\n",
       "      <td>5</td>\n",
       "      <td>7</td>\n",
       "      <td>3</td>\n",
       "      <td>0</td>\n",
       "      <td>10</td>\n",
       "      <td>4</td>\n",
       "      <td>5</td>\n",
       "      <td>1</td>\n",
       "      <td>1</td>\n",
       "      <td>4</td>\n",
       "      <td>2</td>\n",
       "      <td>5</td>\n",
       "    </tr>\n",
       "  </tbody>\n",
       "</table>\n",
       "<p>325 rows × 15 columns</p>\n",
       "</div>"
      ],
      "text/plain": [
       "     0    1   2   3   4   5   6   7   8   9   10  11  12  13  14\n",
       "0    12   19   8   9  19   6   1   8   9  11   5   0  11   3   1\n",
       "1    28   65  20  26  26  18   1  30  13  22   4   1  19   4   6\n",
       "10   19   69  10  27  40  24   0  21  15  24   3   4  13   3   3\n",
       "100   6   11   2   5   5   3   0   7   2   2   0   0   1   1   0\n",
       "101  20   50  11  12  19  10   0  21   8  17   4   1  19   5   5\n",
       "..   ..  ...  ..  ..  ..  ..  ..  ..  ..  ..  ..  ..  ..  ..  ..\n",
       "95   17   31  12  14  28  15   0  11  13  13   0   2  10   6   4\n",
       "96   29  105  18  28  53  21   1  29  21  27   0   3  13   5   5\n",
       "97    6   19   1   6   8   8   0   8   4   7   1   0   1   1   1\n",
       "98   29   66  13  22  37  20   1  24  15  22   2   0  15   5   4\n",
       "99    9   17   2   5   7   3   0  10   4   5   1   1   4   2   5\n",
       "\n",
       "[325 rows x 15 columns]"
      ]
     },
     "execution_count": 23,
     "metadata": {},
     "output_type": "execute_result"
    }
   ],
   "source": [
    "comp.match_event_count"
   ]
  },
  {
   "cell_type": "code",
   "execution_count": 24,
   "metadata": {},
   "outputs": [
    {
     "data": {
      "text/html": [
       "<div>\n",
       "<style scoped>\n",
       "    .dataframe tbody tr th:only-of-type {\n",
       "        vertical-align: middle;\n",
       "    }\n",
       "\n",
       "    .dataframe tbody tr th {\n",
       "        vertical-align: top;\n",
       "    }\n",
       "\n",
       "    .dataframe thead th {\n",
       "        text-align: right;\n",
       "    }\n",
       "</style>\n",
       "<table border=\"1\" class=\"dataframe\">\n",
       "  <thead>\n",
       "    <tr style=\"text-align: right;\">\n",
       "      <th></th>\n",
       "      <th>0</th>\n",
       "      <th>1</th>\n",
       "      <th>2</th>\n",
       "      <th>3</th>\n",
       "      <th>4</th>\n",
       "      <th>5</th>\n",
       "      <th>6</th>\n",
       "      <th>7</th>\n",
       "      <th>8</th>\n",
       "      <th>9</th>\n",
       "      <th>10</th>\n",
       "      <th>11</th>\n",
       "      <th>12</th>\n",
       "      <th>13</th>\n",
       "      <th>14</th>\n",
       "    </tr>\n",
       "  </thead>\n",
       "  <tbody>\n",
       "    <tr>\n",
       "      <th>0</th>\n",
       "      <td>0.002940</td>\n",
       "      <td>0.001884</td>\n",
       "      <td>0.002365</td>\n",
       "      <td>0.002460</td>\n",
       "      <td>0.003027</td>\n",
       "      <td>0.001676</td>\n",
       "      <td>0.000686</td>\n",
       "      <td>0.001972</td>\n",
       "      <td>0.003054</td>\n",
       "      <td>0.002784</td>\n",
       "      <td>0.002843</td>\n",
       "      <td>0.000000</td>\n",
       "      <td>0.002944</td>\n",
       "      <td>0.001596</td>\n",
       "      <td>0.000424</td>\n",
       "    </tr>\n",
       "    <tr>\n",
       "      <th>1</th>\n",
       "      <td>0.005055</td>\n",
       "      <td>0.005646</td>\n",
       "      <td>0.004129</td>\n",
       "      <td>0.005083</td>\n",
       "      <td>0.003358</td>\n",
       "      <td>0.003569</td>\n",
       "      <td>0.000341</td>\n",
       "      <td>0.005447</td>\n",
       "      <td>0.002943</td>\n",
       "      <td>0.004064</td>\n",
       "      <td>0.001237</td>\n",
       "      <td>0.000331</td>\n",
       "      <td>0.003652</td>\n",
       "      <td>0.001193</td>\n",
       "      <td>0.001568</td>\n",
       "    </tr>\n",
       "    <tr>\n",
       "      <th>10</th>\n",
       "      <td>0.003065</td>\n",
       "      <td>0.005674</td>\n",
       "      <td>0.001816</td>\n",
       "      <td>0.004683</td>\n",
       "      <td>0.004773</td>\n",
       "      <td>0.004219</td>\n",
       "      <td>0.000000</td>\n",
       "      <td>0.003404</td>\n",
       "      <td>0.002960</td>\n",
       "      <td>0.003958</td>\n",
       "      <td>0.000772</td>\n",
       "      <td>0.001090</td>\n",
       "      <td>0.002218</td>\n",
       "      <td>0.000749</td>\n",
       "      <td>0.000669</td>\n",
       "    </tr>\n",
       "    <tr>\n",
       "      <th>100</th>\n",
       "      <td>0.001980</td>\n",
       "      <td>0.001217</td>\n",
       "      <td>0.000858</td>\n",
       "      <td>0.001919</td>\n",
       "      <td>0.000955</td>\n",
       "      <td>0.001187</td>\n",
       "      <td>0.000000</td>\n",
       "      <td>0.002333</td>\n",
       "      <td>0.001054</td>\n",
       "      <td>0.000689</td>\n",
       "      <td>0.000000</td>\n",
       "      <td>0.000000</td>\n",
       "      <td>0.000372</td>\n",
       "      <td>0.001212</td>\n",
       "      <td>0.000000</td>\n",
       "    </tr>\n",
       "    <tr>\n",
       "      <th>101</th>\n",
       "      <td>0.004064</td>\n",
       "      <td>0.004587</td>\n",
       "      <td>0.002602</td>\n",
       "      <td>0.002665</td>\n",
       "      <td>0.002667</td>\n",
       "      <td>0.002260</td>\n",
       "      <td>0.000000</td>\n",
       "      <td>0.004294</td>\n",
       "      <td>0.002107</td>\n",
       "      <td>0.003547</td>\n",
       "      <td>0.001534</td>\n",
       "      <td>0.000418</td>\n",
       "      <td>0.004151</td>\n",
       "      <td>0.001834</td>\n",
       "      <td>0.001562</td>\n",
       "    </tr>\n",
       "    <tr>\n",
       "      <th>...</th>\n",
       "      <td>...</td>\n",
       "      <td>...</td>\n",
       "      <td>...</td>\n",
       "      <td>...</td>\n",
       "      <td>...</td>\n",
       "      <td>...</td>\n",
       "      <td>...</td>\n",
       "      <td>...</td>\n",
       "      <td>...</td>\n",
       "      <td>...</td>\n",
       "      <td>...</td>\n",
       "      <td>...</td>\n",
       "      <td>...</td>\n",
       "      <td>...</td>\n",
       "      <td>...</td>\n",
       "    </tr>\n",
       "    <tr>\n",
       "      <th>95</th>\n",
       "      <td>0.003626</td>\n",
       "      <td>0.002901</td>\n",
       "      <td>0.003007</td>\n",
       "      <td>0.003282</td>\n",
       "      <td>0.004070</td>\n",
       "      <td>0.003584</td>\n",
       "      <td>0.000000</td>\n",
       "      <td>0.002357</td>\n",
       "      <td>0.003656</td>\n",
       "      <td>0.002850</td>\n",
       "      <td>0.000000</td>\n",
       "      <td>0.000926</td>\n",
       "      <td>0.002298</td>\n",
       "      <td>0.002410</td>\n",
       "      <td>0.001348</td>\n",
       "    </tr>\n",
       "    <tr>\n",
       "      <th>96</th>\n",
       "      <td>0.004645</td>\n",
       "      <td>0.008623</td>\n",
       "      <td>0.003243</td>\n",
       "      <td>0.004813</td>\n",
       "      <td>0.006294</td>\n",
       "      <td>0.003655</td>\n",
       "      <td>0.000275</td>\n",
       "      <td>0.004667</td>\n",
       "      <td>0.004106</td>\n",
       "      <td>0.004416</td>\n",
       "      <td>0.000000</td>\n",
       "      <td>0.000806</td>\n",
       "      <td>0.002198</td>\n",
       "      <td>0.001232</td>\n",
       "      <td>0.001103</td>\n",
       "    </tr>\n",
       "    <tr>\n",
       "      <th>97</th>\n",
       "      <td>0.001762</td>\n",
       "      <td>0.002021</td>\n",
       "      <td>0.000369</td>\n",
       "      <td>0.002013</td>\n",
       "      <td>0.001427</td>\n",
       "      <td>0.002761</td>\n",
       "      <td>0.000000</td>\n",
       "      <td>0.002370</td>\n",
       "      <td>0.001761</td>\n",
       "      <td>0.002138</td>\n",
       "      <td>0.000924</td>\n",
       "      <td>0.000000</td>\n",
       "      <td>0.000326</td>\n",
       "      <td>0.000833</td>\n",
       "      <td>0.000596</td>\n",
       "    </tr>\n",
       "    <tr>\n",
       "      <th>98</th>\n",
       "      <td>0.004608</td>\n",
       "      <td>0.005380</td>\n",
       "      <td>0.002319</td>\n",
       "      <td>0.003745</td>\n",
       "      <td>0.004359</td>\n",
       "      <td>0.003450</td>\n",
       "      <td>0.000271</td>\n",
       "      <td>0.003828</td>\n",
       "      <td>0.002901</td>\n",
       "      <td>0.003566</td>\n",
       "      <td>0.000501</td>\n",
       "      <td>0.000000</td>\n",
       "      <td>0.002516</td>\n",
       "      <td>0.001217</td>\n",
       "      <td>0.000872</td>\n",
       "    </tr>\n",
       "    <tr>\n",
       "      <th>99</th>\n",
       "      <td>0.002579</td>\n",
       "      <td>0.001791</td>\n",
       "      <td>0.000716</td>\n",
       "      <td>0.001630</td>\n",
       "      <td>0.001229</td>\n",
       "      <td>0.001003</td>\n",
       "      <td>0.000000</td>\n",
       "      <td>0.002890</td>\n",
       "      <td>0.001696</td>\n",
       "      <td>0.001487</td>\n",
       "      <td>0.000855</td>\n",
       "      <td>0.001049</td>\n",
       "      <td>0.001270</td>\n",
       "      <td>0.001554</td>\n",
       "      <td>0.002841</td>\n",
       "    </tr>\n",
       "  </tbody>\n",
       "</table>\n",
       "<p>325 rows × 15 columns</p>\n",
       "</div>"
      ],
      "text/plain": [
       "           0         1         2         3         4         5         6   \\\n",
       "0    0.002940  0.001884  0.002365  0.002460  0.003027  0.001676  0.000686   \n",
       "1    0.005055  0.005646  0.004129  0.005083  0.003358  0.003569  0.000341   \n",
       "10   0.003065  0.005674  0.001816  0.004683  0.004773  0.004219  0.000000   \n",
       "100  0.001980  0.001217  0.000858  0.001919  0.000955  0.001187  0.000000   \n",
       "101  0.004064  0.004587  0.002602  0.002665  0.002667  0.002260  0.000000   \n",
       "..        ...       ...       ...       ...       ...       ...       ...   \n",
       "95   0.003626  0.002901  0.003007  0.003282  0.004070  0.003584  0.000000   \n",
       "96   0.004645  0.008623  0.003243  0.004813  0.006294  0.003655  0.000275   \n",
       "97   0.001762  0.002021  0.000369  0.002013  0.001427  0.002761  0.000000   \n",
       "98   0.004608  0.005380  0.002319  0.003745  0.004359  0.003450  0.000271   \n",
       "99   0.002579  0.001791  0.000716  0.001630  0.001229  0.001003  0.000000   \n",
       "\n",
       "           7         8         9         10        11        12        13  \\\n",
       "0    0.001972  0.003054  0.002784  0.002843  0.000000  0.002944  0.001596   \n",
       "1    0.005447  0.002943  0.004064  0.001237  0.000331  0.003652  0.001193   \n",
       "10   0.003404  0.002960  0.003958  0.000772  0.001090  0.002218  0.000749   \n",
       "100  0.002333  0.001054  0.000689  0.000000  0.000000  0.000372  0.001212   \n",
       "101  0.004294  0.002107  0.003547  0.001534  0.000418  0.004151  0.001834   \n",
       "..        ...       ...       ...       ...       ...       ...       ...   \n",
       "95   0.002357  0.003656  0.002850  0.000000  0.000926  0.002298  0.002410   \n",
       "96   0.004667  0.004106  0.004416  0.000000  0.000806  0.002198  0.001232   \n",
       "97   0.002370  0.001761  0.002138  0.000924  0.000000  0.000326  0.000833   \n",
       "98   0.003828  0.002901  0.003566  0.000501  0.000000  0.002516  0.001217   \n",
       "99   0.002890  0.001696  0.001487  0.000855  0.001049  0.001270  0.001554   \n",
       "\n",
       "           14  \n",
       "0    0.000424  \n",
       "1    0.001568  \n",
       "10   0.000669  \n",
       "100  0.000000  \n",
       "101  0.001562  \n",
       "..        ...  \n",
       "95   0.001348  \n",
       "96   0.001103  \n",
       "97   0.000596  \n",
       "98   0.000872  \n",
       "99   0.002841  \n",
       "\n",
       "[325 rows x 15 columns]"
      ]
     },
     "execution_count": 24,
     "metadata": {},
     "output_type": "execute_result"
    }
   ],
   "source": [
    "comp.agreement_scores"
   ]
  },
  {
   "cell_type": "markdown",
   "metadata": {},
   "source": [
    "## some visualizations - TDC"
   ]
  },
  {
   "cell_type": "code",
   "execution_count": 25,
   "metadata": {},
   "outputs": [
    {
     "data": {
      "application/vnd.jupyter.widget-view+json": {
       "model_id": "75a428c786034e29a302b8524217c9d8",
       "version_major": 2,
       "version_minor": 0
      },
      "text/plain": [
       "Canvas(toolbar=Toolbar(toolitems=[('Home', 'Reset original view', 'home', 'home'), ('Back', 'Back to previous …"
      ]
     },
     "metadata": {},
     "output_type": "display_data"
    },
    {
     "data": {
      "text/plain": [
       "<spikeinterface.widgets.rasters.RasterWidget at 0x7fca88107a90>"
      ]
     },
     "execution_count": 25,
     "metadata": {},
     "output_type": "execute_result"
    }
   ],
   "source": [
    "si.plot_rasters(TDC)"
   ]
  },
  {
   "cell_type": "code",
   "execution_count": 41,
   "metadata": {},
   "outputs": [
    {
     "data": {
      "text/plain": [
       "array([  0,   1,  10, 100, 101, 102, 103, 104, 105, 106, 107, 108, 109,\n",
       "        11, 110, 111, 112, 113, 114, 115, 116, 117, 118, 119,  12, 120,\n",
       "       121, 122, 123, 124, 125, 126, 127, 128, 129,  13, 130, 131, 132,\n",
       "       133, 134, 135, 136, 137, 138, 139,  14, 140, 141, 142, 143, 144,\n",
       "       145, 146, 147, 148, 149,  15, 150, 151, 152, 153, 154, 155, 156,\n",
       "       157, 158, 159,  16, 160, 161, 162, 163, 164, 165, 166, 167, 168,\n",
       "       169,  17, 170, 171, 172, 173, 174, 175, 176, 177, 178, 179,  18,\n",
       "       180, 181, 182, 183, 184, 185, 186, 187, 188, 189,  19, 190, 191,\n",
       "       192, 193, 194, 195, 196, 197, 198, 199,   2,  20, 200, 201, 202,\n",
       "       203, 204, 205, 206, 207, 208, 209,  21, 210, 211, 212, 213, 214,\n",
       "       215, 216, 217, 218, 219,  22, 220, 221, 222, 223, 224, 225, 226,\n",
       "       227, 228, 229,  23, 230, 231, 232, 233, 234, 235, 236, 237, 238,\n",
       "       239,  24, 240, 241, 242, 243, 244, 245, 246, 247, 248, 249,  25,\n",
       "       250, 251, 252, 253, 254, 255, 256, 257, 258, 259,  26, 260, 261,\n",
       "       262, 263, 264, 265, 266, 267, 268, 269,  27, 270, 271, 272, 273,\n",
       "       274, 275, 276, 277, 278, 279,  28, 280, 281, 282, 283, 284, 285,\n",
       "       286, 287, 288, 289,  29, 290, 291, 292, 293, 294, 295, 296, 297,\n",
       "       298, 299,   3,  30, 300, 301, 302, 303, 304, 305, 306, 307, 308,\n",
       "       309,  31, 310, 311, 312, 313, 314, 315, 316, 317, 318, 319,  32,\n",
       "       320, 321, 322, 323, 324, 325, 326, 327, 328, 329,  33, 330, 331,\n",
       "       332,  34,  35,  36,  37,  38,  39,   4,  40,  41,  42,  43,  44,\n",
       "        45,  46,  47,  48,  49,   5,  50,  51,  52,  53,  54,  55,  56,\n",
       "        57,  58,  59,   6,  60,  61,  62,  63,  64,  65,  66,  67,  68,\n",
       "        69,   7,  70,  71,  72,  73,  74,  75,  76,  77,  78,  79,   8,\n",
       "        80,  81,  82,  83,  84,  85,  86,  87,  88,  89,   9,  90,  91,\n",
       "        92,  93,  94,  95,  96,  97,  98,  99])"
      ]
     },
     "execution_count": 41,
     "metadata": {},
     "output_type": "execute_result"
    }
   ],
   "source": [
    "TDC_units_ID = TDC.unit_ids[:] # I couldnt use just unit 2, was giving me an into has not length error (see below)\n",
    "si.plot_unit_waveforms(we_TDC, \n",
    "                       #channel_ids=TDC_units_ID\n",
    "                       max_channels=12, \n",
    "                       #radius_um=60\n",
    "                      )"
   ]
  },
  {
   "cell_type": "code",
   "execution_count": 26,
   "metadata": {},
   "outputs": [
    {
     "data": {
      "application/vnd.jupyter.widget-view+json": {
       "model_id": "31978274afac436fa368a9cfb401038c",
       "version_major": 2,
       "version_minor": 0
      },
      "text/plain": [
       "Canvas(toolbar=Toolbar(toolitems=[('Home', 'Reset original view', 'home', 'home'), ('Back', 'Back to previous …"
      ]
     },
     "metadata": {},
     "output_type": "display_data"
    },
    {
     "data": {
      "text/plain": [
       "<spikeinterface.widgets.isidistribution.ISIDistributionWidget at 0x7fca9b075af0>"
      ]
     },
     "execution_count": 26,
     "metadata": {},
     "output_type": "execute_result"
    }
   ],
   "source": [
    "si.plot_isi_distribution(TDC, \n",
    "                         bins=100, \n",
    "                         window=1\n",
    "                        )"
   ]
  },
  {
   "cell_type": "code",
   "execution_count": 29,
   "metadata": {},
   "outputs": [
    {
     "data": {
      "application/vnd.jupyter.widget-view+json": {
       "model_id": "288ebbf5333e40d0b7f9dd7df7bf58fd",
       "version_major": 2,
       "version_minor": 0
      },
      "text/plain": [
       "Canvas(toolbar=Toolbar(toolitems=[('Home', 'Reset original view', 'home', 'home'), ('Back', 'Back to previous …"
      ]
     },
     "metadata": {},
     "output_type": "display_data"
    }
   ],
   "source": [
    "colors = {\n",
    "    0: 'black',\n",
    "    1: 'green',\n",
    "    2: 'red',\n",
    "    3: 'blue',\n",
    "    4: 'yellow',\n",
    "    5: 'grey',\n",
    "    6: 'purple',\n",
    "    7: 'orange',\n",
    "    8: 'lightblue'}\n",
    "w_depth = si.plot_units_depth_vs_amplitude(we_TDC,\n",
    "                                          #unit_colors=colors\n",
    "                                          )\n",
    "w_depth.ax.set_aspect(0.1)"
   ]
  },
  {
   "cell_type": "code",
   "execution_count": null,
   "metadata": {},
   "outputs": [
    {
     "data": {
      "application/vnd.jupyter.widget-view+json": {
       "model_id": "09e6f4126f05453c9b49255020ec820c",
       "version_major": 2,
       "version_minor": 0
      },
      "text/plain": [
       "Canvas(toolbar=Toolbar(toolitems=[('Home', 'Reset original view', 'home', 'home'), ('Back', 'Back to previous …"
      ]
     },
     "metadata": {},
     "output_type": "display_data"
    }
   ],
   "source": [
    "si.plot_amplitudes_distribution(we_TDC)"
   ]
  },
  {
   "cell_type": "markdown",
   "metadata": {},
   "source": [
    " ## some visualizations - SC (heavier so won't plot everything) "
   ]
  },
  {
   "cell_type": "code",
   "execution_count": null,
   "metadata": {},
   "outputs": [],
   "source": [
    "w_depth_SC = si.plot_units_depth_vs_amplitude(we_SC)\n",
    "w_depth_SC.ax.set_aspect(0.1)"
   ]
  }
 ],
 "metadata": {
  "kernelspec": {
   "display_name": "Python 3",
   "language": "python",
   "name": "python3"
  },
  "language_info": {
   "codemirror_mode": {
    "name": "ipython",
    "version": 3
   },
   "file_extension": ".py",
   "mimetype": "text/x-python",
   "name": "python",
   "nbconvert_exporter": "python",
   "pygments_lexer": "ipython3",
   "version": "3.8.5"
  }
 },
 "nbformat": 4,
 "nbformat_minor": 2
}
