{
 "cells": [
  {
   "cell_type": "markdown",
   "metadata": {},
   "source": [
    "# Example with spikeinterface NEW API\n",
    "\n",
    "This is not based on actual spikeinterfacre but the futur one!!!\n",
    "\n",
    "For installing, you need to do this in a fresh environement:\n",
    "```\n",
    "git clone https://github.com/samuelgarcia/spikeinterface.git\n",
    "cd spikeinterface\n",
    "python setup.py develop\n",
    "```\n",
    "\n",
    "\n",
    "\n"
   ]
  },
  {
   "cell_type": "code",
   "execution_count": 1,
   "metadata": {},
   "outputs": [],
   "source": [
    "# Import packages    \n",
    "%matplotlib widget\n",
    "import matplotlib.pyplot as plt\n",
    "from pathlib import Path\n",
    "import spikeinterface.full as si\n",
    "from probeinterface import read_spikeglx\n",
    "from probeinterface.plotting import plot_probe\n",
    "import numpy as np"
   ]
  },
  {
   "cell_type": "code",
   "execution_count": 2,
   "metadata": {},
   "outputs": [
    {
     "name": "stdout",
     "output_type": "stream",
     "text": [
      "['herdingspikes', 'spykingcircus', 'tridesclous']\n"
     ]
    }
   ],
   "source": [
    "print(si.installed_sorters())"
   ]
  },
  {
   "cell_type": "markdown",
   "metadata": {},
   "source": [
    "## read dataset"
   ]
  },
  {
   "cell_type": "code",
   "execution_count": 3,
   "metadata": {},
   "outputs": [
    {
     "name": "stdout",
     "output_type": "stream",
     "text": [
      "SpikeGLXRecordingExtractor: 385 channels - 1 segments - 30.0kHz - 3881.358s\n",
      "384\n",
      "Probe - 384ch\n",
      "ChannelSliceRecording: 384 channels - 1 segments - 30.0kHz - 3881.358s\n"
     ]
    }
   ],
   "source": [
    "base_folder = Path('/home/arthur/Documents/SpikeSorting/Test_20210518/') \n",
    "\n",
    "data_folder = base_folder / 'raw_awake'\n",
    "\n",
    "out_path = Path('/media/storage/spikesorting_output/SONG/')\n",
    "\n",
    "recording = si.SpikeGLXRecordingExtractor(data_folder)\n",
    "print(recording)\n",
    "\n",
    "probe = read_spikeglx(data_folder / 'raw_awake_01_g0_t0.imec0.ap.meta')\n",
    "print(probe)\n",
    "recording = recording.set_probe(probe)\n",
    "print(recording)"
   ]
  },
  {
   "cell_type": "code",
   "execution_count": 4,
   "metadata": {},
   "outputs": [
    {
     "name": "stdout",
     "output_type": "stream",
     "text": [
      "FrameSliceRecording: 384 channels - 1 segments - 30.0kHz - 100.000s\n"
     ]
    }
   ],
   "source": [
    "fs = recording.get_sampling_frequency()\n",
    "\n",
    "sing_window = (1000, 1100) # Time in seconds\n",
    "\n",
    "sing_rec = recording.frame_slice(sing_window[0]*fs, sing_window[1]*fs)\n",
    "sing_rec = sing_rec.set_probe(probe)\n",
    "print(sing_rec)"
   ]
  },
  {
   "cell_type": "code",
   "execution_count": 5,
   "metadata": {},
   "outputs": [
    {
     "data": {
      "application/vnd.jupyter.widget-view+json": {
       "model_id": "0ef6225597c548eab5a650162e651b20",
       "version_major": 2,
       "version_minor": 0
      },
      "text/plain": [
       "Canvas(toolbar=Toolbar(toolitems=[('Home', 'Reset original view', 'home', 'home'), ('Back', 'Back to previous …"
      ]
     },
     "metadata": {},
     "output_type": "display_data"
    },
    {
     "data": {
      "text/plain": [
       "[Text(0, 0.4545454545454959, 'imec0.ap#AP0'),\n",
       " Text(0, 565.909090909091, 'imec0.ap#AP1'),\n",
       " Text(0, 1131.3636363636365, 'imec0.ap#AP2'),\n",
       " Text(0, 1696.818181818182, 'imec0.ap#AP3'),\n",
       " Text(0, 2262.2727272727275, 'imec0.ap#AP4'),\n",
       " Text(0, 2827.727272727273, 'imec0.ap#AP5'),\n",
       " Text(0, 3393.1818181818185, 'imec0.ap#AP6'),\n",
       " Text(0, 3958.636363636364, 'imec0.ap#AP7'),\n",
       " Text(0, 4524.09090909091, 'imec0.ap#AP8'),\n",
       " Text(0, 5089.545454545455, 'imec0.ap#AP9')]"
      ]
     },
     "execution_count": 5,
     "metadata": {},
     "output_type": "execute_result"
    }
   ],
   "source": [
    "ids = sing_rec.channel_ids[0:10]\n",
    "w_ts = si.plot_timeseries(sing_rec, time_range=(0,50), channel_ids=ids) # plotting just the first 10 channels\n",
    "w_ts.figure.suptitle('Recording First 10 Channels')\n",
    "w_ts.ax.set_ylabel('Channels IDs')\n",
    "\n",
    "ticks = list(np.linspace(int(w_ts.ax.get_ylim()[0]), int(w_ts.ax.get_ylim()[1]), len(ids)+2))\n",
    "w_ts.ax.set_yticks(ticks[1:-1])\n",
    "w_ts.ax.set_yticklabels(ids)"
   ]
  },
  {
   "cell_type": "markdown",
   "metadata": {},
   "source": [
    "## check probe"
   ]
  },
  {
   "cell_type": "code",
   "execution_count": 6,
   "metadata": {},
   "outputs": [
    {
     "data": {
      "application/vnd.jupyter.widget-view+json": {
       "model_id": "2254c03c27ef442eb3bd0e8c58a69ec1",
       "version_major": 2,
       "version_minor": 0
      },
      "text/plain": [
       "Canvas(toolbar=Toolbar(toolitems=[('Home', 'Reset original view', 'home', 'home'), ('Back', 'Back to previous …"
      ]
     },
     "metadata": {},
     "output_type": "display_data"
    },
    {
     "data": {
      "text/plain": [
       "<spikeinterface.widgets.probemap.ProbeMapWidget at 0x7f1ab4c57040>"
      ]
     },
     "execution_count": 6,
     "metadata": {},
     "output_type": "execute_result"
    }
   ],
   "source": [
    "si.plot_probe_map(sing_rec, channel_ids=sing_rec.channel_ids[0:100]) # You can change which channels are plotted"
   ]
  },
  {
   "cell_type": "markdown",
   "metadata": {},
   "source": [
    "## run tridesclous\n",
    "\n",
    "This is slow, run this once."
   ]
  },
  {
   "cell_type": "code",
   "execution_count": 7,
   "metadata": {},
   "outputs": [
    {
     "name": "stdout",
     "output_type": "stream",
     "text": [
      "Local copy of recording\n"
     ]
    },
    {
     "name": "stderr",
     "output_type": "stream",
     "text": [
      "write_binary_recording: 100%|██████████| 37/37 [00:05<00:00,  6.88it/s]\n"
     ]
    },
    {
     "name": "stdout",
     "output_type": "stream",
     "text": [
      "DataIO <id: 139752677783680> \n",
      "  workdir: /media/storage/spikesorting_output/SONG/output_TDC_new\n",
      "  sample_rate: 30000.482083\n",
      "  total_channel: 384\n",
      "  channel_groups: 0 [ch0 ch1 ch2 ch3 ... ch380 ch381 ch382 ch383]\n",
      "  nb_segment: 1\n",
      "  length: 3000048\n",
      "  durations: 100.0 s.\n",
      "catalogue_nested_params\n",
      "{'chunksize': 30000,\n",
      " 'clean_cluster': {'apply_auto_merge_cluster': True,\n",
      "                   'apply_auto_split': True,\n",
      "                   'apply_trash_low_extremum': True,\n",
      "                   'apply_trash_not_aligned': True,\n",
      "                   'apply_trash_small_cluster': True},\n",
      " 'clean_peaks': {'alien_value_threshold': 100.0, 'mode': 'extremum_amplitude'},\n",
      " 'cluster_kargs': {'adjacency_radius_um': 50.0,\n",
      "                   'high_adjacency_radius_um': 30.0,\n",
      "                   'max_loop': 7680,\n",
      "                   'min_cluster_size': 20},\n",
      " 'cluster_method': 'pruningshears',\n",
      " 'duration': 99.99999305677824,\n",
      " 'extract_waveforms': {'wf_left_long_ms': -2.5,\n",
      "                       'wf_left_ms': -1.0,\n",
      "                       'wf_right_long_ms': 3.5,\n",
      "                       'wf_right_ms': 1.5},\n",
      " 'feature_kargs': {'adjacency_radius_um': 50.0, 'n_components_by_channel': 3},\n",
      " 'feature_method': 'pca_by_channel',\n",
      " 'make_catalogue': {'inter_sample_oversampling': False,\n",
      "                    'sparse_thresh_level2': 3,\n",
      "                    'subsample_ratio': 'auto'},\n",
      " 'memory_mode': 'memmap',\n",
      " 'mode': 'sparse',\n",
      " 'n_jobs': -1,\n",
      " 'n_spike_for_centroid': 350,\n",
      " 'noise_snippet': {'nb_snippet': 300},\n",
      " 'peak_detector': {'adjacency_radius_um': 100,\n",
      "                   'engine': 'numba',\n",
      "                   'method': 'geometrical',\n",
      "                   'peak_sign': '-',\n",
      "                   'peak_span_ms': 0.7,\n",
      "                   'relative_threshold': 6,\n",
      "                   'smooth_radius_um': None},\n",
      " 'peak_sampler': {'mode': 'rand_by_channel',\n",
      "                  'nb_max': 20000,\n",
      "                  'nb_max_by_channel': 1000},\n",
      " 'preprocessor': {'common_ref_removal': True,\n",
      "                  'engine': 'numpy',\n",
      "                  'highpass_freq': 300.0,\n",
      "                  'lowpass_freq': 6000.0,\n",
      "                  'pad_width': -1,\n",
      "                  'smooth_size': 0},\n",
      " 'sparse_threshold': 1.5}\n",
      "peeler_params\n",
      "{'chunksize': 30000, 'engine': 'geometrical'}\n",
      "estimate_signals_noise 12.785579245071858\n",
      "run_signalprocessor 77.08689299994148\n",
      "clean_peaks 0.1784889050759375\n",
      "sample_some_peaks 0.5224312439095229\n",
      "extract_some_noise 0.32272177701815963\n",
      "extract_some_features 2.917263299925253\n",
      "find_clusters 5.5060808199923486\n",
      "cache_some_waveforms 0.9469830470625311\n",
      "compute_all_centroid 12.21588181401603\n",
      "auto_split_cluster 3.169645103858784\n",
      "trash_not_aligned 1.4417828060686588\n",
      "auto_merge_cluster 3.8317945641465485\n",
      "trash_low_extremum 0.9913046550936997\n",
      "trash_small_cluster 0.9082210848573595\n",
      "make_catalogue_for_peeler 4.103331525810063\n",
      "CatalogueConstructor\n",
      "  chan_grp 0 - ch0 ch1 ch2 ... ch382 ch383\n",
      "  nb_peak_by_segment: 13716\n",
      "  some_features.shape: (11997, 1152)\n",
      "  cluster_labels 6 [-11 -1 0 ... 4 5]\n",
      "\n",
      "peeler.tun 16.745670448988676\n",
      "tridesclous run time 143.87s\n"
     ]
    }
   ],
   "source": [
    "tdc_params = {'freq_min': 300.,\n",
    "              'freq_max': 6000.,\n",
    "              'detect_threshold' : 6, \n",
    "              'common_ref_removal': True, \n",
    "              'nested_params' : {'peak_detector': {'adjacency_radius_um': 100},\n",
    "                                 'clean_peaks': {'alien_value_threshold': 100.}}\n",
    "                            }\n",
    "sorting_TDC = si.run_tridesclous(sing_rec, output_folder=out_path / 'output_TDC_new',\n",
    "         verbose=True, **tdc_params)"
   ]
  },
  {
   "cell_type": "markdown",
   "metadata": {},
   "source": [
    "## run herdingspikes  -- not working yet\n",
    "\n",
    "This is slow, run this once."
   ]
  },
  {
   "cell_type": "code",
   "execution_count": null,
   "metadata": {},
   "outputs": [],
   "source": [
    "hs_params = {'clustering_bandwidth': 5.5,\n",
    "             'clustering_alpha': 5.5, \n",
    "             'clustering_n_jobs': -1, \n",
    "             'clustering_bin_seeding': True, \n",
    "             'clustering_min_bin_freq': 16,\n",
    "             'clustering_subset': None, \n",
    "             'left_cutout_time': 0.3, \n",
    "             'right_cutout_time': 1.8,\n",
    "             'detect_threshold': 6, # default is 20\n",
    "             'probe_masked_channels': [],\n",
    "             'probe_inner_radius': 70, \n",
    "             'probe_neighbor_radius': 90, \n",
    "             'probe_event_length': 0.26,\n",
    "             'probe_peak_jitter': 0.2, \n",
    "             't_inc': 100000, \n",
    "             'num_com_centers': 1, \n",
    "             'maa': 12, \n",
    "             'ahpthr': 11, \n",
    "             'out_file_name': 'HS2_detected', \n",
    "             'decay_filtering': False, \n",
    "             'save_all': False, \n",
    "             'amp_evaluation_time': 0.4, \n",
    "             'spk_evaluation_time': 1.0, \n",
    "             'pca_ncomponents': 2, \n",
    "             'pca_whiten': True, \n",
    "             'freq_min': 300.0, \n",
    "             'freq_max': 6000.0, \n",
    "             'filter': True, \n",
    "             'pre_scale': True, \n",
    "             'pre_scale_value': 20.0, \n",
    "             'filter_duplicates': True}\n",
    "\n",
    "sorting_HS = si.run_herdingspikes(sing_rec, output_folder=out_path / 'output_herdingspikes', **hs_params)\n",
    "print(sorting_HS)"
   ]
  },
  {
   "cell_type": "markdown",
   "metadata": {},
   "source": [
    "## run spyking circus\n",
    "\n",
    "This is slow, run this once."
   ]
  },
  {
   "cell_type": "code",
   "execution_count": null,
   "metadata": {},
   "outputs": [],
   "source": [
    "sc_params = {'detect_sign': -1,\n",
    "             'adjacency_radius': 100,\n",
    "             'detect_threshold': 6,\n",
    "             'template_width_ms': 3,\n",
    "             'filter': True,\n",
    "             'merge_spikes': True,\n",
    "             'auto_merge': 0.75,\n",
    "             'num_workers': None,\n",
    "             'whitening_max_elts': 1000,\n",
    "             'clustering_max_elts': 10000}\n",
    "sorting_SC = si.run_spykingcircus(sing_rec, output_folder=out_path / 'output_spykingcircus_new', **sc_params)"
   ]
  },
  {
   "cell_type": "markdown",
   "metadata": {},
   "source": [
    "## Sorting results"
   ]
  },
  {
   "cell_type": "code",
   "execution_count": 8,
   "metadata": {},
   "outputs": [
    {
     "name": "stdout",
     "output_type": "stream",
     "text": [
      "SpykingCircusSortingExtractor: 192 units - 1 segments - 30.0kHz\n",
      "TridesclousSortingExtractor: 6 units - 1 segments - 30.0kHz\n"
     ]
    }
   ],
   "source": [
    "#sorting_HS = si.HerdingspikesSortingExtractor(out_path / 'output_herdingspikes')\n",
    "#print(sorting_HS)\n",
    "\n",
    "sorting_SC = si.SpykingCircusSortingExtractor(out_path / 'output_spykingcircus_new')\n",
    "print(sorting_SC)\n",
    "\n",
    "sorting_TDC = si.TridesclousSortingExtractor(out_path / 'output_TDC_new')\n",
    "print(sorting_TDC)"
   ]
  },
  {
   "cell_type": "markdown",
   "metadata": {},
   "source": [
    "## save sorting in an other formats"
   ]
  },
  {
   "cell_type": "code",
   "execution_count": 9,
   "metadata": {},
   "outputs": [],
   "source": [
    "save_folder = out_path / 'save_sorting'\n",
    "save_folder.mkdir(exist_ok=True)"
   ]
  },
  {
   "cell_type": "code",
   "execution_count": 10,
   "metadata": {},
   "outputs": [],
   "source": [
    "#si.NpzSortingExtractor.write_sorting(sorting_HS, save_folder / 'HS.npz')\n",
    "si.NpzSortingExtractor.write_sorting(sorting_SC, save_folder / 'SC_new.npz')\n",
    "si.NpzSortingExtractor.write_sorting(sorting_TDC, save_folder / 'TDCS3_new.npz')"
   ]
  },
  {
   "cell_type": "markdown",
   "metadata": {},
   "source": [
    "## Reimporting .npz"
   ]
  },
  {
   "cell_type": "code",
   "execution_count": 18,
   "metadata": {},
   "outputs": [],
   "source": [
    "TDC = si.NpzSortingExtractor(save_folder / 'TDCS3_new.npz')\n",
    "SC = si.NpzSortingExtractor(save_folder / 'SC_new.npz')"
   ]
  },
  {
   "cell_type": "code",
   "execution_count": 19,
   "metadata": {},
   "outputs": [
    {
     "name": "stdout",
     "output_type": "stream",
     "text": [
      "NpzSortingExtractor: 6 units - 1 segments - 30.0kHz\n",
      "  file_path: /media/storage/spikesorting_output/SONG/save_sorting/TDCS3_new.npz\n",
      "NpzSortingExtractor: 192 units - 1 segments - 30.0kHz\n",
      "  file_path: /media/storage/spikesorting_output/SONG/save_sorting/SC_new.npz\n"
     ]
    }
   ],
   "source": [
    "print(TDC)\n",
    "print(SC)"
   ]
  },
  {
   "cell_type": "markdown",
   "metadata": {},
   "source": [
    "## Extracting waveforms to work with Phy Exporter"
   ]
  },
  {
   "cell_type": "code",
   "execution_count": 13,
   "metadata": {},
   "outputs": [
    {
     "name": "stderr",
     "output_type": "stream",
     "text": [
      "extract waveforms: 100%|██████████| 101/101 [00:07<00:00, 13.82it/s]"
     ]
    },
    {
     "name": "stdout",
     "output_type": "stream",
     "text": [
      "WaveformExtractor: 384 channels - 6 units - 1 segments\n",
      "  before:30 after60 n_per_units: 500\n"
     ]
    },
    {
     "name": "stderr",
     "output_type": "stream",
     "text": [
      "\n"
     ]
    }
   ],
   "source": [
    "sing_rec_bp = si.bandpass_filter(sing_rec, freq_min=300, freq_max=6000) # apply filter\n",
    "folder_TDC = out_path / 'Phy/TDC-SONG'\n",
    "folder_TDC_wv = folder_TDC / 'waveforms_filtered_new'\n",
    "we_TDC = si.extract_waveforms(sing_rec_bp, TDC, folder_TDC_wv,\n",
    "    load_if_exists=True,\n",
    "    ms_before=1, ms_after=2., max_spikes_per_unit=500,\n",
    "    chunk_size=30000, n_jobs=6, progress_bar=True)\n",
    "print(we_TDC)"
   ]
  },
  {
   "cell_type": "code",
   "execution_count": 14,
   "metadata": {},
   "outputs": [
    {
     "name": "stdout",
     "output_type": "stream",
     "text": [
      "Warning: recording is not filtered! It's recommended to filter the recording before exporting to phy.\n",
      "You can run spikeinterface.toolkit.preprocessing.bandpass_filter(recording)\n",
      "write_binary_recording with n_jobs 6  chunk_size 30000\n"
     ]
    },
    {
     "name": "stderr",
     "output_type": "stream",
     "text": [
      "write_binary_recording: 100%|██████████| 101/101 [00:07<00:00, 13.10it/s]\n",
      "extract amplitudes: 100%|██████████| 101/101 [00:07<00:00, 14.34it/s]"
     ]
    },
    {
     "name": "stdout",
     "output_type": "stream",
     "text": [
      "Run:\n",
      "phy template-gui  /media/storage/spikesorting_output/SONG/Phy/TDC-SONG/phy-params_new/params.py\n"
     ]
    },
    {
     "name": "stderr",
     "output_type": "stream",
     "text": [
      "\n"
     ]
    }
   ],
   "source": [
    "folder_TDC_params = out_path / 'Phy/TDC-SONG/phy-params_new'\n",
    "si.export_to_phy(sing_rec_bp, TDC, folder_TDC_params, waveform_extractor=we_TDC,\n",
    "            compute_pc_features=False, compute_amplitudes=True,\n",
    "            remove_if_exists=True, chunk_size=30000, n_jobs=6, progress_bar=True)"
   ]
  },
  {
   "cell_type": "code",
   "execution_count": 20,
   "metadata": {},
   "outputs": [
    {
     "name": "stderr",
     "output_type": "stream",
     "text": [
      "extract waveforms: 100%|██████████| 101/101 [00:13<00:00,  7.57it/s]"
     ]
    },
    {
     "name": "stdout",
     "output_type": "stream",
     "text": [
      "WaveformExtractor: 384 channels - 192 units - 1 segments\n",
      "  before:30 after60 n_per_units: 500\n"
     ]
    },
    {
     "name": "stderr",
     "output_type": "stream",
     "text": [
      "\n"
     ]
    }
   ],
   "source": [
    "folder_SC = out_path / 'Phy/SC-SONG'\n",
    "folder_SC_wv = folder_SC / 'waveforms_filtered_new'\n",
    "we_SC = si.extract_waveforms(sing_rec_bp, SC, folder_SC_wv,\n",
    "    load_if_exists=True, ms_before=1, ms_after=2., max_spikes_per_unit=500,\n",
    "    n_jobs=6, chunk_size=30000, progress_bar=True)\n",
    "print(we_SC)"
   ]
  },
  {
   "cell_type": "code",
   "execution_count": 21,
   "metadata": {},
   "outputs": [
    {
     "name": "stdout",
     "output_type": "stream",
     "text": [
      "Warning: recording is not filtered! It's recommended to filter the recording before exporting to phy.\n",
      "You can run spikeinterface.toolkit.preprocessing.bandpass_filter(recording)\n",
      "write_binary_recording with n_jobs 6  chunk_size 30000\n"
     ]
    },
    {
     "name": "stderr",
     "output_type": "stream",
     "text": [
      "write_binary_recording: 100%|██████████| 101/101 [00:13<00:00,  7.59it/s]\n",
      "extract amplitudes: 100%|██████████| 101/101 [00:06<00:00, 14.81it/s]"
     ]
    },
    {
     "name": "stdout",
     "output_type": "stream",
     "text": [
      "Run:\n",
      "phy template-gui  /media/storage/spikesorting_output/SONG/Phy/SC-SONG/phy-params_new/params.py\n"
     ]
    },
    {
     "name": "stderr",
     "output_type": "stream",
     "text": [
      "\n"
     ]
    }
   ],
   "source": [
    "folder_SC_params = out_path / 'Phy/SC-SONG/phy-params_new'\n",
    "si.export_to_phy(sing_rec_bp, SC, folder_SC_params, waveform_extractor=we_SC,\n",
    "            compute_pc_features=False, compute_amplitudes=True,\n",
    "            remove_if_exists=True, chunk_size=30000, n_jobs=6, progress_bar=True)"
   ]
  },
  {
   "cell_type": "markdown",
   "metadata": {},
   "source": [
    "## compare all output"
   ]
  },
  {
   "cell_type": "code",
   "execution_count": 24,
   "metadata": {},
   "outputs": [
    {
     "data": {
      "application/vnd.jupyter.widget-view+json": {
       "model_id": "87def5d01cfa4ae5a427110623ac308a",
       "version_major": 2,
       "version_minor": 0
      },
      "text/plain": [
       "Canvas(toolbar=Toolbar(toolitems=[('Home', 'Reset original view', 'home', 'home'), ('Back', 'Back to previous …"
      ]
     },
     "metadata": {},
     "output_type": "display_data"
    },
    {
     "data": {
      "text/plain": [
       "<spikeinterface.widgets.agreementmatrix.AgreementMatrixWidget at 0x7f44a72acb80>"
      ]
     },
     "execution_count": 24,
     "metadata": {},
     "output_type": "execute_result"
    }
   ],
   "source": [
    "#comp = sc.compare_two_sorters(sorting_HS, sorting_SC, sorting1_name='HS', sorting2_name='SC')\n",
    "#sw.plot_agreement_matrix(comp)\n",
    "\n",
    "#comp = sc.compare_two_sorters(sorting_HS, sorting_TDC, sorting1_name='HS', sorting2_name='TDC')\n",
    "#sw.plot_agreement_matrix(comp)\n",
    "\n",
    "comp = si.compare_two_sorters(SC, TDC, sorting1_name='SC', sorting2_name='TDC')\n",
    "si.plot_agreement_matrix(comp)"
   ]
  },
  {
   "cell_type": "code",
   "execution_count": 25,
   "metadata": {},
   "outputs": [
    {
     "data": {
      "text/html": [
       "<div>\n",
       "<style scoped>\n",
       "    .dataframe tbody tr th:only-of-type {\n",
       "        vertical-align: middle;\n",
       "    }\n",
       "\n",
       "    .dataframe tbody tr th {\n",
       "        vertical-align: top;\n",
       "    }\n",
       "\n",
       "    .dataframe thead th {\n",
       "        text-align: right;\n",
       "    }\n",
       "</style>\n",
       "<table border=\"1\" class=\"dataframe\">\n",
       "  <thead>\n",
       "    <tr style=\"text-align: right;\">\n",
       "      <th></th>\n",
       "      <th>0</th>\n",
       "      <th>1</th>\n",
       "      <th>2</th>\n",
       "      <th>3</th>\n",
       "      <th>4</th>\n",
       "      <th>5</th>\n",
       "    </tr>\n",
       "  </thead>\n",
       "  <tbody>\n",
       "    <tr>\n",
       "      <th>0</th>\n",
       "      <td>21</td>\n",
       "      <td>40</td>\n",
       "      <td>23</td>\n",
       "      <td>35</td>\n",
       "      <td>25</td>\n",
       "      <td>11</td>\n",
       "    </tr>\n",
       "    <tr>\n",
       "      <th>1</th>\n",
       "      <td>4</td>\n",
       "      <td>2</td>\n",
       "      <td>1</td>\n",
       "      <td>2</td>\n",
       "      <td>7</td>\n",
       "      <td>5</td>\n",
       "    </tr>\n",
       "    <tr>\n",
       "      <th>10</th>\n",
       "      <td>2</td>\n",
       "      <td>8</td>\n",
       "      <td>5</td>\n",
       "      <td>6</td>\n",
       "      <td>3</td>\n",
       "      <td>4</td>\n",
       "    </tr>\n",
       "    <tr>\n",
       "      <th>100</th>\n",
       "      <td>3</td>\n",
       "      <td>8</td>\n",
       "      <td>5</td>\n",
       "      <td>12</td>\n",
       "      <td>5</td>\n",
       "      <td>9</td>\n",
       "    </tr>\n",
       "    <tr>\n",
       "      <th>101</th>\n",
       "      <td>10</td>\n",
       "      <td>10</td>\n",
       "      <td>15</td>\n",
       "      <td>11</td>\n",
       "      <td>9</td>\n",
       "      <td>8</td>\n",
       "    </tr>\n",
       "    <tr>\n",
       "      <th>...</th>\n",
       "      <td>...</td>\n",
       "      <td>...</td>\n",
       "      <td>...</td>\n",
       "      <td>...</td>\n",
       "      <td>...</td>\n",
       "      <td>...</td>\n",
       "    </tr>\n",
       "    <tr>\n",
       "      <th>95</th>\n",
       "      <td>6</td>\n",
       "      <td>18</td>\n",
       "      <td>4</td>\n",
       "      <td>5</td>\n",
       "      <td>5</td>\n",
       "      <td>5</td>\n",
       "    </tr>\n",
       "    <tr>\n",
       "      <th>96</th>\n",
       "      <td>3</td>\n",
       "      <td>8</td>\n",
       "      <td>9</td>\n",
       "      <td>4</td>\n",
       "      <td>7</td>\n",
       "      <td>6</td>\n",
       "    </tr>\n",
       "    <tr>\n",
       "      <th>97</th>\n",
       "      <td>1</td>\n",
       "      <td>6</td>\n",
       "      <td>0</td>\n",
       "      <td>2</td>\n",
       "      <td>2</td>\n",
       "      <td>5</td>\n",
       "    </tr>\n",
       "    <tr>\n",
       "      <th>98</th>\n",
       "      <td>30</td>\n",
       "      <td>54</td>\n",
       "      <td>7</td>\n",
       "      <td>35</td>\n",
       "      <td>20</td>\n",
       "      <td>19</td>\n",
       "    </tr>\n",
       "    <tr>\n",
       "      <th>99</th>\n",
       "      <td>3</td>\n",
       "      <td>11</td>\n",
       "      <td>2</td>\n",
       "      <td>4</td>\n",
       "      <td>3</td>\n",
       "      <td>4</td>\n",
       "    </tr>\n",
       "  </tbody>\n",
       "</table>\n",
       "<p>192 rows × 6 columns</p>\n",
       "</div>"
      ],
      "text/plain": [
       "      0   1   2   3   4   5\n",
       "0    21  40  23  35  25  11\n",
       "1     4   2   1   2   7   5\n",
       "10    2   8   5   6   3   4\n",
       "100   3   8   5  12   5   9\n",
       "101  10  10  15  11   9   8\n",
       "..   ..  ..  ..  ..  ..  ..\n",
       "95    6  18   4   5   5   5\n",
       "96    3   8   9   4   7   6\n",
       "97    1   6   0   2   2   5\n",
       "98   30  54   7  35  20  19\n",
       "99    3  11   2   4   3   4\n",
       "\n",
       "[192 rows x 6 columns]"
      ]
     },
     "execution_count": 25,
     "metadata": {},
     "output_type": "execute_result"
    }
   ],
   "source": [
    "comp.match_event_count"
   ]
  },
  {
   "cell_type": "code",
   "execution_count": 26,
   "metadata": {},
   "outputs": [
    {
     "data": {
      "text/html": [
       "<div>\n",
       "<style scoped>\n",
       "    .dataframe tbody tr th:only-of-type {\n",
       "        vertical-align: middle;\n",
       "    }\n",
       "\n",
       "    .dataframe tbody tr th {\n",
       "        vertical-align: top;\n",
       "    }\n",
       "\n",
       "    .dataframe thead th {\n",
       "        text-align: right;\n",
       "    }\n",
       "</style>\n",
       "<table border=\"1\" class=\"dataframe\">\n",
       "  <thead>\n",
       "    <tr style=\"text-align: right;\">\n",
       "      <th></th>\n",
       "      <th>0</th>\n",
       "      <th>1</th>\n",
       "      <th>2</th>\n",
       "      <th>3</th>\n",
       "      <th>4</th>\n",
       "      <th>5</th>\n",
       "    </tr>\n",
       "  </thead>\n",
       "  <tbody>\n",
       "    <tr>\n",
       "      <th>0</th>\n",
       "      <td>0.006703</td>\n",
       "      <td>0.009412</td>\n",
       "      <td>0.011564</td>\n",
       "      <td>0.009946</td>\n",
       "      <td>0.008890</td>\n",
       "      <td>0.004077</td>\n",
       "    </tr>\n",
       "    <tr>\n",
       "      <th>1</th>\n",
       "      <td>0.002455</td>\n",
       "      <td>0.000723</td>\n",
       "      <td>0.002041</td>\n",
       "      <td>0.000985</td>\n",
       "      <td>0.005348</td>\n",
       "      <td>0.004227</td>\n",
       "    </tr>\n",
       "    <tr>\n",
       "      <th>10</th>\n",
       "      <td>0.001181</td>\n",
       "      <td>0.002833</td>\n",
       "      <td>0.009107</td>\n",
       "      <td>0.002871</td>\n",
       "      <td>0.002180</td>\n",
       "      <td>0.003208</td>\n",
       "    </tr>\n",
       "    <tr>\n",
       "      <th>100</th>\n",
       "      <td>0.001728</td>\n",
       "      <td>0.002790</td>\n",
       "      <td>0.008446</td>\n",
       "      <td>0.005642</td>\n",
       "      <td>0.003529</td>\n",
       "      <td>0.007004</td>\n",
       "    </tr>\n",
       "    <tr>\n",
       "      <th>101</th>\n",
       "      <td>0.004558</td>\n",
       "      <td>0.003003</td>\n",
       "      <td>0.014327</td>\n",
       "      <td>0.004242</td>\n",
       "      <td>0.004792</td>\n",
       "      <td>0.004569</td>\n",
       "    </tr>\n",
       "    <tr>\n",
       "      <th>...</th>\n",
       "      <td>...</td>\n",
       "      <td>...</td>\n",
       "      <td>...</td>\n",
       "      <td>...</td>\n",
       "      <td>...</td>\n",
       "      <td>...</td>\n",
       "    </tr>\n",
       "    <tr>\n",
       "      <th>95</th>\n",
       "      <td>0.003411</td>\n",
       "      <td>0.006243</td>\n",
       "      <td>0.006462</td>\n",
       "      <td>0.002315</td>\n",
       "      <td>0.003465</td>\n",
       "      <td>0.003802</td>\n",
       "    </tr>\n",
       "    <tr>\n",
       "      <th>96</th>\n",
       "      <td>0.001803</td>\n",
       "      <td>0.002862</td>\n",
       "      <td>0.017442</td>\n",
       "      <td>0.001939</td>\n",
       "      <td>0.005212</td>\n",
       "      <td>0.004934</td>\n",
       "    </tr>\n",
       "    <tr>\n",
       "      <th>97</th>\n",
       "      <td>0.000655</td>\n",
       "      <td>0.002257</td>\n",
       "      <td>0.000000</td>\n",
       "      <td>0.001038</td>\n",
       "      <td>0.001654</td>\n",
       "      <td>0.004638</td>\n",
       "    </tr>\n",
       "    <tr>\n",
       "      <th>98</th>\n",
       "      <td>0.007870</td>\n",
       "      <td>0.010967</td>\n",
       "      <td>0.002599</td>\n",
       "      <td>0.008319</td>\n",
       "      <td>0.005706</td>\n",
       "      <td>0.005625</td>\n",
       "    </tr>\n",
       "    <tr>\n",
       "      <th>99</th>\n",
       "      <td>0.001701</td>\n",
       "      <td>0.003804</td>\n",
       "      <td>0.003210</td>\n",
       "      <td>0.001849</td>\n",
       "      <td>0.002073</td>\n",
       "      <td>0.003035</td>\n",
       "    </tr>\n",
       "  </tbody>\n",
       "</table>\n",
       "<p>192 rows × 6 columns</p>\n",
       "</div>"
      ],
      "text/plain": [
       "            0         1         2         3         4         5\n",
       "0    0.006703  0.009412  0.011564  0.009946  0.008890  0.004077\n",
       "1    0.002455  0.000723  0.002041  0.000985  0.005348  0.004227\n",
       "10   0.001181  0.002833  0.009107  0.002871  0.002180  0.003208\n",
       "100  0.001728  0.002790  0.008446  0.005642  0.003529  0.007004\n",
       "101  0.004558  0.003003  0.014327  0.004242  0.004792  0.004569\n",
       "..        ...       ...       ...       ...       ...       ...\n",
       "95   0.003411  0.006243  0.006462  0.002315  0.003465  0.003802\n",
       "96   0.001803  0.002862  0.017442  0.001939  0.005212  0.004934\n",
       "97   0.000655  0.002257  0.000000  0.001038  0.001654  0.004638\n",
       "98   0.007870  0.010967  0.002599  0.008319  0.005706  0.005625\n",
       "99   0.001701  0.003804  0.003210  0.001849  0.002073  0.003035\n",
       "\n",
       "[192 rows x 6 columns]"
      ]
     },
     "execution_count": 26,
     "metadata": {},
     "output_type": "execute_result"
    }
   ],
   "source": [
    "comp.agreement_scores"
   ]
  },
  {
   "cell_type": "markdown",
   "metadata": {},
   "source": [
    "## some visualizations - TDC"
   ]
  },
  {
   "cell_type": "code",
   "execution_count": 27,
   "metadata": {},
   "outputs": [
    {
     "data": {
      "application/vnd.jupyter.widget-view+json": {
       "model_id": "6c263b476e504c918e72c313d6d98251",
       "version_major": 2,
       "version_minor": 0
      },
      "text/plain": [
       "Canvas(toolbar=Toolbar(toolitems=[('Home', 'Reset original view', 'home', 'home'), ('Back', 'Back to previous …"
      ]
     },
     "metadata": {},
     "output_type": "display_data"
    },
    {
     "data": {
      "text/plain": [
       "<spikeinterface.widgets.rasters.RasterWidget at 0x7f44a726cf40>"
      ]
     },
     "execution_count": 27,
     "metadata": {},
     "output_type": "execute_result"
    }
   ],
   "source": [
    "si.plot_rasters(TDC)"
   ]
  },
  {
   "cell_type": "code",
   "execution_count": 34,
   "metadata": {},
   "outputs": [
    {
     "data": {
      "application/vnd.jupyter.widget-view+json": {
       "model_id": "55ac1dde9b8a4636a6a56105f08e8b40",
       "version_major": 2,
       "version_minor": 0
      },
      "text/plain": [
       "Canvas(toolbar=Toolbar(toolitems=[('Home', 'Reset original view', 'home', 'home'), ('Back', 'Back to previous …"
      ]
     },
     "metadata": {},
     "output_type": "display_data"
    },
    {
     "data": {
      "text/plain": [
       "<spikeinterface.widgets.unitwaveforms.UnitWaveformsWidget at 0x7f1a282999d0>"
      ]
     },
     "execution_count": 34,
     "metadata": {},
     "output_type": "execute_result"
    }
   ],
   "source": [
    "TDC_units_ID = TDC.unit_ids[:] # I couldnt use just unit 2, was giving me an into has not length error (see below)\n",
    "si.plot_unit_waveforms(we_TDC, \n",
    "                       #channel_ids=TDC_units_ID\n",
    "                       max_channels=12, \n",
    "                       #radius_um=60\n",
    "                      )"
   ]
  },
  {
   "cell_type": "code",
   "execution_count": 35,
   "metadata": {},
   "outputs": [
    {
     "data": {
      "application/vnd.jupyter.widget-view+json": {
       "model_id": "af4d6dfbe5564e27a5d84a752ae45db3",
       "version_major": 2,
       "version_minor": 0
      },
      "text/plain": [
       "Canvas(toolbar=Toolbar(toolitems=[('Home', 'Reset original view', 'home', 'home'), ('Back', 'Back to previous …"
      ]
     },
     "metadata": {},
     "output_type": "display_data"
    },
    {
     "data": {
      "text/plain": [
       "<spikeinterface.widgets.isidistribution.ISIDistributionWidget at 0x7f1a6559a3a0>"
      ]
     },
     "execution_count": 35,
     "metadata": {},
     "output_type": "execute_result"
    }
   ],
   "source": [
    "si.plot_isi_distribution(TDC, \n",
    "                         bins=100, \n",
    "                         window=1\n",
    "                        )"
   ]
  },
  {
   "cell_type": "code",
   "execution_count": null,
   "metadata": {},
   "outputs": [],
   "source": [
    "si.get_unit_colors(TDC)"
   ]
  },
  {
   "cell_type": "code",
   "execution_count": 29,
   "metadata": {},
   "outputs": [
    {
     "data": {
      "application/vnd.jupyter.widget-view+json": {
       "model_id": "c9cb7a0c08dc490ab58a2b39011721cd",
       "version_major": 2,
       "version_minor": 0
      },
      "text/plain": [
       "Canvas(toolbar=Toolbar(toolitems=[('Home', 'Reset original view', 'home', 'home'), ('Back', 'Back to previous …"
      ]
     },
     "metadata": {},
     "output_type": "display_data"
    }
   ],
   "source": [
    "colors = {\n",
    "    0: 'black',\n",
    "    1: 'green',\n",
    "    2: 'red',\n",
    "    3: 'blue',\n",
    "    4: 'yellow',\n",
    "    5: 'grey',\n",
    "    6: 'purple',\n",
    "    7: 'orange',\n",
    "    8: 'lightblue'}\n",
    "w_depth = si.plot_units_depth_vs_amplitude(we_TDC,\n",
    "                                          unit_colors=colors\n",
    "                                          )\n",
    "w_depth.ax.set_aspect(0.1)"
   ]
  },
  {
   "cell_type": "code",
   "execution_count": 33,
   "metadata": {},
   "outputs": [
    {
     "data": {
      "application/vnd.jupyter.widget-view+json": {
       "model_id": "1b76fc14990e4dcaa1c56f6ec7546b72",
       "version_major": 2,
       "version_minor": 0
      },
      "text/plain": [
       "Canvas(toolbar=Toolbar(toolitems=[('Home', 'Reset original view', 'home', 'home'), ('Back', 'Back to previous …"
      ]
     },
     "metadata": {},
     "output_type": "display_data"
    },
    {
     "data": {
      "text/plain": [
       "<spikeinterface.widgets.amplitudes.AmplitudeDistributionWidget at 0x7f44c779b850>"
      ]
     },
     "execution_count": 33,
     "metadata": {},
     "output_type": "execute_result"
    }
   ],
   "source": [
    "si.plot_amplitudes_distribution(we_TDC)"
   ]
  },
  {
   "cell_type": "markdown",
   "metadata": {},
   "source": [
    " ## some visualizations - SC (heavier so won't plot everything) "
   ]
  },
  {
   "cell_type": "code",
   "execution_count": 32,
   "metadata": {},
   "outputs": [
    {
     "data": {
      "application/vnd.jupyter.widget-view+json": {
       "model_id": "4e89935d00474e17a9d50a8c528a35f7",
       "version_major": 2,
       "version_minor": 0
      },
      "text/plain": [
       "Canvas(toolbar=Toolbar(toolitems=[('Home', 'Reset original view', 'home', 'home'), ('Back', 'Back to previous …"
      ]
     },
     "metadata": {},
     "output_type": "display_data"
    }
   ],
   "source": [
    "w_depth_SC = si.plot_units_depth_vs_amplitude(we_SC)\n",
    "w_depth_SC.ax.set_aspect(0.1)"
   ]
  }
 ],
 "metadata": {
  "kernelspec": {
   "display_name": "Python 3",
   "language": "python",
   "name": "python3"
  },
  "language_info": {
   "codemirror_mode": {
    "name": "ipython",
    "version": 3
   },
   "file_extension": ".py",
   "mimetype": "text/x-python",
   "name": "python",
   "nbconvert_exporter": "python",
   "pygments_lexer": "ipython3",
   "version": "3.8.10"
  }
 },
 "nbformat": 4,
 "nbformat_minor": 2
}
