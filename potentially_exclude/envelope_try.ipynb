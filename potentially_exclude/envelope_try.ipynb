{
 "cells": [
  {
   "cell_type": "markdown",
   "metadata": {
    "isInteractiveWindowMessageCell": true
   },
   "source": [
    "Connected to SI-0_100_2 (Python 3.10.12)"
   ]
  },
  {
   "cell_type": "code",
   "execution_count": 1,
   "metadata": {},
   "outputs": [
    {
     "name": "stdout",
     "output_type": "stream",
     "text": [
      "Using matplotlib backend: <object object at 0x7e3d407cf660>\n"
     ]
    }
   ],
   "source": [
    "import numpy as np\n",
    "import spikeinterface.full as si\n",
    "import matplotlib.pyplot as plt\n",
    "import elephant as elep\n",
    "from ap_envelope import make_ap_envelope\n",
    "%matplotlib auto"
   ]
  },
  {
   "cell_type": "code",
   "execution_count": null,
   "metadata": {},
   "outputs": [],
   "source": [
    "# cd /nas/Neuropixel_Recordings/AreaX-LMAN/Imp_07_03_2022/Recordings/Rec_13_03_2022_g0_from_7200_to_14400s/"
   ]
  },
  {
   "cell_type": "code",
   "execution_count": null,
   "metadata": {},
   "outputs": [],
   "source": [
    "# cd /nas/Neuropixel_Recordings/AreaX-LMAN/Imp_29_11_2022/Recordings/Rec_2_30_11_2022_morning_nap_g0/"
   ]
  },
  {
   "cell_type": "code",
   "execution_count": 3,
   "metadata": {},
   "outputs": [
    {
     "name": "stdout",
     "output_type": "stream",
     "text": [
      "/nas/Neuropixel_Recordings/AreaX-LMAN/Imp_16_08_2022/Recordings/Rec_18_08_2022_g0\n"
     ]
    },
    {
     "name": "stderr",
     "output_type": "stream",
     "text": [
      "/home/eduarda/.virtualenvs/SI-0_100_2/lib/python3.10/site-packages/IPython/core/magics/osm.py:417: UserWarning: This is now an optional IPython functionality, setting dhist requires you to install the `pickleshare` library.\n",
      "  self.shell.db['dhist'] = compress_dhist(dhist)[-100:]\n"
     ]
    }
   ],
   "source": [
    "cd /nas/Neuropixel_Recordings/AreaX-LMAN/Imp_16_08_2022/Recordings/Rec_18_08_2022_g0/"
   ]
  },
  {
   "cell_type": "code",
   "execution_count": 4,
   "metadata": {},
   "outputs": [],
   "source": [
    "rec = si.read_spikeglx('.', stream_id='imec0.ap')"
   ]
  },
  {
   "cell_type": "code",
   "execution_count": 5,
   "metadata": {},
   "outputs": [],
   "source": [
    "target_channels = ['imec0.ap#AP70', 'imec0.ap#AP80', 'imec0.ap#AP90']\n",
    "start_time = 0*rec.get_sampling_frequency() \n",
    "end_frame = 50*rec.get_sampling_frequency() "
   ]
  },
  {
   "cell_type": "code",
   "execution_count": 6,
   "metadata": {},
   "outputs": [],
   "source": [
    "ps_rec = si.phase_shift(rec)"
   ]
  },
  {
   "cell_type": "code",
   "execution_count": 7,
   "metadata": {},
   "outputs": [],
   "source": [
    "ps_channel_sliced = ps_rec.channel_slice(channel_ids=target_channels)\n",
    "\n",
    "ps_rec_time_sliced = ps_channel_sliced.frame_slice(start_frame=start_time, end_frame=end_frame)"
   ]
  },
  {
   "cell_type": "code",
   "execution_count": 8,
   "metadata": {},
   "outputs": [],
   "source": [
    "zero_centered = si.bandpass_filter(ps_rec_time_sliced,\n",
    "                        freq_min=300,\n",
    "                        freq_max=6000,\n",
    "                    )"
   ]
  },
  {
   "cell_type": "code",
   "execution_count": 9,
   "metadata": {},
   "outputs": [],
   "source": [
    "trace_rectified = si.rectify(zero_centered)"
   ]
  },
  {
   "cell_type": "code",
   "execution_count": 10,
   "metadata": {},
   "outputs": [],
   "source": [
    "lp_freq = 500\n",
    "\n",
    "lp_trace = si.gaussian_filter(trace_rectified, freq_min=None, freq_max=lp_freq)"
   ]
  },
  {
   "cell_type": "code",
   "execution_count": 11,
   "metadata": {},
   "outputs": [],
   "source": [
    "FOI = 1000 # frequency of interest\n",
    "\n",
    "margin_ms = 3000\n",
    "\n",
    "ds_factor = int(rec.get_sampling_frequency() / FOI)\n",
    "\n",
    "samp_period = rec.get_sampling_frequency()/ds_factor\n",
    "\n",
    "ds = si.resample(lp_trace, samp_period, margin_ms=margin_ms)"
   ]
  },
  {
   "cell_type": "code",
   "execution_count": 12,
   "metadata": {},
   "outputs": [
    {
     "name": "stdout",
     "output_type": "stream",
     "text": [
      "write_binary_recording with n_jobs = 40 and chunk_size = 3000\n"
     ]
    },
    {
     "data": {
      "application/vnd.jupyter.widget-view+json": {
       "model_id": "f562b713dba94a19ac004e7d092349c1",
       "version_major": 2,
       "version_minor": 0
      },
      "text/plain": [
       "write_binary_recording:   0%|          | 0/17 [00:00<?, ?it/s]"
      ]
     },
     "metadata": {},
     "output_type": "display_data"
    }
   ],
   "source": [
    "ds_saved = ds.save(folder='/home/eduarda/python-related/github-repos/test_envelope1/', n_jobs=-1, chunk_duration='3s')"
   ]
  },
  {
   "cell_type": "code",
   "execution_count": 13,
   "metadata": {},
   "outputs": [],
   "source": [
    "def save_envelope(trace, fs, lowpass=500, ds=1000, zero_center=True, visualize_traces=True):    \n",
    "    ds_factor = int(fs / ds)\n",
    "    original_trace = trace.ravel()\n",
    "    if zero_center:\n",
    "        original_trace = original_trace-np.mean(original_trace) # Make sure is 0-centered\n",
    "    # print('original', original_trace)\n",
    "    \n",
    "    # Rectify\n",
    "    trace_rectified = np.abs(original_trace)\n",
    "    \n",
    "    # Low pass\n",
    "    lp_trace = elep.signal_processing.butter(\n",
    "        signal=trace_rectified,\n",
    "        highpass_frequency=None,\n",
    "        lowpass_frequency=lowpass,\n",
    "        sampling_frequency=fs\n",
    "    )\n",
    "\n",
    "    # Downsample\n",
    "    ds_trace = lp_trace[::ds_factor]\n",
    "    real_ds_fs = fs/ds_factor\n",
    "\n",
    "    if visualize_traces:\n",
    "            \n",
    "        plt.figure()\n",
    "        \n",
    "        plt.plot(np.linspace(0,1,\n",
    "                             len(original_trace[:int(fs)])), \n",
    "                 original_trace[:int(fs)], c='blue')\n",
    "        \n",
    "        plt.plot(np.linspace(0,1,\n",
    "                              len(trace_rectified[:int(fs)])), \n",
    "                  trace_rectified[:int(fs)], c='green')\n",
    "        \n",
    "        \n",
    "        plt.plot(np.linspace(0,1,\n",
    "                              len(ds_trace[:int(real_ds_fs)])), \n",
    "                  ds_trace[:int(real_ds_fs)], c='red')#\n",
    "        \n",
    "        plt.show()\n",
    "    \n",
    "    return real_ds_fs, ds_trace"
   ]
  },
  {
   "cell_type": "code",
   "execution_count": 14,
   "metadata": {},
   "outputs": [],
   "source": [
    "ap_envelope = make_ap_envelope(ps_rec_time_sliced, ds_rate=FOI, lowpass_freq=lp_freq, margin_ms=margin_ms)\n"
   ]
  },
  {
   "cell_type": "code",
   "execution_count": 16,
   "metadata": {},
   "outputs": [
    {
     "name": "stdout",
     "output_type": "stream",
     "text": [
      "write_binary_recording with n_jobs = 40 and chunk_size = 3000\n"
     ]
    },
    {
     "data": {
      "application/vnd.jupyter.widget-view+json": {
       "model_id": "ba2932d294b84c83990dcd78929ad948",
       "version_major": 2,
       "version_minor": 0
      },
      "text/plain": [
       "write_binary_recording:   0%|          | 0/17 [00:00<?, ?it/s]"
      ]
     },
     "metadata": {},
     "output_type": "display_data"
    }
   ],
   "source": [
    "ds_saved2 = ds.save(folder='/home/eduarda/python-related/github-repos/test_envelope2/', n_jobs=-1, chunk_duration='3s')\n",
    "ds_saved2_fs = ds_saved2.get_sampling_frequency()"
   ]
  },
  {
   "cell_type": "code",
   "execution_count": 21,
   "metadata": {},
   "outputs": [],
   "source": [
    "beg = 40\n",
    "end = 45\n",
    "target_channel = target_channels[1]\n",
    "\n",
    "\n",
    "original_trace = zero_centered.frame_slice(start_frame=beg*zero_centered.get_sampling_frequency(), end_frame=end*zero_centered.get_sampling_frequency()).channel_slice([target_channel]).get_traces(return_scaled=True)\n",
    "trace_rectified2 = trace_rectified.frame_slice(start_frame=beg*trace_rectified.get_sampling_frequency(), end_frame=end*trace_rectified.get_sampling_frequency()).channel_slice([target_channel]).get_traces(return_scaled=True)\n",
    "\n",
    "ds_trace = ds.frame_slice(start_frame=beg*ds.get_sampling_frequency(), end_frame=end*ds.get_sampling_frequency()).channel_slice([target_channel]).get_traces(return_scaled=True)\n",
    "ds_saved_trace  = ds_saved.frame_slice(start_frame=beg*ds_saved.get_sampling_frequency(), end_frame=end*ds_saved.get_sampling_frequency()).channel_slice([target_channel]).get_traces(return_scaled=True)\n",
    "\n",
    "func_trace = ap_envelope.frame_slice(start_frame=beg*ap_envelope.get_sampling_frequency(), end_frame=end*ap_envelope.get_sampling_frequency()).channel_slice([target_channel]).get_traces(return_scaled=True)\n",
    "ds_saved_trace2  = ds_saved2.frame_slice(start_frame=beg*ds_saved2.get_sampling_frequency(), end_frame=end*ds_saved2.get_sampling_frequency()).channel_slice([target_channel]).get_traces(return_scaled=True)\n",
    "\n",
    "r, ds_trace2 = save_envelope(ps_rec_time_sliced.channel_slice([target_channel]).get_traces(return_scaled=True), fs=ps_rec_time_sliced.get_sampling_frequency(), ds=FOI, lowpass=lp_freq, visualize_traces=False)"
   ]
  },
  {
   "cell_type": "code",
   "execution_count": 22,
   "metadata": {},
   "outputs": [
    {
     "data": {
      "text/plain": [
       "<matplotlib.legend.Legend at 0x7b9fe0b5d6f0>"
      ]
     },
     "execution_count": 22,
     "metadata": {},
     "output_type": "execute_result"
    }
   ],
   "source": [
    "f2, ax2 = plt.subplots()\n",
    "\n",
    "ax2.plot(np.linspace(beg,end,\n",
    "                    len(original_trace)), \n",
    "        original_trace, c='blue', label='original'\n",
    "        # alpha=0.\n",
    "        )\n",
    "\n",
    "ax2.plot(np.linspace(beg,end,\n",
    "                    len(trace_rectified2)), \n",
    "        trace_rectified2, c='green', label='rectified'\n",
    "        # alpha=0.5\n",
    "        ) \n",
    "\n",
    "ax2.plot(np.linspace(beg,end,\n",
    "                    len(ds_trace)), \n",
    "                    ds_trace, \n",
    "                    c='red', \n",
    "                    label='not saved ds wo class') # not saved ds\n",
    "\n",
    "ax2.plot(np.linspace(beg,end,\n",
    "                    len(ds_saved_trace)),\n",
    "                    ds_saved_trace, \n",
    "                    c='purple', label='saved ds wo class'\n",
    "                    ) # saved ds\n",
    "\n",
    "ax2.plot(np.linspace(beg,end,\n",
    "                    len(func_trace)), \n",
    "        func_trace, c='grey', label='not saved ds w class') # mean shifted\n",
    "\n",
    "ax2.plot(np.linspace(beg,end,\n",
    "                    len(ds_saved_trace2)),\n",
    "                    ds_saved_trace2, c='orange', label='saved ds w class') # saved ds\n",
    "\n",
    "ax2.plot(np.linspace(beg,end,\n",
    "                    len(ds_trace2[int(beg*r):int(end*r)])),\n",
    "                    ds_trace2[int(beg*r):int(end*r)], \n",
    "                    c='yellow', \n",
    "                    label='old comp') # old computation\n",
    "\n",
    "ax2.legend()"
   ]
  },
  {
   "cell_type": "code",
   "execution_count": null,
   "metadata": {},
   "outputs": [],
   "source": []
  }
 ],
 "metadata": {
  "kernelspec": {
   "display_name": "SI-0_100_2",
   "language": "python",
   "name": "python3"
  },
  "language_info": {
   "codemirror_mode": {
    "name": "ipython",
    "version": 3
   },
   "file_extension": ".py",
   "mimetype": "text/x-python",
   "name": "python",
   "nbconvert_exporter": "python",
   "pygments_lexer": "ipython3",
   "version": "3.10.12"
  }
 },
 "nbformat": 4,
 "nbformat_minor": 2
}
