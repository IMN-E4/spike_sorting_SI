{
 "cells": [
  {
   "cell_type": "code",
   "execution_count": 1,
   "metadata": {},
   "outputs": [],
   "source": [
    "import ephyviewer\n",
    "\n",
    "import matplotlib.pyplot as plt\n",
    "from pathlib import Path\n",
    "import spikeinterface.full as si\n",
    "from probeinterface import read_spikeglx\n",
    "from probeinterface.plotting import plot_probe\n",
    "import numpy as np\n",
    "%matplotlib widget"
   ]
  },
  {
   "cell_type": "code",
   "execution_count": 10,
   "metadata": {},
   "outputs": [
    {
     "name": "stdout",
     "output_type": "stream",
     "text": [
      "SpikeGLXRecordingExtractor: 9 channels - 1 segments - 20.0kHz - 3881.356s\n"
     ]
    }
   ],
   "source": [
    "# Paths\n",
    "base_folder = Path('/home/arthur/Documents/SpikeSorting/Test_20210518/') \n",
    "data_folder = base_folder / 'raw_awake'\n",
    "recording_nidq = si.SpikeGLXRecordingExtractor(data_folder, stream_id='nidq') # microphone\n",
    "print(recording_nidq)"
   ]
  },
  {
   "cell_type": "code",
   "execution_count": 3,
   "metadata": {},
   "outputs": [],
   "source": [
    "fs = recording_nidq.get_sampling_frequency()\n",
    "max_time = recording_nidq.get_total_duration()"
   ]
  },
  {
   "cell_type": "code",
   "execution_count": 4,
   "metadata": {},
   "outputs": [],
   "source": [
    "trace = recording_nidq.get_traces(segment_index=0, channel_ids=['nidq#XA0'])"
   ]
  },
  {
   "cell_type": "code",
   "execution_count": 20,
   "metadata": {},
   "outputs": [
    {
     "data": {
      "text/plain": [
       "Text(28.222222222222214, 0.5, 'Amplitude (uV)')"
      ]
     },
     "execution_count": 20,
     "metadata": {},
     "output_type": "execute_result"
    }
   ],
   "source": [
    "plt.plot(np.linspace(0, max_time, len(trace)), trace)\n",
    "plt.xlabel('Time (s)')\n",
    "plt.ylabel('Amplitude (uV)')"
   ]
  },
  {
   "cell_type": "code",
   "execution_count": 8,
   "metadata": {},
   "outputs": [],
   "source": [
    "t_start = int(1000*fs)\n",
    "t_end = int(1030*fs)\n",
    "\n",
    "roi = trace[t_start:t_end]\n",
    "duration_roi = np.linspace(t_start, t_end, len(roi))"
   ]
  },
  {
   "cell_type": "code",
   "execution_count": null,
   "metadata": {},
   "outputs": [],
   "source": [
    "plt.plot(duration_roi/fs, roi)"
   ]
  },
  {
   "cell_type": "markdown",
   "metadata": {},
   "source": [
    "The benefit of a longer FFT is that you will have more frequency resolution. The number of FFT bins, the discrete fequency interval of the transform will be N/2. So the frequency resolution of each bin will be the sample frequency Fs x 2/N.\n",
    "Large FFT sizes produce high frequency resolution but poor time resolution while low FFT sizes have the opposite effect.  \n",
    "Overlap processing can be used to provide high resolution in both the frequency and time axis.  For example, if a signal contains two discrete tones separated in frequency, only one of which is on at a time, it is difficult to discern the relative timing of each tone because both frequencies are often contained within a single FFT size time series block.  If we perform an FFT and, instead of moving forward a whole FFT size block in the series, move forward only a small amount then we can isolate the pulse timing for each tone. "
   ]
  },
  {
   "cell_type": "code",
   "execution_count": 9,
   "metadata": {},
   "outputs": [
    {
     "data": {
      "application/vnd.jupyter.widget-view+json": {
       "model_id": "5fcd2615faf64435a17f7019d9f3b359",
       "version_major": 2,
       "version_minor": 0
      },
      "text/plain": [
       "Canvas(toolbar=Toolbar(toolitems=[('Home', 'Reset original view', 'home', 'home'), ('Back', 'Back to previous …"
      ]
     },
     "metadata": {},
     "output_type": "display_data"
    },
    {
     "name": "stderr",
     "output_type": "stream",
     "text": [
      "<ipython-input-9-7b381c69d823>:21: UserWarning: FixedFormatter should only be used together with FixedLocator\n",
      "  ax.set_xticklabels(new_ticks)\n"
     ]
    },
    {
     "data": {
      "text/plain": [
       "[Text(0.0, 0, '1000.00'),\n",
       " Text(5.0, 0, '1005.00'),\n",
       " Text(10.0, 0, '1010.00'),\n",
       " Text(15.0, 0, '1015.00'),\n",
       " Text(20.0, 0, '1020.00'),\n",
       " Text(25.0, 0, '1025.00'),\n",
       " Text(30.0, 0, '1030.00')]"
      ]
     },
     "execution_count": 9,
     "metadata": {},
     "output_type": "execute_result"
    }
   ],
   "source": [
    "from matplotlib.ticker import FormatStrFormatter\n",
    "fig, ax = plt.subplots(figsize=(15,5))\n",
    "NFFT = 512\n",
    "spec, freq, t, im = plt.specgram(roi.ravel(),\n",
    "            Fs=fs, \n",
    "            NFFT=NFFT, \n",
    "            noverlap=NFFT*0.90, \n",
    "            scale_by_freq=True, \n",
    "            mode=\"psd\", \n",
    "            pad_to=915, \n",
    "            cmap=\"inferno\", \n",
    "            vmin=-30 , \n",
    "            vmax=40,\n",
    "            scale='dB',\n",
    "            detrend='mean')\n",
    "# plt.xticks(duration_roi, duration_roi, rotation='vertical')\n",
    "ax.set_ylabel(\"Frequency (Hz)\")\n",
    "ax.locator_params(axis=\"x\", nbins=8)\n",
    "ticks = ax.get_xticks().tolist()\n",
    "new_ticks = [\"%.2f\"%item for item in np.linspace(duration_roi[0], duration_roi[-1], len(ticks))/fs]\n",
    "ax.set_xticklabels(new_ticks)\n"
   ]
  },
  {
   "cell_type": "code",
   "execution_count": null,
   "metadata": {},
   "outputs": [],
   "source": [
    "sig_source2 = ephyviewer.FromSpikeinterfaceRecordingSource(recording=recording_nidq) # microphone"
   ]
  },
  {
   "cell_type": "code",
   "execution_count": null,
   "metadata": {},
   "outputs": [],
   "source": [
    "# App and viewer objects\n",
    "app = ephyviewer.mkQApp()\n",
    "win = ephyviewer.MainViewer(debug=True, show_auto_scale=True)\n",
    "view2 = ephyviewer.SpecgramViewer(source=sig_source2, name='signals nidq') # Trace of Microphone\n",
    "win.add_view(view2)"
   ]
  },
  {
   "cell_type": "code",
   "execution_count": null,
   "metadata": {},
   "outputs": [],
   "source": [
    "# Display\n",
    "win.show()\n",
    "app.exec_()"
   ]
  },
  {
   "cell_type": "code",
   "execution_count": null,
   "metadata": {},
   "outputs": [],
   "source": [
    "ephyviewer.SpecgramViewer"
   ]
  }
 ],
 "metadata": {
  "interpreter": {
   "hash": "e4b18cd8b4a6ca855832df2e41d6c57aee87f5f8506d05439d9f14871154a945"
  },
  "kernelspec": {
   "display_name": "Python 3.8.10 64-bit ('spikeinterface': venv)",
   "name": "python3"
  },
  "language_info": {
   "codemirror_mode": {
    "name": "ipython",
    "version": 3
   },
   "file_extension": ".py",
   "mimetype": "text/x-python",
   "name": "python",
   "nbconvert_exporter": "python",
   "pygments_lexer": "ipython3",
   "version": "3.8.10"
  },
  "orig_nbformat": 4
 },
 "nbformat": 4,
 "nbformat_minor": 2
}
